{
  "cells": [
    {
      "cell_type": "markdown",
      "metadata": {
        "id": "guE34D3Fj2R9"
      },
      "source": [
        "# **Homework 1: COVID-19 Cases Prediction (Regression)**"
      ]
    },
    {
      "cell_type": "markdown",
      "metadata": {
        "id": "V57zhcTp1Xxb"
      },
      "source": [
        "Objectives:\n",
        "* Solve a regression problem with deep neural networks (DNN).\n",
        "* Understand basic DNN training tips.\n",
        "* Familiarize yourself with PyTorch.\n",
        "\n",
        "If you have any questions, please contact the TAs via TA hours, NTU COOL, or email to mlta-2022-spring@googlegroups.com"
      ]
    },
    {
      "cell_type": "markdown",
      "metadata": {
        "id": "Tm2aXcb-j9Fc"
      },
      "source": [
        "# Download data\n",
        "If the Google Drive links below do not work, you can download data from [Kaggle](https://www.kaggle.com/t/a3ebd5b5542f0f55e828d4f00de8e59a), and upload data manually to the workspace."
      ]
    },
    {
      "cell_type": "code",
      "execution_count": 6,
      "metadata": {
        "id": "YPmfl-awlKZA"
      },
      "outputs": [
        {
          "name": "stdout",
          "output_type": "stream",
          "text": [
            "zsh:1: command not found: gdown\n",
            "zsh:1: command not found: gdown\n"
          ]
        }
      ],
      "source": [
        "!gdown --id '1kLSW_-cW2Huj7bh84YTdimGBOJaODiOS' --output covid.train.csv\n",
        "!gdown --id '1iiI5qROrAhZn-o4FPqsE97bMzDEFvIdg' --output covid.test.csv"
      ]
    },
    {
      "cell_type": "markdown",
      "metadata": {
        "id": "igqIMEgu64-F"
      },
      "source": [
        "# Import packages"
      ]
    },
    {
      "cell_type": "code",
      "execution_count": 132,
      "metadata": {
        "id": "xybQNYCXYu13"
      },
      "outputs": [],
      "source": [
        "# Numerical Operations\n",
        "import math\n",
        "import numpy as np\n",
        "\n",
        "# Reading/Writing Data\n",
        "import pandas as pd\n",
        "import os\n",
        "import csv\n",
        "\n",
        "# For Progress Bar\n",
        "from tqdm import tqdm\n",
        "\n",
        "# Pytorch\n",
        "import torch\n",
        "import torch.nn as nn\n",
        "from torch.utils.data import Dataset, DataLoader, random_split\n",
        "\n",
        "# For plotting learning curve\n",
        "from torch.utils.tensorboard import SummaryWriter"
      ]
    },
    {
      "cell_type": "markdown",
      "metadata": {
        "id": "fTAVqRfc2KK3"
      },
      "source": [
        "# Some Utility Functions\n",
        "\n",
        "You do not need to modify this part."
      ]
    },
    {
      "cell_type": "code",
      "execution_count": 153,
      "metadata": {
        "id": "RbrcpfYN2I-H"
      },
      "outputs": [],
      "source": [
        "def same_seed(seed):\n",
        "    '''Fixes random number generator seeds for reproducibility.'''\n",
        "    torch.backends.cudnn.deterministic = True\n",
        "    torch.backends.cudnn.benchmark = False\n",
        "    np.random.seed(seed)\n",
        "    torch.manual_seed(seed)\n",
        "    if torch.cuda.is_available():\n",
        "        torch.cuda.manual_seed_all(seed)\n",
        "\n",
        "def train_valid_split(data_set, valid_ratio, seed):\n",
        "    '''Split provided training data into training set and validation set'''\n",
        "    valid_set_size = int(valid_ratio * len(data_set))\n",
        "    train_set_size = len(data_set) - valid_set_size\n",
        "    train_set, valid_set = random_split(data_set, [train_set_size, valid_set_size], generator=torch.Generator().manual_seed(seed))\n",
        "    return np.array(train_set), np.array(valid_set)\n",
        "\n",
        "def predict(test_loader, model, device):\n",
        "    model.eval() # Set your model to evaluation mode.\n",
        "    preds = []\n",
        "    for x in tqdm(test_loader):\n",
        "        x = x.to(device)\n",
        "        with torch.no_grad():\n",
        "            pred = model(x)\n",
        "            preds.append(pred.detach().cpu())\n",
        "    preds = torch.cat(preds, dim=0).numpy()\n",
        "    return preds"
      ]
    },
    {
      "cell_type": "markdown",
      "metadata": {
        "id": "IqO3lTm78nNO"
      },
      "source": [
        "# Dataset"
      ]
    },
    {
      "cell_type": "code",
      "execution_count": 154,
      "metadata": {
        "id": "-mjaJM0wprMs"
      },
      "outputs": [],
      "source": [
        "class COVID19Dataset(Dataset):\n",
        "    '''\n",
        "    x: Features.\n",
        "    y: Targets, if none, do prediction.\n",
        "    '''\n",
        "    def __init__(self, x, y=None):\n",
        "        if y is None:\n",
        "            self.y = y\n",
        "        else:\n",
        "            self.y = torch.FloatTensor(y)\n",
        "        self.x = torch.FloatTensor(x)\n",
        "\n",
        "    def __getitem__(self, idx):\n",
        "        if self.y is None:\n",
        "            return self.x[idx]\n",
        "        else:\n",
        "            return self.x[idx], self.y[idx]\n",
        "\n",
        "    def __len__(self):\n",
        "        return len(self.x)"
      ]
    },
    {
      "cell_type": "markdown",
      "metadata": {
        "id": "m73ooU75CL_j"
      },
      "source": [
        "# Neural Network Model\n",
        "Try out different model architectures by modifying the class below."
      ]
    },
    {
      "cell_type": "code",
      "execution_count": 255,
      "metadata": {
        "id": "Qn97_WvvrEkG"
      },
      "outputs": [],
      "source": [
        "class My_Model(nn.Module):\n",
        "    def __init__(self, input_dim):\n",
        "        super(My_Model, self).__init__()\n",
        "        # TODO: modify model's structure, be aware of dimensions.\n",
        "        self.layers = nn.Sequential(\n",
        "            nn.Linear(input_dim, 16),\n",
        "            nn.ReLU(),\n",
        "            nn.Linear(16, 8),\n",
        "            nn.ReLU(),\n",
        "            nn.Linear(8, 1)\n",
        "        )\n",
        "\n",
        "    def forward(self, x):\n",
        "        x = self.layers(x)\n",
        "        x = x.squeeze(1) # (B, 1) -> (B)\n",
        "        return x"
      ]
    },
    {
      "cell_type": "code",
      "execution_count": 256,
      "metadata": {
        "id": "0FEnKRaIIeKp"
      },
      "outputs": [],
      "source": [
        "def select_feat(train_data, valid_data, test_data, select_all=True):\n",
        "    '''Selects useful features to perform regression'''\n",
        "    y_train, y_valid = train_data[:,-1], valid_data[:,-1]\n",
        "    raw_x_train, raw_x_valid, raw_x_test = train_data[:,:-1], valid_data[:,:-1], test_data\n",
        "\n",
        "    if select_all:\n",
        "        feat_idx = list(range(raw_x_train.shape[1]))\n",
        "    else:\n",
        "        feat_idx = [0,1,2,3,4] # TODO: Select suitable feature columns.\n",
        "\n",
        "    return raw_x_train[:,feat_idx], raw_x_valid[:,feat_idx], raw_x_test[:,feat_idx], y_train, y_valid"
      ]
    },
    {
      "cell_type": "markdown",
      "metadata": {},
      "source": [
        "##RF\n",
        "\n"
      ]
    },
    {
      "cell_type": "code",
      "execution_count": 115,
      "metadata": {},
      "outputs": [],
      "source": [
        "from sklearn.ensemble import RandomForestRegressor\n",
        "from sklearn.feature_selection import SelectFromModel\n",
        "\n",
        "def select_feat(train_data, valid_data, test_data, threshold=0.0001, select_all=True):\n",
        "    '''Selects features using Random Forest feature importance'''\n",
        "    y_train, y_valid = train_data[:,-1], valid_data[:,-1]\n",
        "    raw_x_train, raw_x_valid, raw_x_test = train_data[:,:-1], valid_data[:,:-1], test_data\n",
        "\n",
        "    if select_all:\n",
        "        feat_idx = list(range(raw_x_train.shape[1]))\n",
        "    else:\n",
        "        # 创建一个RandomForestRegressor模型，可以调整超参数\n",
        "        model = RandomForestRegressor(n_estimators=100, max_depth=10)  # 例如，设置树的数量和最大深度\n",
        "        \n",
        "        # 拟合模型到训练数据\n",
        "        model.fit(raw_x_train, y_train)\n",
        "        \n",
        "        # 获取特征重要性\n",
        "        feature_importances = model.feature_importances_\n",
        "        \n",
        "        # 创建特征选择器，基于特征重要性\n",
        "        selector = SelectFromModel(model, threshold=threshold)\n",
        "        \n",
        "        # 拟合选择器到训练数据\n",
        "        selector.fit(raw_x_train, y_train)\n",
        "        \n",
        "        # 获取选择的特征的索引\n",
        "        feat_idx = selector.get_support(indices=True)\n",
        "        \n",
        "\n",
        "    return raw_x_train[:, feat_idx], raw_x_valid[:, feat_idx], raw_x_test[:, feat_idx], y_train, y_valid\n"
      ]
    },
    {
      "cell_type": "markdown",
      "metadata": {
        "id": "kADIPNQ2Ih5X"
      },
      "source": [
        "# Training Loop"
      ]
    },
    {
      "cell_type": "code",
      "execution_count": 257,
      "metadata": {
        "id": "k4Rq8_TztAhq"
      },
      "outputs": [],
      "source": [
        "def trainer(train_loader, valid_loader, model, config, device):\n",
        "\n",
        "    criterion = nn.MSELoss(reduction='mean') # Define your loss function, do not modify this.\n",
        "\n",
        "    # Define your optimization algorithm.\n",
        "    # TODO: Please check https://pytorch.org/docs/stable/optim.html to get more available algorithms.\n",
        "    # TODO: L2 regularization (optimizer(weight decay...) or implement by your self).\n",
        "     # Use Adam optimizer with weight decay for L2 regularization\n",
        "    optimizer = torch.optim.Adam(model.parameters(), lr=config['learning_rate'])\n",
        "\n",
        "    writer = SummaryWriter() # Writer of tensoboard.\n",
        "\n",
        "    if not os.path.isdir('./models'):\n",
        "        os.mkdir('./models') # Create directory of saving models.\n",
        "\n",
        "    n_epochs, best_loss, step, early_stop_count = config['n_epochs'], math.inf, 0, 0\n",
        "\n",
        "    for epoch in range(n_epochs):\n",
        "        model.train() # Set your model to train mode.\n",
        "        loss_record = []\n",
        "\n",
        "        # tqdm is a package to visualize your training progress.\n",
        "        train_pbar = tqdm(train_loader, position=0, leave=True)\n",
        "\n",
        "        for x, y in train_pbar:\n",
        "            optimizer.zero_grad()               # Set gradient to zero.\n",
        "            x, y = x.to(device), y.to(device)   # Move your data to device.\n",
        "            pred = model(x)\n",
        "            loss = criterion(pred, y)\n",
        "            loss.backward()                     # Compute gradient(backpropagation).\n",
        "            optimizer.step()                    # Update parameters.\n",
        "            step += 1\n",
        "            loss_record.append(loss.detach().item())\n",
        "\n",
        "            # Display current epoch number and loss on tqdm progress bar.\n",
        "            train_pbar.set_description(f'Epoch [{epoch+1}/{n_epochs}]')\n",
        "            train_pbar.set_postfix({'loss': loss.detach().item()})\n",
        "\n",
        "        mean_train_loss = sum(loss_record)/len(loss_record)\n",
        "        writer.add_scalar('Loss/train', mean_train_loss, step)\n",
        "\n",
        "        model.eval() # Set your model to evaluation mode.\n",
        "        loss_record = []\n",
        "        for x, y in valid_loader:\n",
        "            x, y = x.to(device), y.to(device)\n",
        "            with torch.no_grad():\n",
        "                pred = model(x)\n",
        "                loss = criterion(pred, y)\n",
        "\n",
        "            loss_record.append(loss.item())\n",
        "\n",
        "        mean_valid_loss = sum(loss_record)/len(loss_record)\n",
        "        print(f'Epoch [{epoch+1}/{n_epochs}]: Train loss: {mean_train_loss:.4f}, Valid loss: {mean_valid_loss:.4f}')\n",
        "        writer.add_scalar('Loss/valid', mean_valid_loss, step)\n",
        "\n",
        "        if mean_valid_loss < best_loss:\n",
        "            best_loss = mean_valid_loss\n",
        "            torch.save(model.state_dict(), config['save_path']) # Save your best model\n",
        "            print('Saving model with loss {:.3f}...'.format(best_loss))\n",
        "            early_stop_count = 0\n",
        "        else:\n",
        "            early_stop_count += 1\n",
        "\n",
        "        if early_stop_count >= config['early_stop']:\n",
        "            print('\\nModel is not improving, so we halt the training session.')\n",
        "            return"
      ]
    },
    {
      "cell_type": "code",
      "execution_count": 258,
      "metadata": {},
      "outputs": [],
      "source": [
        "\"\"\"# Training Loop\"\"\"\n",
        "\n",
        "def trainer(train_loader, valid_loader, model, config, device):\n",
        "\n",
        "    criterion = nn.MSELoss(reduction='mean') # Define your loss function, do not modify this.\n",
        "\n",
        "    # Use the Adam optimizer instead of SGD\n",
        "    optimizer = torch.optim.Adam(model.parameters(), lr=config['learning_rate'])\n",
        "\n",
        "    # Use a scheduler to decrease the learning rate during training\n",
        "    scheduler = torch.optim.lr_scheduler.ReduceLROnPlateau(optimizer, 'min', factor=0.5, patience=50, verbose=True)\n",
        "\n",
        "    writer = SummaryWriter() # Writer of tensoboard.\n",
        "\n",
        "    if not os.path.isdir('./models'):\n",
        "        os.mkdir('./models') # Create directory of saving models.\n",
        "\n",
        "    n_epochs, best_loss, step, early_stop_count = config['n_epochs'], math.inf, 0, 0\n",
        "\n",
        "    for epoch in range(n_epochs):\n",
        "        model.train() # Set your model to train mode.\n",
        "        loss_record = []\n",
        "\n",
        "        train_pbar = tqdm(train_loader, position=0, leave=True)\n",
        "\n",
        "        for x, y in train_pbar:\n",
        "            optimizer.zero_grad()\n",
        "            x, y = x.to(device), y.to(device)\n",
        "            pred = model(x)\n",
        "            loss = criterion(pred, y)\n",
        "            loss.backward()\n",
        "            optimizer.step()\n",
        "            step += 1\n",
        "            loss_record.append(loss.detach().item())\n",
        "\n",
        "            train_pbar.set_description(f'Epoch [{epoch+1}/{n_epochs}]')\n",
        "            train_pbar.set_postfix({'loss': loss.detach().item()})\n",
        "\n",
        "        mean_train_loss = sum(loss_record)/len(loss_record)\n",
        "        writer.add_scalar('Loss/train', mean_train_loss, step)\n",
        "\n",
        "        model.eval()\n",
        "        loss_record = []\n",
        "        for x, y in valid_loader:\n",
        "            x, y = x.to(device), y.to(device)\n",
        "            with torch.no_grad():\n",
        "                pred = model(x)\n",
        "                loss = criterion(pred, y)\n",
        "\n",
        "            loss_record.append(loss.item())\n",
        "\n",
        "        mean_valid_loss = sum(loss_record)/len(loss_record)\n",
        "        print(f'Epoch [{epoch+1}/{n_epochs}]: Train loss: {mean_train_loss:.4f}, Valid loss: {mean_valid_loss:.4f}')\n",
        "        writer.add_scalar('Loss/valid', mean_valid_loss, step)\n",
        "\n",
        "        # Use the scheduler here\n",
        "        scheduler.step(mean_valid_loss)\n",
        "\n",
        "        if mean_valid_loss < best_loss:\n",
        "            best_loss = mean_valid_loss\n",
        "            torch.save(model.state_dict(), config['save_path'])\n",
        "            print('Saving model with loss {:.3f}...'.format(best_loss))\n",
        "            early_stop_count = 0\n",
        "        else:\n",
        "            early_stop_count += 1\n",
        "\n",
        "        if early_stop_count >= config['early_stop']:\n",
        "            print('\\nModel is not improving, so we halt the training session.')\n",
        "            return\n",
        "\n",
        "\n"
      ]
    },
    {
      "cell_type": "markdown",
      "metadata": {
        "id": "0pgkOh2e9UjE"
      },
      "source": [
        "# Configurations\n",
        "`config` contains hyper-parameters for training and the path to save your model."
      ]
    },
    {
      "cell_type": "code",
      "execution_count": 259,
      "metadata": {
        "id": "QoWPUahCtoT6"
      },
      "outputs": [],
      "source": [
        "device = 'cuda' if torch.cuda.is_available() else 'cpu'\n",
        "config = {\n",
        "    'seed': 5201314,      # Your seed number, you can pick your lucky number. :)\n",
        "    'select_all': False,   # Whether to use all features.\n",
        "    'valid_ratio': 0.2,   # validation_size = train_size * valid_ratio\n",
        "    'n_epochs': 10000,     # Number of epochs.\n",
        "    'batch_size': 256,\n",
        "    'learning_rate': 1e-3,\n",
        "    'early_stop': 200,    # If model has not improved for this many consecutive epochs, stop training.\n",
        "    'save_path': './models/model.ckpt'  # Your model will be saved here.\n",
        "}"
      ]
    },
    {
      "cell_type": "markdown",
      "metadata": {
        "id": "lrS-aJJh9XkW"
      },
      "source": [
        "# Dataloader\n",
        "Read data from files and set up training, validation, and testing sets. You do not need to modify this part."
      ]
    },
    {
      "cell_type": "code",
      "execution_count": 260,
      "metadata": {
        "id": "2jc7ZfDot2t9"
      },
      "outputs": [
        {
          "name": "stdout",
          "output_type": "stream",
          "text": [
            "train_data size: (2160, 117)\n",
            "valid_data size: (539, 117)\n",
            "test_data size: (1078, 116)\n",
            "number of features: 5\n"
          ]
        }
      ],
      "source": [
        "# Set seed for reproducibility\n",
        "same_seed(config['seed'])\n",
        "\n",
        "\n",
        "# train_data size: 2699 x 118 (id + 37 states + 16 features x 5 days)\n",
        "# test_data size: 1078 x 117 (without last day's positive rate)\n",
        "train_data, test_data = pd.read_csv('./covid.train.csv').values, pd.read_csv('./covid.test.csv').values\n",
        "train_data, valid_data = train_valid_split(train_data, config['valid_ratio'], config['seed'])\n",
        "\n",
        "# Print out the data size.\n",
        "print(f\"\"\"train_data size: {train_data.shape}\n",
        "valid_data size: {valid_data.shape}\n",
        "test_data size: {test_data.shape}\"\"\")\n",
        "\n",
        "# Select features\n",
        "x_train, x_valid, x_test, y_train, y_valid = select_feat(train_data, valid_data, test_data, config['select_all'])\n",
        "\n",
        "# Print out the number of features.\n",
        "print(f'number of features: {x_train.shape[1]}')\n",
        "\n",
        "train_dataset, valid_dataset, test_dataset = COVID19Dataset(x_train, y_train), \\\n",
        "                                            COVID19Dataset(x_valid, y_valid), \\\n",
        "                                            COVID19Dataset(x_test)\n",
        "\n",
        "# Pytorch data loader loads pytorch dataset into batches.\n",
        "train_loader = DataLoader(train_dataset, batch_size=config['batch_size'], shuffle=True, pin_memory=True)\n",
        "valid_loader = DataLoader(valid_dataset, batch_size=config['batch_size'], shuffle=True, pin_memory=True)\n",
        "test_loader = DataLoader(test_dataset, batch_size=config['batch_size'], shuffle=False, pin_memory=True)"
      ]
    },
    {
      "cell_type": "markdown",
      "metadata": {
        "id": "0OBYgjCA-YwD"
      },
      "source": [
        "# Start training!"
      ]
    },
    {
      "cell_type": "code",
      "execution_count": 261,
      "metadata": {
        "id": "YdttVRkAfu2t"
      },
      "outputs": [
        {
          "name": "stderr",
          "output_type": "stream",
          "text": [
            "Epoch [1/10000]: 100%|██████████| 9/9 [00:00<00:00, 293.97it/s, loss=150]\n"
          ]
        },
        {
          "name": "stdout",
          "output_type": "stream",
          "text": [
            "Epoch [1/10000]: Train loss: 131.1801, Valid loss: 129.0691\n",
            "Saving model with loss 129.069...\n"
          ]
        },
        {
          "name": "stderr",
          "output_type": "stream",
          "text": [
            "Epoch [2/10000]: 100%|██████████| 9/9 [00:00<00:00, 237.66it/s, loss=135]\n"
          ]
        },
        {
          "name": "stdout",
          "output_type": "stream",
          "text": [
            "Epoch [2/10000]: Train loss: 129.2090, Valid loss: 154.0383\n"
          ]
        },
        {
          "name": "stderr",
          "output_type": "stream",
          "text": [
            "Epoch [3/10000]: 100%|██████████| 9/9 [00:00<00:00, 552.08it/s, loss=135]\n"
          ]
        },
        {
          "name": "stdout",
          "output_type": "stream",
          "text": [
            "Epoch [3/10000]: Train loss: 128.1997, Valid loss: 144.5531\n"
          ]
        },
        {
          "name": "stderr",
          "output_type": "stream",
          "text": [
            "Epoch [4/10000]: 100%|██████████| 9/9 [00:00<00:00, 579.83it/s, loss=127]\n"
          ]
        },
        {
          "name": "stdout",
          "output_type": "stream",
          "text": [
            "Epoch [4/10000]: Train loss: 126.8053, Valid loss: 141.1436\n"
          ]
        },
        {
          "name": "stderr",
          "output_type": "stream",
          "text": [
            "Epoch [5/10000]: 100%|██████████| 9/9 [00:00<00:00, 588.15it/s, loss=114]\n"
          ]
        },
        {
          "name": "stdout",
          "output_type": "stream",
          "text": [
            "Epoch [5/10000]: Train loss: 125.0434, Valid loss: 139.4877\n"
          ]
        },
        {
          "name": "stderr",
          "output_type": "stream",
          "text": [
            "Epoch [6/10000]: 100%|██████████| 9/9 [00:00<00:00, 587.28it/s, loss=119]\n"
          ]
        },
        {
          "name": "stdout",
          "output_type": "stream",
          "text": [
            "Epoch [6/10000]: Train loss: 124.2895, Valid loss: 129.9399\n"
          ]
        },
        {
          "name": "stderr",
          "output_type": "stream",
          "text": [
            "Epoch [7/10000]: 100%|██████████| 9/9 [00:00<00:00, 591.68it/s, loss=153]\n"
          ]
        },
        {
          "name": "stdout",
          "output_type": "stream",
          "text": [
            "Epoch [7/10000]: Train loss: 125.3503, Valid loss: 129.9946\n"
          ]
        },
        {
          "name": "stderr",
          "output_type": "stream",
          "text": [
            "Epoch [8/10000]: 100%|██████████| 9/9 [00:00<00:00, 581.62it/s, loss=116]\n"
          ]
        },
        {
          "name": "stdout",
          "output_type": "stream",
          "text": [
            "Epoch [8/10000]: Train loss: 121.8185, Valid loss: 145.9278\n"
          ]
        },
        {
          "name": "stderr",
          "output_type": "stream",
          "text": [
            "Epoch [9/10000]: 100%|██████████| 9/9 [00:00<00:00, 434.03it/s, loss=98.6]\n"
          ]
        },
        {
          "name": "stdout",
          "output_type": "stream",
          "text": [
            "Epoch [9/10000]: Train loss: 119.3804, Valid loss: 134.8198\n"
          ]
        },
        {
          "name": "stderr",
          "output_type": "stream",
          "text": [
            "Epoch [10/10000]: 100%|██████████| 9/9 [00:00<00:00, 334.53it/s, loss=97.9]\n"
          ]
        },
        {
          "name": "stdout",
          "output_type": "stream",
          "text": [
            "Epoch [10/10000]: Train loss: 117.8390, Valid loss: 137.6234\n"
          ]
        },
        {
          "name": "stderr",
          "output_type": "stream",
          "text": [
            "Epoch [11/10000]: 100%|██████████| 9/9 [00:00<00:00, 285.06it/s, loss=87.7]\n"
          ]
        },
        {
          "name": "stdout",
          "output_type": "stream",
          "text": [
            "Epoch [11/10000]: Train loss: 115.5532, Valid loss: 139.4912\n"
          ]
        },
        {
          "name": "stderr",
          "output_type": "stream",
          "text": [
            "Epoch [12/10000]: 100%|██████████| 9/9 [00:00<00:00, 495.54it/s, loss=97.4]\n"
          ]
        },
        {
          "name": "stdout",
          "output_type": "stream",
          "text": [
            "Epoch [12/10000]: Train loss: 114.2866, Valid loss: 137.5675\n"
          ]
        },
        {
          "name": "stderr",
          "output_type": "stream",
          "text": [
            "Epoch [13/10000]: 100%|██████████| 9/9 [00:00<00:00, 503.38it/s, loss=116]\n"
          ]
        },
        {
          "name": "stdout",
          "output_type": "stream",
          "text": [
            "Epoch [13/10000]: Train loss: 113.3580, Valid loss: 107.9865\n",
            "Saving model with loss 107.987...\n"
          ]
        },
        {
          "name": "stderr",
          "output_type": "stream",
          "text": [
            "Epoch [14/10000]: 100%|██████████| 9/9 [00:00<00:00, 573.69it/s, loss=99.1]\n"
          ]
        },
        {
          "name": "stdout",
          "output_type": "stream",
          "text": [
            "Epoch [14/10000]: Train loss: 110.0019, Valid loss: 116.3789\n"
          ]
        },
        {
          "name": "stderr",
          "output_type": "stream",
          "text": [
            "Epoch [15/10000]: 100%|██████████| 9/9 [00:00<00:00, 578.44it/s, loss=102]\n"
          ]
        },
        {
          "name": "stdout",
          "output_type": "stream",
          "text": [
            "Epoch [15/10000]: Train loss: 107.6908, Valid loss: 105.8691\n",
            "Saving model with loss 105.869...\n"
          ]
        },
        {
          "name": "stderr",
          "output_type": "stream",
          "text": [
            "Epoch [16/10000]: 100%|██████████| 9/9 [00:00<00:00, 585.32it/s, loss=98.3]\n"
          ]
        },
        {
          "name": "stdout",
          "output_type": "stream",
          "text": [
            "Epoch [16/10000]: Train loss: 104.6599, Valid loss: 99.3085\n",
            "Saving model with loss 99.308...\n"
          ]
        },
        {
          "name": "stderr",
          "output_type": "stream",
          "text": [
            "Epoch [17/10000]: 100%|██████████| 9/9 [00:00<00:00, 596.90it/s, loss=94.1]\n"
          ]
        },
        {
          "name": "stdout",
          "output_type": "stream",
          "text": [
            "Epoch [17/10000]: Train loss: 101.3909, Valid loss: 109.9963\n"
          ]
        },
        {
          "name": "stderr",
          "output_type": "stream",
          "text": [
            "Epoch [18/10000]: 100%|██████████| 9/9 [00:00<00:00, 612.58it/s, loss=87.4]\n"
          ]
        },
        {
          "name": "stdout",
          "output_type": "stream",
          "text": [
            "Epoch [18/10000]: Train loss: 97.7452, Valid loss: 122.1968\n"
          ]
        },
        {
          "name": "stderr",
          "output_type": "stream",
          "text": [
            "Epoch [19/10000]: 100%|██████████| 9/9 [00:00<00:00, 594.76it/s, loss=115]\n"
          ]
        },
        {
          "name": "stdout",
          "output_type": "stream",
          "text": [
            "Epoch [19/10000]: Train loss: 95.9976, Valid loss: 87.7944\n",
            "Saving model with loss 87.794...\n"
          ]
        },
        {
          "name": "stderr",
          "output_type": "stream",
          "text": [
            "Epoch [20/10000]: 100%|██████████| 9/9 [00:00<00:00, 570.13it/s, loss=72.4]\n"
          ]
        },
        {
          "name": "stdout",
          "output_type": "stream",
          "text": [
            "Epoch [20/10000]: Train loss: 89.6236, Valid loss: 85.8100\n",
            "Saving model with loss 85.810...\n"
          ]
        },
        {
          "name": "stderr",
          "output_type": "stream",
          "text": [
            "Epoch [21/10000]: 100%|██████████| 9/9 [00:00<00:00, 340.74it/s, loss=89.8]\n"
          ]
        },
        {
          "name": "stdout",
          "output_type": "stream",
          "text": [
            "Epoch [21/10000]: Train loss: 86.8688, Valid loss: 84.3193\n",
            "Saving model with loss 84.319...\n"
          ]
        },
        {
          "name": "stderr",
          "output_type": "stream",
          "text": [
            "Epoch [22/10000]: 100%|██████████| 9/9 [00:00<00:00, 538.01it/s, loss=91.7]\n"
          ]
        },
        {
          "name": "stdout",
          "output_type": "stream",
          "text": [
            "Epoch [22/10000]: Train loss: 82.9601, Valid loss: 80.6408\n",
            "Saving model with loss 80.641...\n"
          ]
        },
        {
          "name": "stderr",
          "output_type": "stream",
          "text": [
            "Epoch [23/10000]: 100%|██████████| 9/9 [00:00<00:00, 474.65it/s, loss=70.8]\n"
          ]
        },
        {
          "name": "stdout",
          "output_type": "stream",
          "text": [
            "Epoch [23/10000]: Train loss: 77.4109, Valid loss: 76.1988\n",
            "Saving model with loss 76.199...\n"
          ]
        },
        {
          "name": "stderr",
          "output_type": "stream",
          "text": [
            "Epoch [24/10000]: 100%|██████████| 9/9 [00:00<00:00, 435.20it/s, loss=87.5]\n"
          ]
        },
        {
          "name": "stdout",
          "output_type": "stream",
          "text": [
            "Epoch [24/10000]: Train loss: 74.1561, Valid loss: 83.2177\n"
          ]
        },
        {
          "name": "stderr",
          "output_type": "stream",
          "text": [
            "Epoch [25/10000]: 100%|██████████| 9/9 [00:00<00:00, 424.26it/s, loss=54.7]\n"
          ]
        },
        {
          "name": "stdout",
          "output_type": "stream",
          "text": [
            "Epoch [25/10000]: Train loss: 67.7317, Valid loss: 81.9543\n"
          ]
        },
        {
          "name": "stderr",
          "output_type": "stream",
          "text": [
            "Epoch [26/10000]: 100%|██████████| 9/9 [00:00<00:00, 489.37it/s, loss=64.1]\n"
          ]
        },
        {
          "name": "stdout",
          "output_type": "stream",
          "text": [
            "Epoch [26/10000]: Train loss: 64.0025, Valid loss: 60.0928\n",
            "Saving model with loss 60.093...\n"
          ]
        },
        {
          "name": "stderr",
          "output_type": "stream",
          "text": [
            "Epoch [27/10000]: 100%|██████████| 9/9 [00:00<00:00, 525.43it/s, loss=53]\n"
          ]
        },
        {
          "name": "stdout",
          "output_type": "stream",
          "text": [
            "Epoch [27/10000]: Train loss: 59.2400, Valid loss: 58.6813\n",
            "Saving model with loss 58.681...\n"
          ]
        },
        {
          "name": "stderr",
          "output_type": "stream",
          "text": [
            "Epoch [28/10000]: 100%|██████████| 9/9 [00:00<00:00, 577.99it/s, loss=55.2]\n"
          ]
        },
        {
          "name": "stdout",
          "output_type": "stream",
          "text": [
            "Epoch [28/10000]: Train loss: 55.6140, Valid loss: 63.0289\n"
          ]
        },
        {
          "name": "stderr",
          "output_type": "stream",
          "text": [
            "Epoch [29/10000]: 100%|██████████| 9/9 [00:00<00:00, 511.56it/s, loss=51.8]\n"
          ]
        },
        {
          "name": "stdout",
          "output_type": "stream",
          "text": [
            "Epoch [29/10000]: Train loss: 51.8600, Valid loss: 61.2966\n"
          ]
        },
        {
          "name": "stderr",
          "output_type": "stream",
          "text": [
            "Epoch [30/10000]: 100%|██████████| 9/9 [00:00<00:00, 445.94it/s, loss=40.6]\n"
          ]
        },
        {
          "name": "stdout",
          "output_type": "stream",
          "text": [
            "Epoch [30/10000]: Train loss: 48.1411, Valid loss: 41.8408\n",
            "Saving model with loss 41.841...\n"
          ]
        },
        {
          "name": "stderr",
          "output_type": "stream",
          "text": [
            "Epoch [31/10000]: 100%|██████████| 9/9 [00:00<00:00, 530.35it/s, loss=46.1]\n"
          ]
        },
        {
          "name": "stdout",
          "output_type": "stream",
          "text": [
            "Epoch [31/10000]: Train loss: 45.8826, Valid loss: 46.2045\n"
          ]
        },
        {
          "name": "stderr",
          "output_type": "stream",
          "text": [
            "Epoch [32/10000]: 100%|██████████| 9/9 [00:00<00:00, 586.10it/s, loss=29.2]\n"
          ]
        },
        {
          "name": "stdout",
          "output_type": "stream",
          "text": [
            "Epoch [32/10000]: Train loss: 42.7691, Valid loss: 47.6992\n"
          ]
        },
        {
          "name": "stderr",
          "output_type": "stream",
          "text": [
            "Epoch [33/10000]: 100%|██████████| 9/9 [00:00<00:00, 587.44it/s, loss=40.3]\n"
          ]
        },
        {
          "name": "stdout",
          "output_type": "stream",
          "text": [
            "Epoch [33/10000]: Train loss: 41.8108, Valid loss: 40.2068\n",
            "Saving model with loss 40.207...\n"
          ]
        },
        {
          "name": "stderr",
          "output_type": "stream",
          "text": [
            "Epoch [34/10000]: 100%|██████████| 9/9 [00:00<00:00, 597.09it/s, loss=29.7]\n"
          ]
        },
        {
          "name": "stdout",
          "output_type": "stream",
          "text": [
            "Epoch [34/10000]: Train loss: 39.8942, Valid loss: 50.3895\n"
          ]
        },
        {
          "name": "stderr",
          "output_type": "stream",
          "text": [
            "Epoch [35/10000]: 100%|██████████| 9/9 [00:00<00:00, 602.33it/s, loss=42.7]\n"
          ]
        },
        {
          "name": "stdout",
          "output_type": "stream",
          "text": [
            "Epoch [35/10000]: Train loss: 39.7751, Valid loss: 49.9555\n"
          ]
        },
        {
          "name": "stderr",
          "output_type": "stream",
          "text": [
            "Epoch [36/10000]: 100%|██████████| 9/9 [00:00<00:00, 586.90it/s, loss=39.2]\n"
          ]
        },
        {
          "name": "stdout",
          "output_type": "stream",
          "text": [
            "Epoch [36/10000]: Train loss: 38.8968, Valid loss: 43.7774\n"
          ]
        },
        {
          "name": "stderr",
          "output_type": "stream",
          "text": [
            "Epoch [37/10000]: 100%|██████████| 9/9 [00:00<00:00, 556.42it/s, loss=32.9]\n"
          ]
        },
        {
          "name": "stdout",
          "output_type": "stream",
          "text": [
            "Epoch [37/10000]: Train loss: 38.0764, Valid loss: 42.1777\n"
          ]
        },
        {
          "name": "stderr",
          "output_type": "stream",
          "text": [
            "Epoch [38/10000]: 100%|██████████| 9/9 [00:00<00:00, 144.02it/s, loss=40.7]\n"
          ]
        },
        {
          "name": "stdout",
          "output_type": "stream",
          "text": [
            "Epoch [38/10000]: Train loss: 38.2753, Valid loss: 43.3501\n"
          ]
        },
        {
          "name": "stderr",
          "output_type": "stream",
          "text": [
            "Epoch [39/10000]: 100%|██████████| 9/9 [00:00<00:00, 68.70it/s, loss=38.1]\n"
          ]
        },
        {
          "name": "stdout",
          "output_type": "stream",
          "text": [
            "Epoch [39/10000]: Train loss: 37.8929, Valid loss: 37.1440\n",
            "Saving model with loss 37.144...\n"
          ]
        },
        {
          "name": "stderr",
          "output_type": "stream",
          "text": [
            "Epoch [40/10000]: 100%|██████████| 9/9 [00:00<00:00, 478.41it/s, loss=42.4]\n"
          ]
        },
        {
          "name": "stdout",
          "output_type": "stream",
          "text": [
            "Epoch [40/10000]: Train loss: 38.0246, Valid loss: 35.4463\n",
            "Saving model with loss 35.446...\n"
          ]
        },
        {
          "name": "stderr",
          "output_type": "stream",
          "text": [
            "Epoch [41/10000]: 100%|██████████| 9/9 [00:00<00:00, 486.16it/s, loss=35.9]\n"
          ]
        },
        {
          "name": "stdout",
          "output_type": "stream",
          "text": [
            "Epoch [41/10000]: Train loss: 37.4966, Valid loss: 36.3351\n"
          ]
        },
        {
          "name": "stderr",
          "output_type": "stream",
          "text": [
            "Epoch [42/10000]: 100%|██████████| 9/9 [00:00<00:00, 448.46it/s, loss=37.9]\n"
          ]
        },
        {
          "name": "stdout",
          "output_type": "stream",
          "text": [
            "Epoch [42/10000]: Train loss: 37.5448, Valid loss: 36.4794\n"
          ]
        },
        {
          "name": "stderr",
          "output_type": "stream",
          "text": [
            "Epoch [43/10000]: 100%|██████████| 9/9 [00:00<00:00, 494.42it/s, loss=40.4]\n"
          ]
        },
        {
          "name": "stdout",
          "output_type": "stream",
          "text": [
            "Epoch [43/10000]: Train loss: 37.6326, Valid loss: 37.8593\n"
          ]
        },
        {
          "name": "stderr",
          "output_type": "stream",
          "text": [
            "Epoch [44/10000]: 100%|██████████| 9/9 [00:00<00:00, 568.57it/s, loss=42.9]\n"
          ]
        },
        {
          "name": "stdout",
          "output_type": "stream",
          "text": [
            "Epoch [44/10000]: Train loss: 37.7320, Valid loss: 38.8029\n"
          ]
        },
        {
          "name": "stderr",
          "output_type": "stream",
          "text": [
            "Epoch [45/10000]: 100%|██████████| 9/9 [00:00<00:00, 607.73it/s, loss=34.9]\n"
          ]
        },
        {
          "name": "stdout",
          "output_type": "stream",
          "text": [
            "Epoch [45/10000]: Train loss: 37.1752, Valid loss: 32.5766\n",
            "Saving model with loss 32.577...\n"
          ]
        },
        {
          "name": "stderr",
          "output_type": "stream",
          "text": [
            "Epoch [46/10000]: 100%|██████████| 9/9 [00:00<00:00, 602.45it/s, loss=32.6]\n"
          ]
        },
        {
          "name": "stdout",
          "output_type": "stream",
          "text": [
            "Epoch [46/10000]: Train loss: 36.9918, Valid loss: 36.4148\n"
          ]
        },
        {
          "name": "stderr",
          "output_type": "stream",
          "text": [
            "Epoch [47/10000]: 100%|██████████| 9/9 [00:00<00:00, 576.55it/s, loss=30.3]\n"
          ]
        },
        {
          "name": "stdout",
          "output_type": "stream",
          "text": [
            "Epoch [47/10000]: Train loss: 36.8120, Valid loss: 34.1678\n"
          ]
        },
        {
          "name": "stderr",
          "output_type": "stream",
          "text": [
            "Epoch [48/10000]: 100%|██████████| 9/9 [00:00<00:00, 583.62it/s, loss=41.6]\n"
          ]
        },
        {
          "name": "stdout",
          "output_type": "stream",
          "text": [
            "Epoch [48/10000]: Train loss: 37.4738, Valid loss: 41.6016\n"
          ]
        },
        {
          "name": "stderr",
          "output_type": "stream",
          "text": [
            "Epoch [49/10000]: 100%|██████████| 9/9 [00:00<00:00, 541.12it/s, loss=32.5]\n"
          ]
        },
        {
          "name": "stdout",
          "output_type": "stream",
          "text": [
            "Epoch [49/10000]: Train loss: 36.8761, Valid loss: 42.3896\n"
          ]
        },
        {
          "name": "stderr",
          "output_type": "stream",
          "text": [
            "Epoch [50/10000]: 100%|██████████| 9/9 [00:00<00:00, 587.36it/s, loss=33.7]\n"
          ]
        },
        {
          "name": "stdout",
          "output_type": "stream",
          "text": [
            "Epoch [50/10000]: Train loss: 36.9203, Valid loss: 39.9081\n"
          ]
        },
        {
          "name": "stderr",
          "output_type": "stream",
          "text": [
            "Epoch [51/10000]: 100%|██████████| 9/9 [00:00<00:00, 586.52it/s, loss=33.6]\n"
          ]
        },
        {
          "name": "stdout",
          "output_type": "stream",
          "text": [
            "Epoch [51/10000]: Train loss: 36.8858, Valid loss: 37.4121\n"
          ]
        },
        {
          "name": "stderr",
          "output_type": "stream",
          "text": [
            "Epoch [52/10000]: 100%|██████████| 9/9 [00:00<00:00, 586.94it/s, loss=38]\n"
          ]
        },
        {
          "name": "stdout",
          "output_type": "stream",
          "text": [
            "Epoch [52/10000]: Train loss: 37.1377, Valid loss: 37.3062\n"
          ]
        },
        {
          "name": "stderr",
          "output_type": "stream",
          "text": [
            "Epoch [53/10000]: 100%|██████████| 9/9 [00:00<00:00, 594.93it/s, loss=30.3]\n"
          ]
        },
        {
          "name": "stdout",
          "output_type": "stream",
          "text": [
            "Epoch [53/10000]: Train loss: 36.6333, Valid loss: 35.7491\n"
          ]
        },
        {
          "name": "stderr",
          "output_type": "stream",
          "text": [
            "Epoch [54/10000]: 100%|██████████| 9/9 [00:00<00:00, 596.62it/s, loss=39.4]\n"
          ]
        },
        {
          "name": "stdout",
          "output_type": "stream",
          "text": [
            "Epoch [54/10000]: Train loss: 37.1853, Valid loss: 48.9211\n"
          ]
        },
        {
          "name": "stderr",
          "output_type": "stream",
          "text": [
            "Epoch [55/10000]: 100%|██████████| 9/9 [00:00<00:00, 596.04it/s, loss=44.8]\n"
          ]
        },
        {
          "name": "stdout",
          "output_type": "stream",
          "text": [
            "Epoch [55/10000]: Train loss: 37.5070, Valid loss: 33.7803\n"
          ]
        },
        {
          "name": "stderr",
          "output_type": "stream",
          "text": [
            "Epoch [56/10000]: 100%|██████████| 9/9 [00:00<00:00, 606.40it/s, loss=39.3]\n"
          ]
        },
        {
          "name": "stdout",
          "output_type": "stream",
          "text": [
            "Epoch [56/10000]: Train loss: 37.1407, Valid loss: 38.3926\n"
          ]
        },
        {
          "name": "stderr",
          "output_type": "stream",
          "text": [
            "Epoch [57/10000]: 100%|██████████| 9/9 [00:00<00:00, 592.03it/s, loss=47.2]\n"
          ]
        },
        {
          "name": "stdout",
          "output_type": "stream",
          "text": [
            "Epoch [57/10000]: Train loss: 37.6156, Valid loss: 39.7848\n"
          ]
        },
        {
          "name": "stderr",
          "output_type": "stream",
          "text": [
            "Epoch [58/10000]: 100%|██████████| 9/9 [00:00<00:00, 598.68it/s, loss=42.3]\n"
          ]
        },
        {
          "name": "stdout",
          "output_type": "stream",
          "text": [
            "Epoch [58/10000]: Train loss: 37.2994, Valid loss: 42.2703\n"
          ]
        },
        {
          "name": "stderr",
          "output_type": "stream",
          "text": [
            "Epoch [59/10000]: 100%|██████████| 9/9 [00:00<00:00, 578.82it/s, loss=44]\n"
          ]
        },
        {
          "name": "stdout",
          "output_type": "stream",
          "text": [
            "Epoch [59/10000]: Train loss: 37.3914, Valid loss: 33.3204\n"
          ]
        },
        {
          "name": "stderr",
          "output_type": "stream",
          "text": [
            "Epoch [60/10000]: 100%|██████████| 9/9 [00:00<00:00, 581.02it/s, loss=42.7]\n"
          ]
        },
        {
          "name": "stdout",
          "output_type": "stream",
          "text": [
            "Epoch [60/10000]: Train loss: 37.3017, Valid loss: 36.5867\n"
          ]
        },
        {
          "name": "stderr",
          "output_type": "stream",
          "text": [
            "Epoch [61/10000]: 100%|██████████| 9/9 [00:00<00:00, 590.90it/s, loss=33.4]\n"
          ]
        },
        {
          "name": "stdout",
          "output_type": "stream",
          "text": [
            "Epoch [61/10000]: Train loss: 36.7068, Valid loss: 40.0884\n"
          ]
        },
        {
          "name": "stderr",
          "output_type": "stream",
          "text": [
            "Epoch [62/10000]: 100%|██████████| 9/9 [00:00<00:00, 593.90it/s, loss=32]\n"
          ]
        },
        {
          "name": "stdout",
          "output_type": "stream",
          "text": [
            "Epoch [62/10000]: Train loss: 36.6124, Valid loss: 41.4669\n"
          ]
        },
        {
          "name": "stderr",
          "output_type": "stream",
          "text": [
            "Epoch [63/10000]: 100%|██████████| 9/9 [00:00<00:00, 556.04it/s, loss=42.7]\n"
          ]
        },
        {
          "name": "stdout",
          "output_type": "stream",
          "text": [
            "Epoch [63/10000]: Train loss: 37.2680, Valid loss: 36.7864\n"
          ]
        },
        {
          "name": "stderr",
          "output_type": "stream",
          "text": [
            "Epoch [64/10000]: 100%|██████████| 9/9 [00:00<00:00, 506.13it/s, loss=28.1]\n"
          ]
        },
        {
          "name": "stdout",
          "output_type": "stream",
          "text": [
            "Epoch [64/10000]: Train loss: 36.3488, Valid loss: 44.4498\n"
          ]
        },
        {
          "name": "stderr",
          "output_type": "stream",
          "text": [
            "Epoch [65/10000]: 100%|██████████| 9/9 [00:00<00:00, 478.47it/s, loss=37.3]\n"
          ]
        },
        {
          "name": "stdout",
          "output_type": "stream",
          "text": [
            "Epoch [65/10000]: Train loss: 36.9172, Valid loss: 39.5058\n"
          ]
        },
        {
          "name": "stderr",
          "output_type": "stream",
          "text": [
            "Epoch [66/10000]: 100%|██████████| 9/9 [00:00<00:00, 529.72it/s, loss=39.3]\n"
          ]
        },
        {
          "name": "stdout",
          "output_type": "stream",
          "text": [
            "Epoch [66/10000]: Train loss: 37.0341, Valid loss: 42.7230\n"
          ]
        },
        {
          "name": "stderr",
          "output_type": "stream",
          "text": [
            "Epoch [67/10000]: 100%|██████████| 9/9 [00:00<00:00, 526.50it/s, loss=40.4]\n"
          ]
        },
        {
          "name": "stdout",
          "output_type": "stream",
          "text": [
            "Epoch [67/10000]: Train loss: 37.0979, Valid loss: 35.0987\n"
          ]
        },
        {
          "name": "stderr",
          "output_type": "stream",
          "text": [
            "Epoch [68/10000]: 100%|██████████| 9/9 [00:00<00:00, 529.32it/s, loss=36.2]\n"
          ]
        },
        {
          "name": "stdout",
          "output_type": "stream",
          "text": [
            "Epoch [68/10000]: Train loss: 36.8317, Valid loss: 39.1735\n"
          ]
        },
        {
          "name": "stderr",
          "output_type": "stream",
          "text": [
            "Epoch [69/10000]: 100%|██████████| 9/9 [00:00<00:00, 522.13it/s, loss=37.5]\n"
          ]
        },
        {
          "name": "stdout",
          "output_type": "stream",
          "text": [
            "Epoch [69/10000]: Train loss: 36.9084, Valid loss: 37.7825\n"
          ]
        },
        {
          "name": "stderr",
          "output_type": "stream",
          "text": [
            "Epoch [70/10000]: 100%|██████████| 9/9 [00:00<00:00, 605.20it/s, loss=42.2]\n"
          ]
        },
        {
          "name": "stdout",
          "output_type": "stream",
          "text": [
            "Epoch [70/10000]: Train loss: 37.1961, Valid loss: 34.5337\n"
          ]
        },
        {
          "name": "stderr",
          "output_type": "stream",
          "text": [
            "Epoch [71/10000]: 100%|██████████| 9/9 [00:00<00:00, 622.76it/s, loss=31.4]\n"
          ]
        },
        {
          "name": "stdout",
          "output_type": "stream",
          "text": [
            "Epoch [71/10000]: Train loss: 36.5206, Valid loss: 39.7858\n"
          ]
        },
        {
          "name": "stderr",
          "output_type": "stream",
          "text": [
            "Epoch [72/10000]: 100%|██████████| 9/9 [00:00<00:00, 593.51it/s, loss=40.7]\n"
          ]
        },
        {
          "name": "stdout",
          "output_type": "stream",
          "text": [
            "Epoch [72/10000]: Train loss: 37.0926, Valid loss: 36.1059\n"
          ]
        },
        {
          "name": "stderr",
          "output_type": "stream",
          "text": [
            "Epoch [73/10000]: 100%|██████████| 9/9 [00:00<00:00, 596.54it/s, loss=51.8]\n"
          ]
        },
        {
          "name": "stdout",
          "output_type": "stream",
          "text": [
            "Epoch [73/10000]: Train loss: 37.7869, Valid loss: 34.5254\n"
          ]
        },
        {
          "name": "stderr",
          "output_type": "stream",
          "text": [
            "Epoch [74/10000]: 100%|██████████| 9/9 [00:00<00:00, 589.50it/s, loss=32.2]\n"
          ]
        },
        {
          "name": "stdout",
          "output_type": "stream",
          "text": [
            "Epoch [74/10000]: Train loss: 36.5696, Valid loss: 35.9727\n"
          ]
        },
        {
          "name": "stderr",
          "output_type": "stream",
          "text": [
            "Epoch [75/10000]: 100%|██████████| 9/9 [00:00<00:00, 606.02it/s, loss=36.5]\n"
          ]
        },
        {
          "name": "stdout",
          "output_type": "stream",
          "text": [
            "Epoch [75/10000]: Train loss: 36.8275, Valid loss: 37.9908\n"
          ]
        },
        {
          "name": "stderr",
          "output_type": "stream",
          "text": [
            "Epoch [76/10000]: 100%|██████████| 9/9 [00:00<00:00, 614.12it/s, loss=25.5]\n"
          ]
        },
        {
          "name": "stdout",
          "output_type": "stream",
          "text": [
            "Epoch [76/10000]: Train loss: 36.1382, Valid loss: 38.0317\n"
          ]
        },
        {
          "name": "stderr",
          "output_type": "stream",
          "text": [
            "Epoch [77/10000]: 100%|██████████| 9/9 [00:00<00:00, 598.25it/s, loss=29]\n"
          ]
        },
        {
          "name": "stdout",
          "output_type": "stream",
          "text": [
            "Epoch [77/10000]: Train loss: 36.3465, Valid loss: 40.6068\n"
          ]
        },
        {
          "name": "stderr",
          "output_type": "stream",
          "text": [
            "Epoch [78/10000]: 100%|██████████| 9/9 [00:00<00:00, 586.06it/s, loss=46.4]\n"
          ]
        },
        {
          "name": "stdout",
          "output_type": "stream",
          "text": [
            "Epoch [78/10000]: Train loss: 37.4434, Valid loss: 37.8440\n"
          ]
        },
        {
          "name": "stderr",
          "output_type": "stream",
          "text": [
            "Epoch [79/10000]: 100%|██████████| 9/9 [00:00<00:00, 595.95it/s, loss=39.4]\n"
          ]
        },
        {
          "name": "stdout",
          "output_type": "stream",
          "text": [
            "Epoch [79/10000]: Train loss: 36.9986, Valid loss: 31.7102\n",
            "Saving model with loss 31.710...\n"
          ]
        },
        {
          "name": "stderr",
          "output_type": "stream",
          "text": [
            "Epoch [80/10000]: 100%|██████████| 9/9 [00:00<00:00, 603.62it/s, loss=35.6]\n"
          ]
        },
        {
          "name": "stdout",
          "output_type": "stream",
          "text": [
            "Epoch [80/10000]: Train loss: 36.7591, Valid loss: 34.9906\n"
          ]
        },
        {
          "name": "stderr",
          "output_type": "stream",
          "text": [
            "Epoch [81/10000]: 100%|██████████| 9/9 [00:00<00:00, 612.33it/s, loss=40.6]\n"
          ]
        },
        {
          "name": "stdout",
          "output_type": "stream",
          "text": [
            "Epoch [81/10000]: Train loss: 37.0677, Valid loss: 37.0957\n"
          ]
        },
        {
          "name": "stderr",
          "output_type": "stream",
          "text": [
            "Epoch [82/10000]: 100%|██████████| 9/9 [00:00<00:00, 593.71it/s, loss=42.6]\n"
          ]
        },
        {
          "name": "stdout",
          "output_type": "stream",
          "text": [
            "Epoch [82/10000]: Train loss: 37.1920, Valid loss: 35.5972\n"
          ]
        },
        {
          "name": "stderr",
          "output_type": "stream",
          "text": [
            "Epoch [83/10000]: 100%|██████████| 9/9 [00:00<00:00, 603.50it/s, loss=48.8]\n"
          ]
        },
        {
          "name": "stdout",
          "output_type": "stream",
          "text": [
            "Epoch [83/10000]: Train loss: 37.5794, Valid loss: 35.5515\n"
          ]
        },
        {
          "name": "stderr",
          "output_type": "stream",
          "text": [
            "Epoch [84/10000]: 100%|██████████| 9/9 [00:00<00:00, 590.66it/s, loss=36.8]\n"
          ]
        },
        {
          "name": "stdout",
          "output_type": "stream",
          "text": [
            "Epoch [84/10000]: Train loss: 36.8286, Valid loss: 33.4068\n"
          ]
        },
        {
          "name": "stderr",
          "output_type": "stream",
          "text": [
            "Epoch [85/10000]: 100%|██████████| 9/9 [00:00<00:00, 581.44it/s, loss=32.6]\n"
          ]
        },
        {
          "name": "stdout",
          "output_type": "stream",
          "text": [
            "Epoch [85/10000]: Train loss: 36.5645, Valid loss: 38.7602\n"
          ]
        },
        {
          "name": "stderr",
          "output_type": "stream",
          "text": [
            "Epoch [86/10000]: 100%|██████████| 9/9 [00:00<00:00, 504.54it/s, loss=31.9]\n"
          ]
        },
        {
          "name": "stdout",
          "output_type": "stream",
          "text": [
            "Epoch [86/10000]: Train loss: 36.5204, Valid loss: 41.3141\n"
          ]
        },
        {
          "name": "stderr",
          "output_type": "stream",
          "text": [
            "Epoch [87/10000]: 100%|██████████| 9/9 [00:00<00:00, 532.35it/s, loss=39.9]\n"
          ]
        },
        {
          "name": "stdout",
          "output_type": "stream",
          "text": [
            "Epoch [87/10000]: Train loss: 37.0205, Valid loss: 42.3301\n"
          ]
        },
        {
          "name": "stderr",
          "output_type": "stream",
          "text": [
            "Epoch [88/10000]: 100%|██████████| 9/9 [00:00<00:00, 457.36it/s, loss=40]\n"
          ]
        },
        {
          "name": "stdout",
          "output_type": "stream",
          "text": [
            "Epoch [88/10000]: Train loss: 37.0243, Valid loss: 39.6262\n"
          ]
        },
        {
          "name": "stderr",
          "output_type": "stream",
          "text": [
            "Epoch [89/10000]: 100%|██████████| 9/9 [00:00<00:00, 515.76it/s, loss=28]\n"
          ]
        },
        {
          "name": "stdout",
          "output_type": "stream",
          "text": [
            "Epoch [89/10000]: Train loss: 36.2752, Valid loss: 36.9084\n"
          ]
        },
        {
          "name": "stderr",
          "output_type": "stream",
          "text": [
            "Epoch [90/10000]: 100%|██████████| 9/9 [00:00<00:00, 488.92it/s, loss=38]\n"
          ]
        },
        {
          "name": "stdout",
          "output_type": "stream",
          "text": [
            "Epoch [90/10000]: Train loss: 36.9082, Valid loss: 40.4641\n"
          ]
        },
        {
          "name": "stderr",
          "output_type": "stream",
          "text": [
            "Epoch [91/10000]: 100%|██████████| 9/9 [00:00<00:00, 477.38it/s, loss=43.6]\n"
          ]
        },
        {
          "name": "stdout",
          "output_type": "stream",
          "text": [
            "Epoch [91/10000]: Train loss: 37.2503, Valid loss: 38.7077\n"
          ]
        },
        {
          "name": "stderr",
          "output_type": "stream",
          "text": [
            "Epoch [92/10000]: 100%|██████████| 9/9 [00:00<00:00, 557.86it/s, loss=36.6]\n"
          ]
        },
        {
          "name": "stdout",
          "output_type": "stream",
          "text": [
            "Epoch [92/10000]: Train loss: 36.8096, Valid loss: 40.7835\n"
          ]
        },
        {
          "name": "stderr",
          "output_type": "stream",
          "text": [
            "Epoch [93/10000]: 100%|██████████| 9/9 [00:00<00:00, 590.63it/s, loss=39.1]\n"
          ]
        },
        {
          "name": "stdout",
          "output_type": "stream",
          "text": [
            "Epoch [93/10000]: Train loss: 36.9696, Valid loss: 39.0856\n"
          ]
        },
        {
          "name": "stderr",
          "output_type": "stream",
          "text": [
            "Epoch [94/10000]: 100%|██████████| 9/9 [00:00<00:00, 596.35it/s, loss=43.2]\n"
          ]
        },
        {
          "name": "stdout",
          "output_type": "stream",
          "text": [
            "Epoch [94/10000]: Train loss: 37.2224, Valid loss: 47.2860\n"
          ]
        },
        {
          "name": "stderr",
          "output_type": "stream",
          "text": [
            "Epoch [95/10000]: 100%|██████████| 9/9 [00:00<00:00, 580.64it/s, loss=30.6]\n"
          ]
        },
        {
          "name": "stdout",
          "output_type": "stream",
          "text": [
            "Epoch [95/10000]: Train loss: 36.4367, Valid loss: 36.6678\n"
          ]
        },
        {
          "name": "stderr",
          "output_type": "stream",
          "text": [
            "Epoch [96/10000]: 100%|██████████| 9/9 [00:00<00:00, 574.98it/s, loss=24]\n"
          ]
        },
        {
          "name": "stdout",
          "output_type": "stream",
          "text": [
            "Epoch [96/10000]: Train loss: 36.0206, Valid loss: 48.8071\n"
          ]
        },
        {
          "name": "stderr",
          "output_type": "stream",
          "text": [
            "Epoch [97/10000]: 100%|██████████| 9/9 [00:00<00:00, 558.98it/s, loss=39.1]\n"
          ]
        },
        {
          "name": "stdout",
          "output_type": "stream",
          "text": [
            "Epoch [97/10000]: Train loss: 36.9713, Valid loss: 43.0980\n"
          ]
        },
        {
          "name": "stderr",
          "output_type": "stream",
          "text": [
            "Epoch [98/10000]: 100%|██████████| 9/9 [00:00<00:00, 611.25it/s, loss=35.7]\n"
          ]
        },
        {
          "name": "stdout",
          "output_type": "stream",
          "text": [
            "Epoch [98/10000]: Train loss: 36.7539, Valid loss: 37.7536\n"
          ]
        },
        {
          "name": "stderr",
          "output_type": "stream",
          "text": [
            "Epoch [99/10000]: 100%|██████████| 9/9 [00:00<00:00, 592.54it/s, loss=36.9]\n"
          ]
        },
        {
          "name": "stdout",
          "output_type": "stream",
          "text": [
            "Epoch [99/10000]: Train loss: 36.8244, Valid loss: 38.1915\n"
          ]
        },
        {
          "name": "stderr",
          "output_type": "stream",
          "text": [
            "Epoch [100/10000]: 100%|██████████| 9/9 [00:00<00:00, 591.91it/s, loss=33.2]\n"
          ]
        },
        {
          "name": "stdout",
          "output_type": "stream",
          "text": [
            "Epoch [100/10000]: Train loss: 36.5921, Valid loss: 35.6176\n"
          ]
        },
        {
          "name": "stderr",
          "output_type": "stream",
          "text": [
            "Epoch [101/10000]: 100%|██████████| 9/9 [00:00<00:00, 613.66it/s, loss=37.3]\n"
          ]
        },
        {
          "name": "stdout",
          "output_type": "stream",
          "text": [
            "Epoch [101/10000]: Train loss: 36.8540, Valid loss: 35.1661\n"
          ]
        },
        {
          "name": "stderr",
          "output_type": "stream",
          "text": [
            "Epoch [102/10000]: 100%|██████████| 9/9 [00:00<00:00, 585.37it/s, loss=34.1]\n"
          ]
        },
        {
          "name": "stdout",
          "output_type": "stream",
          "text": [
            "Epoch [102/10000]: Train loss: 36.6550, Valid loss: 36.0650\n"
          ]
        },
        {
          "name": "stderr",
          "output_type": "stream",
          "text": [
            "Epoch [103/10000]: 100%|██████████| 9/9 [00:00<00:00, 579.64it/s, loss=31.1]\n"
          ]
        },
        {
          "name": "stdout",
          "output_type": "stream",
          "text": [
            "Epoch [103/10000]: Train loss: 36.4628, Valid loss: 37.3796\n"
          ]
        },
        {
          "name": "stderr",
          "output_type": "stream",
          "text": [
            "Epoch [104/10000]: 100%|██████████| 9/9 [00:00<00:00, 576.40it/s, loss=41.3]\n"
          ]
        },
        {
          "name": "stdout",
          "output_type": "stream",
          "text": [
            "Epoch [104/10000]: Train loss: 37.1038, Valid loss: 44.5156\n"
          ]
        },
        {
          "name": "stderr",
          "output_type": "stream",
          "text": [
            "Epoch [105/10000]: 100%|██████████| 9/9 [00:00<00:00, 593.86it/s, loss=42.6]\n"
          ]
        },
        {
          "name": "stdout",
          "output_type": "stream",
          "text": [
            "Epoch [105/10000]: Train loss: 37.1815, Valid loss: 39.2134\n"
          ]
        },
        {
          "name": "stderr",
          "output_type": "stream",
          "text": [
            "Epoch [106/10000]: 100%|██████████| 9/9 [00:00<00:00, 132.79it/s, loss=28.8]\n"
          ]
        },
        {
          "name": "stdout",
          "output_type": "stream",
          "text": [
            "Epoch [106/10000]: Train loss: 36.3227, Valid loss: 38.2273\n"
          ]
        },
        {
          "name": "stderr",
          "output_type": "stream",
          "text": [
            "Epoch [107/10000]: 100%|██████████| 9/9 [00:00<00:00, 441.45it/s, loss=32]\n"
          ]
        },
        {
          "name": "stdout",
          "output_type": "stream",
          "text": [
            "Epoch [107/10000]: Train loss: 36.5207, Valid loss: 37.8600\n"
          ]
        },
        {
          "name": "stderr",
          "output_type": "stream",
          "text": [
            "Epoch [108/10000]: 100%|██████████| 9/9 [00:00<00:00, 337.56it/s, loss=45]\n"
          ]
        },
        {
          "name": "stdout",
          "output_type": "stream",
          "text": [
            "Epoch [108/10000]: Train loss: 37.3343, Valid loss: 39.1801\n"
          ]
        },
        {
          "name": "stderr",
          "output_type": "stream",
          "text": [
            "Epoch [109/10000]: 100%|██████████| 9/9 [00:00<00:00, 504.71it/s, loss=25.4]\n"
          ]
        },
        {
          "name": "stdout",
          "output_type": "stream",
          "text": [
            "Epoch [109/10000]: Train loss: 36.1105, Valid loss: 34.8166\n"
          ]
        },
        {
          "name": "stderr",
          "output_type": "stream",
          "text": [
            "Epoch [110/10000]: 100%|██████████| 9/9 [00:00<00:00, 427.53it/s, loss=36.2]\n"
          ]
        },
        {
          "name": "stdout",
          "output_type": "stream",
          "text": [
            "Epoch [110/10000]: Train loss: 36.7830, Valid loss: 42.1961\n"
          ]
        },
        {
          "name": "stderr",
          "output_type": "stream",
          "text": [
            "Epoch [111/10000]: 100%|██████████| 9/9 [00:00<00:00, 455.24it/s, loss=41.2]\n"
          ]
        },
        {
          "name": "stdout",
          "output_type": "stream",
          "text": [
            "Epoch [111/10000]: Train loss: 37.0959, Valid loss: 41.5897\n"
          ]
        },
        {
          "name": "stderr",
          "output_type": "stream",
          "text": [
            "Epoch [112/10000]: 100%|██████████| 9/9 [00:00<00:00, 538.15it/s, loss=43.9]\n"
          ]
        },
        {
          "name": "stdout",
          "output_type": "stream",
          "text": [
            "Epoch [112/10000]: Train loss: 37.2673, Valid loss: 39.4296\n"
          ]
        },
        {
          "name": "stderr",
          "output_type": "stream",
          "text": [
            "Epoch [113/10000]: 100%|██████████| 9/9 [00:00<00:00, 461.81it/s, loss=47.8]\n"
          ]
        },
        {
          "name": "stdout",
          "output_type": "stream",
          "text": [
            "Epoch [113/10000]: Train loss: 37.5079, Valid loss: 42.1118\n"
          ]
        },
        {
          "name": "stderr",
          "output_type": "stream",
          "text": [
            "Epoch [114/10000]: 100%|██████████| 9/9 [00:00<00:00, 534.35it/s, loss=33.5]\n"
          ]
        },
        {
          "name": "stdout",
          "output_type": "stream",
          "text": [
            "Epoch [114/10000]: Train loss: 36.6157, Valid loss: 34.2550\n"
          ]
        },
        {
          "name": "stderr",
          "output_type": "stream",
          "text": [
            "Epoch [115/10000]: 100%|██████████| 9/9 [00:00<00:00, 528.27it/s, loss=31.3]\n"
          ]
        },
        {
          "name": "stdout",
          "output_type": "stream",
          "text": [
            "Epoch [115/10000]: Train loss: 36.4776, Valid loss: 34.0267\n"
          ]
        },
        {
          "name": "stderr",
          "output_type": "stream",
          "text": [
            "Epoch [116/10000]: 100%|██████████| 9/9 [00:00<00:00, 526.22it/s, loss=41.4]\n"
          ]
        },
        {
          "name": "stdout",
          "output_type": "stream",
          "text": [
            "Epoch [116/10000]: Train loss: 37.1115, Valid loss: 39.2115\n"
          ]
        },
        {
          "name": "stderr",
          "output_type": "stream",
          "text": [
            "Epoch [117/10000]: 100%|██████████| 9/9 [00:00<00:00, 528.10it/s, loss=32.8]\n"
          ]
        },
        {
          "name": "stdout",
          "output_type": "stream",
          "text": [
            "Epoch [117/10000]: Train loss: 36.5697, Valid loss: 37.6875\n"
          ]
        },
        {
          "name": "stderr",
          "output_type": "stream",
          "text": [
            "Epoch [118/10000]: 100%|██████████| 9/9 [00:00<00:00, 525.89it/s, loss=21]\n"
          ]
        },
        {
          "name": "stdout",
          "output_type": "stream",
          "text": [
            "Epoch [118/10000]: Train loss: 35.8354, Valid loss: 36.5562\n"
          ]
        },
        {
          "name": "stderr",
          "output_type": "stream",
          "text": [
            "Epoch [119/10000]: 100%|██████████| 9/9 [00:00<00:00, 490.87it/s, loss=37.7]\n"
          ]
        },
        {
          "name": "stdout",
          "output_type": "stream",
          "text": [
            "Epoch [119/10000]: Train loss: 36.8795, Valid loss: 37.3368\n"
          ]
        },
        {
          "name": "stderr",
          "output_type": "stream",
          "text": [
            "Epoch [120/10000]: 100%|██████████| 9/9 [00:00<00:00, 496.28it/s, loss=35.6]\n"
          ]
        },
        {
          "name": "stdout",
          "output_type": "stream",
          "text": [
            "Epoch [120/10000]: Train loss: 36.7491, Valid loss: 34.3299\n"
          ]
        },
        {
          "name": "stderr",
          "output_type": "stream",
          "text": [
            "Epoch [121/10000]: 100%|██████████| 9/9 [00:00<00:00, 530.10it/s, loss=36.7]\n"
          ]
        },
        {
          "name": "stdout",
          "output_type": "stream",
          "text": [
            "Epoch [121/10000]: Train loss: 36.8155, Valid loss: 42.6133\n"
          ]
        },
        {
          "name": "stderr",
          "output_type": "stream",
          "text": [
            "Epoch [122/10000]: 100%|██████████| 9/9 [00:00<00:00, 461.23it/s, loss=31.7]\n"
          ]
        },
        {
          "name": "stdout",
          "output_type": "stream",
          "text": [
            "Epoch [122/10000]: Train loss: 36.5053, Valid loss: 38.4436\n"
          ]
        },
        {
          "name": "stderr",
          "output_type": "stream",
          "text": [
            "Epoch [123/10000]: 100%|██████████| 9/9 [00:00<00:00, 496.65it/s, loss=38.7]\n"
          ]
        },
        {
          "name": "stdout",
          "output_type": "stream",
          "text": [
            "Epoch [123/10000]: Train loss: 36.9424, Valid loss: 37.8105\n"
          ]
        },
        {
          "name": "stderr",
          "output_type": "stream",
          "text": [
            "Epoch [124/10000]: 100%|██████████| 9/9 [00:00<00:00, 487.41it/s, loss=34.5]\n"
          ]
        },
        {
          "name": "stdout",
          "output_type": "stream",
          "text": [
            "Epoch [124/10000]: Train loss: 36.6787, Valid loss: 34.2491\n"
          ]
        },
        {
          "name": "stderr",
          "output_type": "stream",
          "text": [
            "Epoch [125/10000]: 100%|██████████| 9/9 [00:00<00:00, 537.34it/s, loss=48.9]\n"
          ]
        },
        {
          "name": "stdout",
          "output_type": "stream",
          "text": [
            "Epoch [125/10000]: Train loss: 37.5780, Valid loss: 44.0964\n"
          ]
        },
        {
          "name": "stderr",
          "output_type": "stream",
          "text": [
            "Epoch [126/10000]: 100%|██████████| 9/9 [00:00<00:00, 384.47it/s, loss=31.5]\n"
          ]
        },
        {
          "name": "stdout",
          "output_type": "stream",
          "text": [
            "Epoch [126/10000]: Train loss: 36.4889, Valid loss: 37.7646\n"
          ]
        },
        {
          "name": "stderr",
          "output_type": "stream",
          "text": [
            "Epoch [127/10000]: 100%|██████████| 9/9 [00:00<00:00, 319.19it/s, loss=35.5]\n"
          ]
        },
        {
          "name": "stdout",
          "output_type": "stream",
          "text": [
            "Epoch [127/10000]: Train loss: 36.7446, Valid loss: 35.7275\n"
          ]
        },
        {
          "name": "stderr",
          "output_type": "stream",
          "text": [
            "Epoch [128/10000]: 100%|██████████| 9/9 [00:00<00:00, 64.34it/s, loss=35.7]\n"
          ]
        },
        {
          "name": "stdout",
          "output_type": "stream",
          "text": [
            "Epoch [128/10000]: Train loss: 36.7520, Valid loss: 32.3042\n"
          ]
        },
        {
          "name": "stderr",
          "output_type": "stream",
          "text": [
            "Epoch [129/10000]: 100%|██████████| 9/9 [00:00<00:00, 303.27it/s, loss=41.7]\n"
          ]
        },
        {
          "name": "stdout",
          "output_type": "stream",
          "text": [
            "Epoch [129/10000]: Train loss: 37.1260, Valid loss: 41.8571\n"
          ]
        },
        {
          "name": "stderr",
          "output_type": "stream",
          "text": [
            "Epoch [130/10000]: 100%|██████████| 9/9 [00:00<00:00, 262.65it/s, loss=24.9]\n"
          ]
        },
        {
          "name": "stdout",
          "output_type": "stream",
          "text": [
            "Epoch [130/10000]: Train loss: 36.0824, Valid loss: 36.8004\n",
            "Epoch 00130: reducing learning rate of group 0 to 5.0000e-04.\n"
          ]
        },
        {
          "name": "stderr",
          "output_type": "stream",
          "text": [
            "Epoch [131/10000]: 100%|██████████| 9/9 [00:00<00:00, 308.12it/s, loss=51.4]\n"
          ]
        },
        {
          "name": "stdout",
          "output_type": "stream",
          "text": [
            "Epoch [131/10000]: Train loss: 37.7332, Valid loss: 43.9450\n"
          ]
        },
        {
          "name": "stderr",
          "output_type": "stream",
          "text": [
            "Epoch [132/10000]: 100%|██████████| 9/9 [00:00<00:00, 254.46it/s, loss=29.8]\n"
          ]
        },
        {
          "name": "stdout",
          "output_type": "stream",
          "text": [
            "Epoch [132/10000]: Train loss: 36.3846, Valid loss: 33.6252\n"
          ]
        },
        {
          "name": "stderr",
          "output_type": "stream",
          "text": [
            "Epoch [133/10000]: 100%|██████████| 9/9 [00:00<00:00, 377.45it/s, loss=29]\n"
          ]
        },
        {
          "name": "stdout",
          "output_type": "stream",
          "text": [
            "Epoch [133/10000]: Train loss: 36.3305, Valid loss: 37.2668\n"
          ]
        },
        {
          "name": "stderr",
          "output_type": "stream",
          "text": [
            "Epoch [134/10000]: 100%|██████████| 9/9 [00:00<00:00, 421.63it/s, loss=35.4]\n"
          ]
        },
        {
          "name": "stdout",
          "output_type": "stream",
          "text": [
            "Epoch [134/10000]: Train loss: 36.7320, Valid loss: 38.5601\n"
          ]
        },
        {
          "name": "stderr",
          "output_type": "stream",
          "text": [
            "Epoch [135/10000]: 100%|██████████| 9/9 [00:00<00:00, 389.70it/s, loss=38.9]\n"
          ]
        },
        {
          "name": "stdout",
          "output_type": "stream",
          "text": [
            "Epoch [135/10000]: Train loss: 36.9516, Valid loss: 36.2362\n"
          ]
        },
        {
          "name": "stderr",
          "output_type": "stream",
          "text": [
            "Epoch [136/10000]: 100%|██████████| 9/9 [00:00<00:00, 410.54it/s, loss=38.4]\n"
          ]
        },
        {
          "name": "stdout",
          "output_type": "stream",
          "text": [
            "Epoch [136/10000]: Train loss: 36.9218, Valid loss: 39.1807\n"
          ]
        },
        {
          "name": "stderr",
          "output_type": "stream",
          "text": [
            "Epoch [137/10000]: 100%|██████████| 9/9 [00:00<00:00, 365.53it/s, loss=30.7]\n"
          ]
        },
        {
          "name": "stdout",
          "output_type": "stream",
          "text": [
            "Epoch [137/10000]: Train loss: 36.4388, Valid loss: 41.8001\n"
          ]
        },
        {
          "name": "stderr",
          "output_type": "stream",
          "text": [
            "Epoch [138/10000]: 100%|██████████| 9/9 [00:00<00:00, 397.99it/s, loss=35.5]\n"
          ]
        },
        {
          "name": "stdout",
          "output_type": "stream",
          "text": [
            "Epoch [138/10000]: Train loss: 36.7363, Valid loss: 33.9549\n"
          ]
        },
        {
          "name": "stderr",
          "output_type": "stream",
          "text": [
            "Epoch [139/10000]: 100%|██████████| 9/9 [00:00<00:00, 416.38it/s, loss=37.9]\n"
          ]
        },
        {
          "name": "stdout",
          "output_type": "stream",
          "text": [
            "Epoch [139/10000]: Train loss: 36.8895, Valid loss: 37.3266\n"
          ]
        },
        {
          "name": "stderr",
          "output_type": "stream",
          "text": [
            "Epoch [140/10000]: 100%|██████████| 9/9 [00:00<00:00, 480.08it/s, loss=36.2]\n"
          ]
        },
        {
          "name": "stdout",
          "output_type": "stream",
          "text": [
            "Epoch [140/10000]: Train loss: 36.7844, Valid loss: 36.3072\n"
          ]
        },
        {
          "name": "stderr",
          "output_type": "stream",
          "text": [
            "Epoch [141/10000]: 100%|██████████| 9/9 [00:00<00:00, 343.79it/s, loss=37.1]\n"
          ]
        },
        {
          "name": "stdout",
          "output_type": "stream",
          "text": [
            "Epoch [141/10000]: Train loss: 36.8402, Valid loss: 40.6466\n"
          ]
        },
        {
          "name": "stderr",
          "output_type": "stream",
          "text": [
            "Epoch [142/10000]: 100%|██████████| 9/9 [00:00<00:00, 120.04it/s, loss=34.3]\n"
          ]
        },
        {
          "name": "stdout",
          "output_type": "stream",
          "text": [
            "Epoch [142/10000]: Train loss: 36.6663, Valid loss: 42.2447\n"
          ]
        },
        {
          "name": "stderr",
          "output_type": "stream",
          "text": [
            "Epoch [143/10000]: 100%|██████████| 9/9 [00:00<00:00, 274.20it/s, loss=34.5]\n"
          ]
        },
        {
          "name": "stdout",
          "output_type": "stream",
          "text": [
            "Epoch [143/10000]: Train loss: 36.6753, Valid loss: 43.2028\n"
          ]
        },
        {
          "name": "stderr",
          "output_type": "stream",
          "text": [
            "Epoch [144/10000]: 100%|██████████| 9/9 [00:00<00:00, 315.43it/s, loss=54.1]\n"
          ]
        },
        {
          "name": "stdout",
          "output_type": "stream",
          "text": [
            "Epoch [144/10000]: Train loss: 37.9027, Valid loss: 33.2036\n"
          ]
        },
        {
          "name": "stderr",
          "output_type": "stream",
          "text": [
            "Epoch [145/10000]: 100%|██████████| 9/9 [00:00<00:00, 416.73it/s, loss=40.6]\n"
          ]
        },
        {
          "name": "stdout",
          "output_type": "stream",
          "text": [
            "Epoch [145/10000]: Train loss: 37.0566, Valid loss: 40.6301\n"
          ]
        },
        {
          "name": "stderr",
          "output_type": "stream",
          "text": [
            "Epoch [146/10000]: 100%|██████████| 9/9 [00:00<00:00, 479.82it/s, loss=35.4]\n"
          ]
        },
        {
          "name": "stdout",
          "output_type": "stream",
          "text": [
            "Epoch [146/10000]: Train loss: 36.7336, Valid loss: 35.3450\n"
          ]
        },
        {
          "name": "stderr",
          "output_type": "stream",
          "text": [
            "Epoch [147/10000]: 100%|██████████| 9/9 [00:00<00:00, 466.28it/s, loss=29.1]\n"
          ]
        },
        {
          "name": "stdout",
          "output_type": "stream",
          "text": [
            "Epoch [147/10000]: Train loss: 36.3415, Valid loss: 38.7802\n"
          ]
        },
        {
          "name": "stderr",
          "output_type": "stream",
          "text": [
            "Epoch [148/10000]: 100%|██████████| 9/9 [00:00<00:00, 333.26it/s, loss=38.4]\n"
          ]
        },
        {
          "name": "stdout",
          "output_type": "stream",
          "text": [
            "Epoch [148/10000]: Train loss: 36.9191, Valid loss: 36.0346\n"
          ]
        },
        {
          "name": "stderr",
          "output_type": "stream",
          "text": [
            "Epoch [149/10000]: 100%|██████████| 9/9 [00:00<00:00, 494.53it/s, loss=35.8]\n"
          ]
        },
        {
          "name": "stdout",
          "output_type": "stream",
          "text": [
            "Epoch [149/10000]: Train loss: 36.7615, Valid loss: 39.6531\n"
          ]
        },
        {
          "name": "stderr",
          "output_type": "stream",
          "text": [
            "Epoch [150/10000]: 100%|██████████| 9/9 [00:00<00:00, 437.30it/s, loss=35.7]\n"
          ]
        },
        {
          "name": "stdout",
          "output_type": "stream",
          "text": [
            "Epoch [150/10000]: Train loss: 36.7525, Valid loss: 41.2212\n"
          ]
        },
        {
          "name": "stderr",
          "output_type": "stream",
          "text": [
            "Epoch [151/10000]: 100%|██████████| 9/9 [00:00<00:00, 350.36it/s, loss=39.4]\n"
          ]
        },
        {
          "name": "stdout",
          "output_type": "stream",
          "text": [
            "Epoch [151/10000]: Train loss: 36.9843, Valid loss: 41.2675\n"
          ]
        },
        {
          "name": "stderr",
          "output_type": "stream",
          "text": [
            "Epoch [152/10000]: 100%|██████████| 9/9 [00:00<00:00, 493.91it/s, loss=34.1]\n"
          ]
        },
        {
          "name": "stdout",
          "output_type": "stream",
          "text": [
            "Epoch [152/10000]: Train loss: 36.6486, Valid loss: 39.6585\n"
          ]
        },
        {
          "name": "stderr",
          "output_type": "stream",
          "text": [
            "Epoch [153/10000]: 100%|██████████| 9/9 [00:00<00:00, 468.32it/s, loss=22.8]\n"
          ]
        },
        {
          "name": "stdout",
          "output_type": "stream",
          "text": [
            "Epoch [153/10000]: Train loss: 35.9454, Valid loss: 39.3652\n"
          ]
        },
        {
          "name": "stderr",
          "output_type": "stream",
          "text": [
            "Epoch [154/10000]: 100%|██████████| 9/9 [00:00<00:00, 447.34it/s, loss=35.3]\n"
          ]
        },
        {
          "name": "stdout",
          "output_type": "stream",
          "text": [
            "Epoch [154/10000]: Train loss: 36.7282, Valid loss: 35.5706\n"
          ]
        },
        {
          "name": "stderr",
          "output_type": "stream",
          "text": [
            "Epoch [155/10000]: 100%|██████████| 9/9 [00:00<00:00, 502.29it/s, loss=40.6]\n"
          ]
        },
        {
          "name": "stdout",
          "output_type": "stream",
          "text": [
            "Epoch [155/10000]: Train loss: 37.0587, Valid loss: 36.3675\n"
          ]
        },
        {
          "name": "stderr",
          "output_type": "stream",
          "text": [
            "Epoch [156/10000]: 100%|██████████| 9/9 [00:00<00:00, 481.59it/s, loss=48.6]\n"
          ]
        },
        {
          "name": "stdout",
          "output_type": "stream",
          "text": [
            "Epoch [156/10000]: Train loss: 37.5563, Valid loss: 35.4169\n"
          ]
        },
        {
          "name": "stderr",
          "output_type": "stream",
          "text": [
            "Epoch [157/10000]: 100%|██████████| 9/9 [00:00<00:00, 453.34it/s, loss=35]\n"
          ]
        },
        {
          "name": "stdout",
          "output_type": "stream",
          "text": [
            "Epoch [157/10000]: Train loss: 36.7064, Valid loss: 36.5105\n"
          ]
        },
        {
          "name": "stderr",
          "output_type": "stream",
          "text": [
            "Epoch [158/10000]: 100%|██████████| 9/9 [00:00<00:00, 139.86it/s, loss=36.8]\n"
          ]
        },
        {
          "name": "stdout",
          "output_type": "stream",
          "text": [
            "Epoch [158/10000]: Train loss: 36.8200, Valid loss: 37.7760\n"
          ]
        },
        {
          "name": "stderr",
          "output_type": "stream",
          "text": [
            "Epoch [159/10000]: 100%|██████████| 9/9 [00:00<00:00, 309.38it/s, loss=38.9]\n"
          ]
        },
        {
          "name": "stdout",
          "output_type": "stream",
          "text": [
            "Epoch [159/10000]: Train loss: 36.9521, Valid loss: 32.7315\n"
          ]
        },
        {
          "name": "stderr",
          "output_type": "stream",
          "text": [
            "Epoch [160/10000]: 100%|██████████| 9/9 [00:00<00:00, 471.39it/s, loss=35.2]\n"
          ]
        },
        {
          "name": "stdout",
          "output_type": "stream",
          "text": [
            "Epoch [160/10000]: Train loss: 36.7226, Valid loss: 37.8316\n"
          ]
        },
        {
          "name": "stderr",
          "output_type": "stream",
          "text": [
            "Epoch [161/10000]: 100%|██████████| 9/9 [00:00<00:00, 455.01it/s, loss=32.7]\n"
          ]
        },
        {
          "name": "stdout",
          "output_type": "stream",
          "text": [
            "Epoch [161/10000]: Train loss: 36.5663, Valid loss: 37.8148\n"
          ]
        },
        {
          "name": "stderr",
          "output_type": "stream",
          "text": [
            "Epoch [162/10000]: 100%|██████████| 9/9 [00:00<00:00, 475.65it/s, loss=42.1]\n"
          ]
        },
        {
          "name": "stdout",
          "output_type": "stream",
          "text": [
            "Epoch [162/10000]: Train loss: 37.1522, Valid loss: 37.6601\n"
          ]
        },
        {
          "name": "stderr",
          "output_type": "stream",
          "text": [
            "Epoch [163/10000]: 100%|██████████| 9/9 [00:00<00:00, 461.59it/s, loss=50.7]\n"
          ]
        },
        {
          "name": "stdout",
          "output_type": "stream",
          "text": [
            "Epoch [163/10000]: Train loss: 37.6884, Valid loss: 42.1691\n"
          ]
        },
        {
          "name": "stderr",
          "output_type": "stream",
          "text": [
            "Epoch [164/10000]: 100%|██████████| 9/9 [00:00<00:00, 448.99it/s, loss=35.5]\n"
          ]
        },
        {
          "name": "stdout",
          "output_type": "stream",
          "text": [
            "Epoch [164/10000]: Train loss: 36.7369, Valid loss: 39.6090\n"
          ]
        },
        {
          "name": "stderr",
          "output_type": "stream",
          "text": [
            "Epoch [165/10000]: 100%|██████████| 9/9 [00:00<00:00, 443.24it/s, loss=40.6]\n"
          ]
        },
        {
          "name": "stdout",
          "output_type": "stream",
          "text": [
            "Epoch [165/10000]: Train loss: 37.0582, Valid loss: 39.7168\n"
          ]
        },
        {
          "name": "stderr",
          "output_type": "stream",
          "text": [
            "Epoch [166/10000]: 100%|██████████| 9/9 [00:00<00:00, 472.02it/s, loss=33.5]\n"
          ]
        },
        {
          "name": "stdout",
          "output_type": "stream",
          "text": [
            "Epoch [166/10000]: Train loss: 36.6161, Valid loss: 34.9624\n"
          ]
        },
        {
          "name": "stderr",
          "output_type": "stream",
          "text": [
            "Epoch [167/10000]: 100%|██████████| 9/9 [00:00<00:00, 470.25it/s, loss=32.9]\n"
          ]
        },
        {
          "name": "stdout",
          "output_type": "stream",
          "text": [
            "Epoch [167/10000]: Train loss: 36.5787, Valid loss: 37.6503\n"
          ]
        },
        {
          "name": "stderr",
          "output_type": "stream",
          "text": [
            "Epoch [168/10000]: 100%|██████████| 9/9 [00:00<00:00, 402.45it/s, loss=31.9]\n"
          ]
        },
        {
          "name": "stdout",
          "output_type": "stream",
          "text": [
            "Epoch [168/10000]: Train loss: 36.5146, Valid loss: 41.2031\n"
          ]
        },
        {
          "name": "stderr",
          "output_type": "stream",
          "text": [
            "Epoch [169/10000]: 100%|██████████| 9/9 [00:00<00:00, 398.30it/s, loss=34.1]\n"
          ]
        },
        {
          "name": "stdout",
          "output_type": "stream",
          "text": [
            "Epoch [169/10000]: Train loss: 36.6496, Valid loss: 38.1784\n"
          ]
        },
        {
          "name": "stderr",
          "output_type": "stream",
          "text": [
            "Epoch [170/10000]: 100%|██████████| 9/9 [00:00<00:00, 413.41it/s, loss=32.3]\n"
          ]
        },
        {
          "name": "stdout",
          "output_type": "stream",
          "text": [
            "Epoch [170/10000]: Train loss: 36.5377, Valid loss: 37.6784\n"
          ]
        },
        {
          "name": "stderr",
          "output_type": "stream",
          "text": [
            "Epoch [171/10000]: 100%|██████████| 9/9 [00:00<00:00, 407.57it/s, loss=42.1]\n"
          ]
        },
        {
          "name": "stdout",
          "output_type": "stream",
          "text": [
            "Epoch [171/10000]: Train loss: 37.1536, Valid loss: 43.1472\n"
          ]
        },
        {
          "name": "stderr",
          "output_type": "stream",
          "text": [
            "Epoch [172/10000]: 100%|██████████| 9/9 [00:00<00:00, 390.56it/s, loss=37.5]\n"
          ]
        },
        {
          "name": "stdout",
          "output_type": "stream",
          "text": [
            "Epoch [172/10000]: Train loss: 36.8645, Valid loss: 37.3627\n"
          ]
        },
        {
          "name": "stderr",
          "output_type": "stream",
          "text": [
            "Epoch [173/10000]: 100%|██████████| 9/9 [00:00<00:00, 460.31it/s, loss=38.3]\n"
          ]
        },
        {
          "name": "stdout",
          "output_type": "stream",
          "text": [
            "Epoch [173/10000]: Train loss: 36.9158, Valid loss: 35.3461\n"
          ]
        },
        {
          "name": "stderr",
          "output_type": "stream",
          "text": [
            "Epoch [174/10000]: 100%|██████████| 9/9 [00:00<00:00, 421.44it/s, loss=39.6]\n"
          ]
        },
        {
          "name": "stdout",
          "output_type": "stream",
          "text": [
            "Epoch [174/10000]: Train loss: 36.9920, Valid loss: 38.8431\n"
          ]
        },
        {
          "name": "stderr",
          "output_type": "stream",
          "text": [
            "Epoch [175/10000]: 100%|██████████| 9/9 [00:00<00:00, 510.75it/s, loss=34.6]\n"
          ]
        },
        {
          "name": "stdout",
          "output_type": "stream",
          "text": [
            "Epoch [175/10000]: Train loss: 36.6808, Valid loss: 33.1039\n"
          ]
        },
        {
          "name": "stderr",
          "output_type": "stream",
          "text": [
            "Epoch [176/10000]: 100%|██████████| 9/9 [00:00<00:00, 379.59it/s, loss=33.3]\n"
          ]
        },
        {
          "name": "stdout",
          "output_type": "stream",
          "text": [
            "Epoch [176/10000]: Train loss: 36.6009, Valid loss: 37.1390\n"
          ]
        },
        {
          "name": "stderr",
          "output_type": "stream",
          "text": [
            "Epoch [177/10000]: 100%|██████████| 9/9 [00:00<00:00, 419.76it/s, loss=31.7]\n"
          ]
        },
        {
          "name": "stdout",
          "output_type": "stream",
          "text": [
            "Epoch [177/10000]: Train loss: 36.5026, Valid loss: 37.5927\n"
          ]
        },
        {
          "name": "stderr",
          "output_type": "stream",
          "text": [
            "Epoch [178/10000]: 100%|██████████| 9/9 [00:00<00:00, 365.82it/s, loss=30.3]\n"
          ]
        },
        {
          "name": "stdout",
          "output_type": "stream",
          "text": [
            "Epoch [178/10000]: Train loss: 36.4134, Valid loss: 38.7330\n"
          ]
        },
        {
          "name": "stderr",
          "output_type": "stream",
          "text": [
            "Epoch [179/10000]: 100%|██████████| 9/9 [00:00<00:00, 463.32it/s, loss=32.2]\n"
          ]
        },
        {
          "name": "stdout",
          "output_type": "stream",
          "text": [
            "Epoch [179/10000]: Train loss: 36.5308, Valid loss: 34.9744\n"
          ]
        },
        {
          "name": "stderr",
          "output_type": "stream",
          "text": [
            "Epoch [180/10000]: 100%|██████████| 9/9 [00:00<00:00, 425.05it/s, loss=37.7]\n"
          ]
        },
        {
          "name": "stdout",
          "output_type": "stream",
          "text": [
            "Epoch [180/10000]: Train loss: 36.8771, Valid loss: 38.2485\n"
          ]
        },
        {
          "name": "stderr",
          "output_type": "stream",
          "text": [
            "Epoch [181/10000]: 100%|██████████| 9/9 [00:00<00:00, 540.34it/s, loss=31.6]\n"
          ]
        },
        {
          "name": "stdout",
          "output_type": "stream",
          "text": [
            "Epoch [181/10000]: Train loss: 36.4954, Valid loss: 36.3615\n",
            "Epoch 00181: reducing learning rate of group 0 to 2.5000e-04.\n"
          ]
        },
        {
          "name": "stderr",
          "output_type": "stream",
          "text": [
            "Epoch [182/10000]: 100%|██████████| 9/9 [00:00<00:00, 586.86it/s, loss=34.7]\n"
          ]
        },
        {
          "name": "stdout",
          "output_type": "stream",
          "text": [
            "Epoch [182/10000]: Train loss: 36.6907, Valid loss: 37.9221\n"
          ]
        },
        {
          "name": "stderr",
          "output_type": "stream",
          "text": [
            "Epoch [183/10000]: 100%|██████████| 9/9 [00:00<00:00, 582.93it/s, loss=28.7]\n"
          ]
        },
        {
          "name": "stdout",
          "output_type": "stream",
          "text": [
            "Epoch [183/10000]: Train loss: 36.3142, Valid loss: 38.3843\n"
          ]
        },
        {
          "name": "stderr",
          "output_type": "stream",
          "text": [
            "Epoch [184/10000]: 100%|██████████| 9/9 [00:00<00:00, 587.46it/s, loss=32.7]\n"
          ]
        },
        {
          "name": "stdout",
          "output_type": "stream",
          "text": [
            "Epoch [184/10000]: Train loss: 36.5651, Valid loss: 34.7658\n"
          ]
        },
        {
          "name": "stderr",
          "output_type": "stream",
          "text": [
            "Epoch [185/10000]: 100%|██████████| 9/9 [00:00<00:00, 587.26it/s, loss=34.1]\n"
          ]
        },
        {
          "name": "stdout",
          "output_type": "stream",
          "text": [
            "Epoch [185/10000]: Train loss: 36.6524, Valid loss: 42.4030\n"
          ]
        },
        {
          "name": "stderr",
          "output_type": "stream",
          "text": [
            "Epoch [186/10000]: 100%|██████████| 9/9 [00:00<00:00, 597.65it/s, loss=24.4]\n"
          ]
        },
        {
          "name": "stdout",
          "output_type": "stream",
          "text": [
            "Epoch [186/10000]: Train loss: 36.0479, Valid loss: 38.8054\n"
          ]
        },
        {
          "name": "stderr",
          "output_type": "stream",
          "text": [
            "Epoch [187/10000]: 100%|██████████| 9/9 [00:00<00:00, 579.07it/s, loss=36.6]\n"
          ]
        },
        {
          "name": "stdout",
          "output_type": "stream",
          "text": [
            "Epoch [187/10000]: Train loss: 36.8066, Valid loss: 38.7805\n"
          ]
        },
        {
          "name": "stderr",
          "output_type": "stream",
          "text": [
            "Epoch [188/10000]: 100%|██████████| 9/9 [00:00<00:00, 581.63it/s, loss=51.8]\n"
          ]
        },
        {
          "name": "stdout",
          "output_type": "stream",
          "text": [
            "Epoch [188/10000]: Train loss: 37.7562, Valid loss: 42.9992\n"
          ]
        },
        {
          "name": "stderr",
          "output_type": "stream",
          "text": [
            "Epoch [189/10000]: 100%|██████████| 9/9 [00:00<00:00, 596.81it/s, loss=26.1]\n"
          ]
        },
        {
          "name": "stdout",
          "output_type": "stream",
          "text": [
            "Epoch [189/10000]: Train loss: 36.1517, Valid loss: 33.1949\n"
          ]
        },
        {
          "name": "stderr",
          "output_type": "stream",
          "text": [
            "Epoch [190/10000]: 100%|██████████| 9/9 [00:00<00:00, 571.47it/s, loss=38.9]\n"
          ]
        },
        {
          "name": "stdout",
          "output_type": "stream",
          "text": [
            "Epoch [190/10000]: Train loss: 36.9522, Valid loss: 40.7237\n"
          ]
        },
        {
          "name": "stderr",
          "output_type": "stream",
          "text": [
            "Epoch [191/10000]: 100%|██████████| 9/9 [00:00<00:00, 599.56it/s, loss=30.3]\n"
          ]
        },
        {
          "name": "stdout",
          "output_type": "stream",
          "text": [
            "Epoch [191/10000]: Train loss: 36.4112, Valid loss: 41.7991\n"
          ]
        },
        {
          "name": "stderr",
          "output_type": "stream",
          "text": [
            "Epoch [192/10000]: 100%|██████████| 9/9 [00:00<00:00, 584.92it/s, loss=40.4]\n"
          ]
        },
        {
          "name": "stdout",
          "output_type": "stream",
          "text": [
            "Epoch [192/10000]: Train loss: 37.0460, Valid loss: 39.3745\n"
          ]
        },
        {
          "name": "stderr",
          "output_type": "stream",
          "text": [
            "Epoch [193/10000]: 100%|██████████| 9/9 [00:00<00:00, 595.90it/s, loss=34.3]\n"
          ]
        },
        {
          "name": "stdout",
          "output_type": "stream",
          "text": [
            "Epoch [193/10000]: Train loss: 36.6626, Valid loss: 34.1879\n"
          ]
        },
        {
          "name": "stderr",
          "output_type": "stream",
          "text": [
            "Epoch [194/10000]: 100%|██████████| 9/9 [00:00<00:00, 591.99it/s, loss=29.9]\n"
          ]
        },
        {
          "name": "stdout",
          "output_type": "stream",
          "text": [
            "Epoch [194/10000]: Train loss: 36.3865, Valid loss: 37.6426\n"
          ]
        },
        {
          "name": "stderr",
          "output_type": "stream",
          "text": [
            "Epoch [195/10000]: 100%|██████████| 9/9 [00:00<00:00, 587.81it/s, loss=30.7]\n"
          ]
        },
        {
          "name": "stdout",
          "output_type": "stream",
          "text": [
            "Epoch [195/10000]: Train loss: 36.4346, Valid loss: 35.8103\n"
          ]
        },
        {
          "name": "stderr",
          "output_type": "stream",
          "text": [
            "Epoch [196/10000]: 100%|██████████| 9/9 [00:00<00:00, 167.07it/s, loss=36.7]\n"
          ]
        },
        {
          "name": "stdout",
          "output_type": "stream",
          "text": [
            "Epoch [196/10000]: Train loss: 36.8116, Valid loss: 36.1426\n"
          ]
        },
        {
          "name": "stderr",
          "output_type": "stream",
          "text": [
            "Epoch [197/10000]: 100%|██████████| 9/9 [00:00<00:00, 541.94it/s, loss=43.7]\n"
          ]
        },
        {
          "name": "stdout",
          "output_type": "stream",
          "text": [
            "Epoch [197/10000]: Train loss: 37.2489, Valid loss: 39.2618\n"
          ]
        },
        {
          "name": "stderr",
          "output_type": "stream",
          "text": [
            "Epoch [198/10000]: 100%|██████████| 9/9 [00:00<00:00, 516.05it/s, loss=38.2]\n"
          ]
        },
        {
          "name": "stdout",
          "output_type": "stream",
          "text": [
            "Epoch [198/10000]: Train loss: 36.9047, Valid loss: 38.5019\n"
          ]
        },
        {
          "name": "stderr",
          "output_type": "stream",
          "text": [
            "Epoch [199/10000]: 100%|██████████| 9/9 [00:00<00:00, 494.18it/s, loss=45]\n"
          ]
        },
        {
          "name": "stdout",
          "output_type": "stream",
          "text": [
            "Epoch [199/10000]: Train loss: 37.3301, Valid loss: 37.6432\n"
          ]
        },
        {
          "name": "stderr",
          "output_type": "stream",
          "text": [
            "Epoch [200/10000]: 100%|██████████| 9/9 [00:00<00:00, 491.24it/s, loss=27]\n"
          ]
        },
        {
          "name": "stdout",
          "output_type": "stream",
          "text": [
            "Epoch [200/10000]: Train loss: 36.2076, Valid loss: 34.7689\n"
          ]
        },
        {
          "name": "stderr",
          "output_type": "stream",
          "text": [
            "Epoch [201/10000]: 100%|██████████| 9/9 [00:00<00:00, 496.88it/s, loss=37.5]\n"
          ]
        },
        {
          "name": "stdout",
          "output_type": "stream",
          "text": [
            "Epoch [201/10000]: Train loss: 36.8638, Valid loss: 39.7697\n"
          ]
        },
        {
          "name": "stderr",
          "output_type": "stream",
          "text": [
            "Epoch [202/10000]: 100%|██████████| 9/9 [00:00<00:00, 594.37it/s, loss=32.8]\n"
          ]
        },
        {
          "name": "stdout",
          "output_type": "stream",
          "text": [
            "Epoch [202/10000]: Train loss: 36.5703, Valid loss: 34.0797\n"
          ]
        },
        {
          "name": "stderr",
          "output_type": "stream",
          "text": [
            "Epoch [203/10000]: 100%|██████████| 9/9 [00:00<00:00, 607.54it/s, loss=38.5]\n"
          ]
        },
        {
          "name": "stdout",
          "output_type": "stream",
          "text": [
            "Epoch [203/10000]: Train loss: 36.9282, Valid loss: 30.7849\n",
            "Saving model with loss 30.785...\n"
          ]
        },
        {
          "name": "stderr",
          "output_type": "stream",
          "text": [
            "Epoch [204/10000]: 100%|██████████| 9/9 [00:00<00:00, 608.61it/s, loss=27.5]\n"
          ]
        },
        {
          "name": "stdout",
          "output_type": "stream",
          "text": [
            "Epoch [204/10000]: Train loss: 36.2424, Valid loss: 38.5683\n"
          ]
        },
        {
          "name": "stderr",
          "output_type": "stream",
          "text": [
            "Epoch [205/10000]: 100%|██████████| 9/9 [00:00<00:00, 588.86it/s, loss=35.9]\n"
          ]
        },
        {
          "name": "stdout",
          "output_type": "stream",
          "text": [
            "Epoch [205/10000]: Train loss: 36.7627, Valid loss: 42.9527\n"
          ]
        },
        {
          "name": "stderr",
          "output_type": "stream",
          "text": [
            "Epoch [206/10000]: 100%|██████████| 9/9 [00:00<00:00, 582.52it/s, loss=30.8]\n"
          ]
        },
        {
          "name": "stdout",
          "output_type": "stream",
          "text": [
            "Epoch [206/10000]: Train loss: 36.4436, Valid loss: 42.7316\n"
          ]
        },
        {
          "name": "stderr",
          "output_type": "stream",
          "text": [
            "Epoch [207/10000]: 100%|██████████| 9/9 [00:00<00:00, 593.43it/s, loss=40.9]\n"
          ]
        },
        {
          "name": "stdout",
          "output_type": "stream",
          "text": [
            "Epoch [207/10000]: Train loss: 37.0765, Valid loss: 34.7112\n"
          ]
        },
        {
          "name": "stderr",
          "output_type": "stream",
          "text": [
            "Epoch [208/10000]: 100%|██████████| 9/9 [00:00<00:00, 582.08it/s, loss=36]\n"
          ]
        },
        {
          "name": "stdout",
          "output_type": "stream",
          "text": [
            "Epoch [208/10000]: Train loss: 36.7677, Valid loss: 42.4555\n"
          ]
        },
        {
          "name": "stderr",
          "output_type": "stream",
          "text": [
            "Epoch [209/10000]: 100%|██████████| 9/9 [00:00<00:00, 582.78it/s, loss=35.6]\n"
          ]
        },
        {
          "name": "stdout",
          "output_type": "stream",
          "text": [
            "Epoch [209/10000]: Train loss: 36.7444, Valid loss: 39.0520\n"
          ]
        },
        {
          "name": "stderr",
          "output_type": "stream",
          "text": [
            "Epoch [210/10000]: 100%|██████████| 9/9 [00:00<00:00, 597.92it/s, loss=35.1]\n"
          ]
        },
        {
          "name": "stdout",
          "output_type": "stream",
          "text": [
            "Epoch [210/10000]: Train loss: 36.7155, Valid loss: 35.2790\n"
          ]
        },
        {
          "name": "stderr",
          "output_type": "stream",
          "text": [
            "Epoch [211/10000]: 100%|██████████| 9/9 [00:00<00:00, 602.17it/s, loss=27.4]\n"
          ]
        },
        {
          "name": "stdout",
          "output_type": "stream",
          "text": [
            "Epoch [211/10000]: Train loss: 36.2309, Valid loss: 43.3413\n"
          ]
        },
        {
          "name": "stderr",
          "output_type": "stream",
          "text": [
            "Epoch [212/10000]: 100%|██████████| 9/9 [00:00<00:00, 602.54it/s, loss=34]\n"
          ]
        },
        {
          "name": "stdout",
          "output_type": "stream",
          "text": [
            "Epoch [212/10000]: Train loss: 36.6443, Valid loss: 43.0924\n"
          ]
        },
        {
          "name": "stderr",
          "output_type": "stream",
          "text": [
            "Epoch [213/10000]: 100%|██████████| 9/9 [00:00<00:00, 584.73it/s, loss=35.7]\n"
          ]
        },
        {
          "name": "stdout",
          "output_type": "stream",
          "text": [
            "Epoch [213/10000]: Train loss: 36.7486, Valid loss: 32.7454\n"
          ]
        },
        {
          "name": "stderr",
          "output_type": "stream",
          "text": [
            "Epoch [214/10000]: 100%|██████████| 9/9 [00:00<00:00, 595.43it/s, loss=30]\n"
          ]
        },
        {
          "name": "stdout",
          "output_type": "stream",
          "text": [
            "Epoch [214/10000]: Train loss: 36.3914, Valid loss: 36.9457\n"
          ]
        },
        {
          "name": "stderr",
          "output_type": "stream",
          "text": [
            "Epoch [215/10000]: 100%|██████████| 9/9 [00:00<00:00, 596.94it/s, loss=33.6]\n"
          ]
        },
        {
          "name": "stdout",
          "output_type": "stream",
          "text": [
            "Epoch [215/10000]: Train loss: 36.6177, Valid loss: 41.2365\n"
          ]
        },
        {
          "name": "stderr",
          "output_type": "stream",
          "text": [
            "Epoch [216/10000]: 100%|██████████| 9/9 [00:00<00:00, 572.88it/s, loss=35.8]\n"
          ]
        },
        {
          "name": "stdout",
          "output_type": "stream",
          "text": [
            "Epoch [216/10000]: Train loss: 36.7581, Valid loss: 41.0712\n"
          ]
        },
        {
          "name": "stderr",
          "output_type": "stream",
          "text": [
            "Epoch [217/10000]: 100%|██████████| 9/9 [00:00<00:00, 124.24it/s, loss=34.7]\n"
          ]
        },
        {
          "name": "stdout",
          "output_type": "stream",
          "text": [
            "Epoch [217/10000]: Train loss: 36.6908, Valid loss: 37.2423\n"
          ]
        },
        {
          "name": "stderr",
          "output_type": "stream",
          "text": [
            "Epoch [218/10000]: 100%|██████████| 9/9 [00:00<00:00, 496.11it/s, loss=46.3]\n"
          ]
        },
        {
          "name": "stdout",
          "output_type": "stream",
          "text": [
            "Epoch [218/10000]: Train loss: 37.4154, Valid loss: 38.1639\n"
          ]
        },
        {
          "name": "stderr",
          "output_type": "stream",
          "text": [
            "Epoch [219/10000]: 100%|██████████| 9/9 [00:00<00:00, 557.20it/s, loss=31.6]\n"
          ]
        },
        {
          "name": "stdout",
          "output_type": "stream",
          "text": [
            "Epoch [219/10000]: Train loss: 36.4930, Valid loss: 33.7644\n"
          ]
        },
        {
          "name": "stderr",
          "output_type": "stream",
          "text": [
            "Epoch [220/10000]: 100%|██████████| 9/9 [00:00<00:00, 529.91it/s, loss=34.6]\n"
          ]
        },
        {
          "name": "stdout",
          "output_type": "stream",
          "text": [
            "Epoch [220/10000]: Train loss: 36.6818, Valid loss: 36.6315\n"
          ]
        },
        {
          "name": "stderr",
          "output_type": "stream",
          "text": [
            "Epoch [221/10000]: 100%|██████████| 9/9 [00:00<00:00, 534.12it/s, loss=36.5]\n"
          ]
        },
        {
          "name": "stdout",
          "output_type": "stream",
          "text": [
            "Epoch [221/10000]: Train loss: 36.7983, Valid loss: 38.5907\n"
          ]
        },
        {
          "name": "stderr",
          "output_type": "stream",
          "text": [
            "Epoch [222/10000]: 100%|██████████| 9/9 [00:00<00:00, 533.91it/s, loss=42.5]\n"
          ]
        },
        {
          "name": "stdout",
          "output_type": "stream",
          "text": [
            "Epoch [222/10000]: Train loss: 37.1741, Valid loss: 38.6958\n"
          ]
        },
        {
          "name": "stderr",
          "output_type": "stream",
          "text": [
            "Epoch [223/10000]: 100%|██████████| 9/9 [00:00<00:00, 556.55it/s, loss=29.9]\n"
          ]
        },
        {
          "name": "stdout",
          "output_type": "stream",
          "text": [
            "Epoch [223/10000]: Train loss: 36.3878, Valid loss: 34.4168\n"
          ]
        },
        {
          "name": "stderr",
          "output_type": "stream",
          "text": [
            "Epoch [224/10000]: 100%|██████████| 9/9 [00:00<00:00, 562.50it/s, loss=38.2]\n"
          ]
        },
        {
          "name": "stdout",
          "output_type": "stream",
          "text": [
            "Epoch [224/10000]: Train loss: 36.9073, Valid loss: 36.0039\n"
          ]
        },
        {
          "name": "stderr",
          "output_type": "stream",
          "text": [
            "Epoch [225/10000]: 100%|██████████| 9/9 [00:00<00:00, 561.80it/s, loss=38.1]\n"
          ]
        },
        {
          "name": "stdout",
          "output_type": "stream",
          "text": [
            "Epoch [225/10000]: Train loss: 36.9011, Valid loss: 35.3693\n"
          ]
        },
        {
          "name": "stderr",
          "output_type": "stream",
          "text": [
            "Epoch [226/10000]: 100%|██████████| 9/9 [00:00<00:00, 569.01it/s, loss=46]\n"
          ]
        },
        {
          "name": "stdout",
          "output_type": "stream",
          "text": [
            "Epoch [226/10000]: Train loss: 37.3947, Valid loss: 41.3978\n"
          ]
        },
        {
          "name": "stderr",
          "output_type": "stream",
          "text": [
            "Epoch [227/10000]: 100%|██████████| 9/9 [00:00<00:00, 519.90it/s, loss=51.2]\n"
          ]
        },
        {
          "name": "stdout",
          "output_type": "stream",
          "text": [
            "Epoch [227/10000]: Train loss: 37.7204, Valid loss: 37.0473\n"
          ]
        },
        {
          "name": "stderr",
          "output_type": "stream",
          "text": [
            "Epoch [228/10000]: 100%|██████████| 9/9 [00:00<00:00, 504.17it/s, loss=40.4]\n"
          ]
        },
        {
          "name": "stdout",
          "output_type": "stream",
          "text": [
            "Epoch [228/10000]: Train loss: 37.0446, Valid loss: 39.3091\n"
          ]
        },
        {
          "name": "stderr",
          "output_type": "stream",
          "text": [
            "Epoch [229/10000]: 100%|██████████| 9/9 [00:00<00:00, 488.07it/s, loss=44.6]\n"
          ]
        },
        {
          "name": "stdout",
          "output_type": "stream",
          "text": [
            "Epoch [229/10000]: Train loss: 37.3060, Valid loss: 36.3252\n"
          ]
        },
        {
          "name": "stderr",
          "output_type": "stream",
          "text": [
            "Epoch [230/10000]: 100%|██████████| 9/9 [00:00<00:00, 515.14it/s, loss=42]\n"
          ]
        },
        {
          "name": "stdout",
          "output_type": "stream",
          "text": [
            "Epoch [230/10000]: Train loss: 37.1450, Valid loss: 36.2082\n"
          ]
        },
        {
          "name": "stderr",
          "output_type": "stream",
          "text": [
            "Epoch [231/10000]: 100%|██████████| 9/9 [00:00<00:00, 526.20it/s, loss=38.6]\n"
          ]
        },
        {
          "name": "stdout",
          "output_type": "stream",
          "text": [
            "Epoch [231/10000]: Train loss: 36.9305, Valid loss: 37.3803\n"
          ]
        },
        {
          "name": "stderr",
          "output_type": "stream",
          "text": [
            "Epoch [232/10000]: 100%|██████████| 9/9 [00:00<00:00, 534.15it/s, loss=41.5]\n"
          ]
        },
        {
          "name": "stdout",
          "output_type": "stream",
          "text": [
            "Epoch [232/10000]: Train loss: 37.1158, Valid loss: 36.1518\n"
          ]
        },
        {
          "name": "stderr",
          "output_type": "stream",
          "text": [
            "Epoch [233/10000]: 100%|██████████| 9/9 [00:00<00:00, 468.75it/s, loss=31.7]\n"
          ]
        },
        {
          "name": "stdout",
          "output_type": "stream",
          "text": [
            "Epoch [233/10000]: Train loss: 36.4982, Valid loss: 34.6402\n"
          ]
        },
        {
          "name": "stderr",
          "output_type": "stream",
          "text": [
            "Epoch [234/10000]: 100%|██████████| 9/9 [00:00<00:00, 475.03it/s, loss=26.8]\n"
          ]
        },
        {
          "name": "stdout",
          "output_type": "stream",
          "text": [
            "Epoch [234/10000]: Train loss: 36.1969, Valid loss: 41.0114\n"
          ]
        },
        {
          "name": "stderr",
          "output_type": "stream",
          "text": [
            "Epoch [235/10000]: 100%|██████████| 9/9 [00:00<00:00, 548.35it/s, loss=43.9]\n"
          ]
        },
        {
          "name": "stdout",
          "output_type": "stream",
          "text": [
            "Epoch [235/10000]: Train loss: 37.2618, Valid loss: 43.5768\n"
          ]
        },
        {
          "name": "stderr",
          "output_type": "stream",
          "text": [
            "Epoch [236/10000]: 100%|██████████| 9/9 [00:00<00:00, 582.64it/s, loss=38.5]\n"
          ]
        },
        {
          "name": "stdout",
          "output_type": "stream",
          "text": [
            "Epoch [236/10000]: Train loss: 36.9243, Valid loss: 38.6776\n"
          ]
        },
        {
          "name": "stderr",
          "output_type": "stream",
          "text": [
            "Epoch [237/10000]: 100%|██████████| 9/9 [00:00<00:00, 594.34it/s, loss=34.1]\n"
          ]
        },
        {
          "name": "stdout",
          "output_type": "stream",
          "text": [
            "Epoch [237/10000]: Train loss: 36.6495, Valid loss: 40.2250\n"
          ]
        },
        {
          "name": "stderr",
          "output_type": "stream",
          "text": [
            "Epoch [238/10000]: 100%|██████████| 9/9 [00:00<00:00, 597.65it/s, loss=30.6]\n"
          ]
        },
        {
          "name": "stdout",
          "output_type": "stream",
          "text": [
            "Epoch [238/10000]: Train loss: 36.4331, Valid loss: 36.7662\n"
          ]
        },
        {
          "name": "stderr",
          "output_type": "stream",
          "text": [
            "Epoch [239/10000]: 100%|██████████| 9/9 [00:00<00:00, 588.54it/s, loss=33.5]\n"
          ]
        },
        {
          "name": "stdout",
          "output_type": "stream",
          "text": [
            "Epoch [239/10000]: Train loss: 36.6099, Valid loss: 36.8264\n"
          ]
        },
        {
          "name": "stderr",
          "output_type": "stream",
          "text": [
            "Epoch [240/10000]: 100%|██████████| 9/9 [00:00<00:00, 599.68it/s, loss=43.1]\n"
          ]
        },
        {
          "name": "stdout",
          "output_type": "stream",
          "text": [
            "Epoch [240/10000]: Train loss: 37.2115, Valid loss: 35.6802\n"
          ]
        },
        {
          "name": "stderr",
          "output_type": "stream",
          "text": [
            "Epoch [241/10000]: 100%|██████████| 9/9 [00:00<00:00, 607.58it/s, loss=31.3]\n"
          ]
        },
        {
          "name": "stdout",
          "output_type": "stream",
          "text": [
            "Epoch [241/10000]: Train loss: 36.4743, Valid loss: 36.3539\n"
          ]
        },
        {
          "name": "stderr",
          "output_type": "stream",
          "text": [
            "Epoch [242/10000]: 100%|██████████| 9/9 [00:00<00:00, 572.44it/s, loss=29.1]\n"
          ]
        },
        {
          "name": "stdout",
          "output_type": "stream",
          "text": [
            "Epoch [242/10000]: Train loss: 36.3386, Valid loss: 41.4415\n"
          ]
        },
        {
          "name": "stderr",
          "output_type": "stream",
          "text": [
            "Epoch [243/10000]: 100%|██████████| 9/9 [00:00<00:00, 572.22it/s, loss=41.8]\n"
          ]
        },
        {
          "name": "stdout",
          "output_type": "stream",
          "text": [
            "Epoch [243/10000]: Train loss: 37.1330, Valid loss: 35.7873\n"
          ]
        },
        {
          "name": "stderr",
          "output_type": "stream",
          "text": [
            "Epoch [244/10000]: 100%|██████████| 9/9 [00:00<00:00, 572.97it/s, loss=35.3]\n"
          ]
        },
        {
          "name": "stdout",
          "output_type": "stream",
          "text": [
            "Epoch [244/10000]: Train loss: 36.7224, Valid loss: 36.5270\n"
          ]
        },
        {
          "name": "stderr",
          "output_type": "stream",
          "text": [
            "Epoch [245/10000]: 100%|██████████| 9/9 [00:00<00:00, 606.27it/s, loss=39.7]\n"
          ]
        },
        {
          "name": "stdout",
          "output_type": "stream",
          "text": [
            "Epoch [245/10000]: Train loss: 37.0008, Valid loss: 35.0704\n"
          ]
        },
        {
          "name": "stderr",
          "output_type": "stream",
          "text": [
            "Epoch [246/10000]: 100%|██████████| 9/9 [00:00<00:00, 593.79it/s, loss=35.6]\n"
          ]
        },
        {
          "name": "stdout",
          "output_type": "stream",
          "text": [
            "Epoch [246/10000]: Train loss: 36.7458, Valid loss: 37.4731\n"
          ]
        },
        {
          "name": "stderr",
          "output_type": "stream",
          "text": [
            "Epoch [247/10000]: 100%|██████████| 9/9 [00:00<00:00, 605.86it/s, loss=44.7]\n"
          ]
        },
        {
          "name": "stdout",
          "output_type": "stream",
          "text": [
            "Epoch [247/10000]: Train loss: 37.3122, Valid loss: 36.4255\n"
          ]
        },
        {
          "name": "stderr",
          "output_type": "stream",
          "text": [
            "Epoch [248/10000]: 100%|██████████| 9/9 [00:00<00:00, 603.46it/s, loss=29.6]\n"
          ]
        },
        {
          "name": "stdout",
          "output_type": "stream",
          "text": [
            "Epoch [248/10000]: Train loss: 36.3706, Valid loss: 38.8380\n"
          ]
        },
        {
          "name": "stderr",
          "output_type": "stream",
          "text": [
            "Epoch [249/10000]: 100%|██████████| 9/9 [00:00<00:00, 504.94it/s, loss=34]\n"
          ]
        },
        {
          "name": "stdout",
          "output_type": "stream",
          "text": [
            "Epoch [249/10000]: Train loss: 36.6412, Valid loss: 41.8418\n"
          ]
        },
        {
          "name": "stderr",
          "output_type": "stream",
          "text": [
            "Epoch [250/10000]: 100%|██████████| 9/9 [00:00<00:00, 562.00it/s, loss=30.6]\n"
          ]
        },
        {
          "name": "stdout",
          "output_type": "stream",
          "text": [
            "Epoch [250/10000]: Train loss: 36.4318, Valid loss: 38.8463\n"
          ]
        },
        {
          "name": "stderr",
          "output_type": "stream",
          "text": [
            "Epoch [251/10000]: 100%|██████████| 9/9 [00:00<00:00, 172.45it/s, loss=34.5]\n"
          ]
        },
        {
          "name": "stdout",
          "output_type": "stream",
          "text": [
            "Epoch [251/10000]: Train loss: 36.6728, Valid loss: 38.2411\n"
          ]
        },
        {
          "name": "stderr",
          "output_type": "stream",
          "text": [
            "Epoch [252/10000]: 100%|██████████| 9/9 [00:00<00:00, 335.05it/s, loss=23.8]"
          ]
        },
        {
          "name": "stdout",
          "output_type": "stream",
          "text": [
            "Epoch [252/10000]: Train loss: 36.0046, Valid loss: 35.7738\n"
          ]
        },
        {
          "name": "stderr",
          "output_type": "stream",
          "text": [
            "\n",
            "Epoch [253/10000]: 100%|██████████| 9/9 [00:00<00:00, 585.00it/s, loss=31.8]\n"
          ]
        },
        {
          "name": "stdout",
          "output_type": "stream",
          "text": [
            "Epoch [253/10000]: Train loss: 36.5048, Valid loss: 41.9642\n"
          ]
        },
        {
          "name": "stderr",
          "output_type": "stream",
          "text": [
            "Epoch [254/10000]: 100%|██████████| 9/9 [00:00<00:00, 582.15it/s, loss=36.4]\n"
          ]
        },
        {
          "name": "stdout",
          "output_type": "stream",
          "text": [
            "Epoch [254/10000]: Train loss: 36.7955, Valid loss: 31.0165\n",
            "Epoch 00254: reducing learning rate of group 0 to 1.2500e-04.\n"
          ]
        },
        {
          "name": "stderr",
          "output_type": "stream",
          "text": [
            "Epoch [255/10000]: 100%|██████████| 9/9 [00:00<00:00, 611.61it/s, loss=27]\n"
          ]
        },
        {
          "name": "stdout",
          "output_type": "stream",
          "text": [
            "Epoch [255/10000]: Train loss: 36.2113, Valid loss: 31.0380\n"
          ]
        },
        {
          "name": "stderr",
          "output_type": "stream",
          "text": [
            "Epoch [256/10000]: 100%|██████████| 9/9 [00:00<00:00, 610.17it/s, loss=31.2]\n"
          ]
        },
        {
          "name": "stdout",
          "output_type": "stream",
          "text": [
            "Epoch [256/10000]: Train loss: 36.4706, Valid loss: 35.5017\n"
          ]
        },
        {
          "name": "stderr",
          "output_type": "stream",
          "text": [
            "Epoch [257/10000]: 100%|██████████| 9/9 [00:00<00:00, 593.39it/s, loss=36.3]\n"
          ]
        },
        {
          "name": "stdout",
          "output_type": "stream",
          "text": [
            "Epoch [257/10000]: Train loss: 36.7882, Valid loss: 41.4490\n"
          ]
        },
        {
          "name": "stderr",
          "output_type": "stream",
          "text": [
            "Epoch [258/10000]: 100%|██████████| 9/9 [00:00<00:00, 597.54it/s, loss=34.2]\n"
          ]
        },
        {
          "name": "stdout",
          "output_type": "stream",
          "text": [
            "Epoch [258/10000]: Train loss: 36.6559, Valid loss: 34.1953\n"
          ]
        },
        {
          "name": "stderr",
          "output_type": "stream",
          "text": [
            "Epoch [259/10000]: 100%|██████████| 9/9 [00:00<00:00, 575.16it/s, loss=36.8]\n"
          ]
        },
        {
          "name": "stdout",
          "output_type": "stream",
          "text": [
            "Epoch [259/10000]: Train loss: 36.8202, Valid loss: 36.7069\n"
          ]
        },
        {
          "name": "stderr",
          "output_type": "stream",
          "text": [
            "Epoch [260/10000]: 100%|██████████| 9/9 [00:00<00:00, 603.09it/s, loss=41.3]\n"
          ]
        },
        {
          "name": "stdout",
          "output_type": "stream",
          "text": [
            "Epoch [260/10000]: Train loss: 37.1017, Valid loss: 32.4074\n"
          ]
        },
        {
          "name": "stderr",
          "output_type": "stream",
          "text": [
            "Epoch [261/10000]: 100%|██████████| 9/9 [00:00<00:00, 611.78it/s, loss=32.9]\n"
          ]
        },
        {
          "name": "stdout",
          "output_type": "stream",
          "text": [
            "Epoch [261/10000]: Train loss: 36.5727, Valid loss: 41.3139\n"
          ]
        },
        {
          "name": "stderr",
          "output_type": "stream",
          "text": [
            "Epoch [262/10000]: 100%|██████████| 9/9 [00:00<00:00, 614.55it/s, loss=36.6]\n"
          ]
        },
        {
          "name": "stdout",
          "output_type": "stream",
          "text": [
            "Epoch [262/10000]: Train loss: 36.8060, Valid loss: 35.3462\n"
          ]
        },
        {
          "name": "stderr",
          "output_type": "stream",
          "text": [
            "Epoch [263/10000]: 100%|██████████| 9/9 [00:00<00:00, 595.72it/s, loss=36.5]\n"
          ]
        },
        {
          "name": "stdout",
          "output_type": "stream",
          "text": [
            "Epoch [263/10000]: Train loss: 36.8022, Valid loss: 40.5342\n"
          ]
        },
        {
          "name": "stderr",
          "output_type": "stream",
          "text": [
            "Epoch [264/10000]: 100%|██████████| 9/9 [00:00<00:00, 590.98it/s, loss=25.9]\n"
          ]
        },
        {
          "name": "stdout",
          "output_type": "stream",
          "text": [
            "Epoch [264/10000]: Train loss: 36.1367, Valid loss: 37.8906\n"
          ]
        },
        {
          "name": "stderr",
          "output_type": "stream",
          "text": [
            "Epoch [265/10000]: 100%|██████████| 9/9 [00:00<00:00, 607.77it/s, loss=38]\n"
          ]
        },
        {
          "name": "stdout",
          "output_type": "stream",
          "text": [
            "Epoch [265/10000]: Train loss: 36.8952, Valid loss: 37.0889\n"
          ]
        },
        {
          "name": "stderr",
          "output_type": "stream",
          "text": [
            "Epoch [266/10000]: 100%|██████████| 9/9 [00:00<00:00, 598.61it/s, loss=28.7]\n"
          ]
        },
        {
          "name": "stdout",
          "output_type": "stream",
          "text": [
            "Epoch [266/10000]: Train loss: 36.3146, Valid loss: 34.6077\n"
          ]
        },
        {
          "name": "stderr",
          "output_type": "stream",
          "text": [
            "Epoch [267/10000]: 100%|██████████| 9/9 [00:00<00:00, 569.52it/s, loss=34.7]\n"
          ]
        },
        {
          "name": "stdout",
          "output_type": "stream",
          "text": [
            "Epoch [267/10000]: Train loss: 36.6862, Valid loss: 37.5148\n"
          ]
        },
        {
          "name": "stderr",
          "output_type": "stream",
          "text": [
            "Epoch [268/10000]: 100%|██████████| 9/9 [00:00<00:00, 603.14it/s, loss=35.7]\n"
          ]
        },
        {
          "name": "stdout",
          "output_type": "stream",
          "text": [
            "Epoch [268/10000]: Train loss: 36.7479, Valid loss: 39.1143\n"
          ]
        },
        {
          "name": "stderr",
          "output_type": "stream",
          "text": [
            "Epoch [269/10000]: 100%|██████████| 9/9 [00:00<00:00, 576.67it/s, loss=37.6]\n"
          ]
        },
        {
          "name": "stdout",
          "output_type": "stream",
          "text": [
            "Epoch [269/10000]: Train loss: 36.8697, Valid loss: 42.6588\n"
          ]
        },
        {
          "name": "stderr",
          "output_type": "stream",
          "text": [
            "Epoch [270/10000]: 100%|██████████| 9/9 [00:00<00:00, 584.34it/s, loss=39.9]\n"
          ]
        },
        {
          "name": "stdout",
          "output_type": "stream",
          "text": [
            "Epoch [270/10000]: Train loss: 37.0118, Valid loss: 39.0362\n"
          ]
        },
        {
          "name": "stderr",
          "output_type": "stream",
          "text": [
            "Epoch [271/10000]: 100%|██████████| 9/9 [00:00<00:00, 600.88it/s, loss=35.9]\n"
          ]
        },
        {
          "name": "stdout",
          "output_type": "stream",
          "text": [
            "Epoch [271/10000]: Train loss: 36.7655, Valid loss: 34.9640\n"
          ]
        },
        {
          "name": "stderr",
          "output_type": "stream",
          "text": [
            "Epoch [272/10000]: 100%|██████████| 9/9 [00:00<00:00, 604.60it/s, loss=38.4]\n"
          ]
        },
        {
          "name": "stdout",
          "output_type": "stream",
          "text": [
            "Epoch [272/10000]: Train loss: 36.9221, Valid loss: 38.3151\n"
          ]
        },
        {
          "name": "stderr",
          "output_type": "stream",
          "text": [
            "Epoch [273/10000]: 100%|██████████| 9/9 [00:00<00:00, 583.69it/s, loss=40.8]\n"
          ]
        },
        {
          "name": "stdout",
          "output_type": "stream",
          "text": [
            "Epoch [273/10000]: Train loss: 37.0681, Valid loss: 33.1254\n"
          ]
        },
        {
          "name": "stderr",
          "output_type": "stream",
          "text": [
            "Epoch [274/10000]: 100%|██████████| 9/9 [00:00<00:00, 569.08it/s, loss=30.4]\n"
          ]
        },
        {
          "name": "stdout",
          "output_type": "stream",
          "text": [
            "Epoch [274/10000]: Train loss: 36.4195, Valid loss: 36.6291\n"
          ]
        },
        {
          "name": "stderr",
          "output_type": "stream",
          "text": [
            "Epoch [275/10000]: 100%|██████████| 9/9 [00:00<00:00, 588.15it/s, loss=49.3]\n"
          ]
        },
        {
          "name": "stdout",
          "output_type": "stream",
          "text": [
            "Epoch [275/10000]: Train loss: 37.5993, Valid loss: 41.4099\n"
          ]
        },
        {
          "name": "stderr",
          "output_type": "stream",
          "text": [
            "Epoch [276/10000]: 100%|██████████| 9/9 [00:00<00:00, 580.12it/s, loss=51.6]\n"
          ]
        },
        {
          "name": "stdout",
          "output_type": "stream",
          "text": [
            "Epoch [276/10000]: Train loss: 37.7443, Valid loss: 41.3632\n"
          ]
        },
        {
          "name": "stderr",
          "output_type": "stream",
          "text": [
            "Epoch [277/10000]: 100%|██████████| 9/9 [00:00<00:00, 589.67it/s, loss=26.6]\n"
          ]
        },
        {
          "name": "stdout",
          "output_type": "stream",
          "text": [
            "Epoch [277/10000]: Train loss: 36.1800, Valid loss: 38.5107\n"
          ]
        },
        {
          "name": "stderr",
          "output_type": "stream",
          "text": [
            "Epoch [278/10000]: 100%|██████████| 9/9 [00:00<00:00, 543.12it/s, loss=36.8]\n"
          ]
        },
        {
          "name": "stdout",
          "output_type": "stream",
          "text": [
            "Epoch [278/10000]: Train loss: 36.8174, Valid loss: 39.6567\n"
          ]
        },
        {
          "name": "stderr",
          "output_type": "stream",
          "text": [
            "Epoch [279/10000]: 100%|██████████| 9/9 [00:00<00:00, 514.14it/s, loss=32.7]\n"
          ]
        },
        {
          "name": "stdout",
          "output_type": "stream",
          "text": [
            "Epoch [279/10000]: Train loss: 36.5641, Valid loss: 39.3396\n"
          ]
        },
        {
          "name": "stderr",
          "output_type": "stream",
          "text": [
            "Epoch [280/10000]: 100%|██████████| 9/9 [00:00<00:00, 499.02it/s, loss=40.8]\n"
          ]
        },
        {
          "name": "stdout",
          "output_type": "stream",
          "text": [
            "Epoch [280/10000]: Train loss: 37.0677, Valid loss: 33.3098\n"
          ]
        },
        {
          "name": "stderr",
          "output_type": "stream",
          "text": [
            "Epoch [281/10000]: 100%|██████████| 9/9 [00:00<00:00, 512.17it/s, loss=36.3]\n"
          ]
        },
        {
          "name": "stdout",
          "output_type": "stream",
          "text": [
            "Epoch [281/10000]: Train loss: 36.7862, Valid loss: 34.8331\n"
          ]
        },
        {
          "name": "stderr",
          "output_type": "stream",
          "text": [
            "Epoch [282/10000]: 100%|██████████| 9/9 [00:00<00:00, 419.19it/s, loss=40.9]\n"
          ]
        },
        {
          "name": "stdout",
          "output_type": "stream",
          "text": [
            "Epoch [282/10000]: Train loss: 37.0757, Valid loss: 33.3608\n"
          ]
        },
        {
          "name": "stderr",
          "output_type": "stream",
          "text": [
            "Epoch [283/10000]: 100%|██████████| 9/9 [00:00<00:00, 489.63it/s, loss=42.4]\n"
          ]
        },
        {
          "name": "stdout",
          "output_type": "stream",
          "text": [
            "Epoch [283/10000]: Train loss: 37.1718, Valid loss: 36.0591\n"
          ]
        },
        {
          "name": "stderr",
          "output_type": "stream",
          "text": [
            "Epoch [284/10000]: 100%|██████████| 9/9 [00:00<00:00, 521.65it/s, loss=35.3]\n"
          ]
        },
        {
          "name": "stdout",
          "output_type": "stream",
          "text": [
            "Epoch [284/10000]: Train loss: 36.7280, Valid loss: 39.1872\n"
          ]
        },
        {
          "name": "stderr",
          "output_type": "stream",
          "text": [
            "Epoch [285/10000]: 100%|██████████| 9/9 [00:00<00:00, 583.51it/s, loss=39.4]\n"
          ]
        },
        {
          "name": "stdout",
          "output_type": "stream",
          "text": [
            "Epoch [285/10000]: Train loss: 36.9849, Valid loss: 34.3615\n"
          ]
        },
        {
          "name": "stderr",
          "output_type": "stream",
          "text": [
            "Epoch [286/10000]: 100%|██████████| 9/9 [00:00<00:00, 595.47it/s, loss=34.9]\n"
          ]
        },
        {
          "name": "stdout",
          "output_type": "stream",
          "text": [
            "Epoch [286/10000]: Train loss: 36.6990, Valid loss: 36.9482\n"
          ]
        },
        {
          "name": "stderr",
          "output_type": "stream",
          "text": [
            "Epoch [287/10000]: 100%|██████████| 9/9 [00:00<00:00, 594.57it/s, loss=33.8]\n"
          ]
        },
        {
          "name": "stdout",
          "output_type": "stream",
          "text": [
            "Epoch [287/10000]: Train loss: 36.6331, Valid loss: 38.3224\n"
          ]
        },
        {
          "name": "stderr",
          "output_type": "stream",
          "text": [
            "Epoch [288/10000]: 100%|██████████| 9/9 [00:00<00:00, 606.51it/s, loss=58.9]\n"
          ]
        },
        {
          "name": "stdout",
          "output_type": "stream",
          "text": [
            "Epoch [288/10000]: Train loss: 38.1991, Valid loss: 35.7496\n"
          ]
        },
        {
          "name": "stderr",
          "output_type": "stream",
          "text": [
            "Epoch [289/10000]: 100%|██████████| 9/9 [00:00<00:00, 594.17it/s, loss=35.6]\n"
          ]
        },
        {
          "name": "stdout",
          "output_type": "stream",
          "text": [
            "Epoch [289/10000]: Train loss: 36.7465, Valid loss: 33.2745\n"
          ]
        },
        {
          "name": "stderr",
          "output_type": "stream",
          "text": [
            "Epoch [290/10000]: 100%|██████████| 9/9 [00:00<00:00, 572.77it/s, loss=44]\n"
          ]
        },
        {
          "name": "stdout",
          "output_type": "stream",
          "text": [
            "Epoch [290/10000]: Train loss: 37.2712, Valid loss: 40.1827\n"
          ]
        },
        {
          "name": "stderr",
          "output_type": "stream",
          "text": [
            "Epoch [291/10000]: 100%|██████████| 9/9 [00:00<00:00, 613.75it/s, loss=44]\n"
          ]
        },
        {
          "name": "stdout",
          "output_type": "stream",
          "text": [
            "Epoch [291/10000]: Train loss: 37.2708, Valid loss: 35.7989\n"
          ]
        },
        {
          "name": "stderr",
          "output_type": "stream",
          "text": [
            "Epoch [292/10000]: 100%|██████████| 9/9 [00:00<00:00, 603.99it/s, loss=40.4]\n"
          ]
        },
        {
          "name": "stdout",
          "output_type": "stream",
          "text": [
            "Epoch [292/10000]: Train loss: 37.0464, Valid loss: 35.1828\n"
          ]
        },
        {
          "name": "stderr",
          "output_type": "stream",
          "text": [
            "Epoch [293/10000]: 100%|██████████| 9/9 [00:00<00:00, 607.82it/s, loss=35.4]\n"
          ]
        },
        {
          "name": "stdout",
          "output_type": "stream",
          "text": [
            "Epoch [293/10000]: Train loss: 36.7303, Valid loss: 43.1160\n"
          ]
        },
        {
          "name": "stderr",
          "output_type": "stream",
          "text": [
            "Epoch [294/10000]: 100%|██████████| 9/9 [00:00<00:00, 584.80it/s, loss=39.8]\n"
          ]
        },
        {
          "name": "stdout",
          "output_type": "stream",
          "text": [
            "Epoch [294/10000]: Train loss: 37.0038, Valid loss: 38.0635\n"
          ]
        },
        {
          "name": "stderr",
          "output_type": "stream",
          "text": [
            "Epoch [295/10000]: 100%|██████████| 9/9 [00:00<00:00, 564.11it/s, loss=36.5]\n"
          ]
        },
        {
          "name": "stdout",
          "output_type": "stream",
          "text": [
            "Epoch [295/10000]: Train loss: 36.8028, Valid loss: 40.2477\n"
          ]
        },
        {
          "name": "stderr",
          "output_type": "stream",
          "text": [
            "Epoch [296/10000]: 100%|██████████| 9/9 [00:00<00:00, 577.10it/s, loss=40.3]\n"
          ]
        },
        {
          "name": "stdout",
          "output_type": "stream",
          "text": [
            "Epoch [296/10000]: Train loss: 37.0371, Valid loss: 43.9930\n"
          ]
        },
        {
          "name": "stderr",
          "output_type": "stream",
          "text": [
            "Epoch [297/10000]: 100%|██████████| 9/9 [00:00<00:00, 590.75it/s, loss=39.4]\n"
          ]
        },
        {
          "name": "stdout",
          "output_type": "stream",
          "text": [
            "Epoch [297/10000]: Train loss: 36.9827, Valid loss: 39.5833\n"
          ]
        },
        {
          "name": "stderr",
          "output_type": "stream",
          "text": [
            "Epoch [298/10000]: 100%|██████████| 9/9 [00:00<00:00, 595.47it/s, loss=37.5]\n"
          ]
        },
        {
          "name": "stdout",
          "output_type": "stream",
          "text": [
            "Epoch [298/10000]: Train loss: 36.8607, Valid loss: 37.8529\n"
          ]
        },
        {
          "name": "stderr",
          "output_type": "stream",
          "text": [
            "Epoch [299/10000]: 100%|██████████| 9/9 [00:00<00:00, 180.10it/s, loss=32.9]\n"
          ]
        },
        {
          "name": "stdout",
          "output_type": "stream",
          "text": [
            "Epoch [299/10000]: Train loss: 36.5748, Valid loss: 35.8793\n"
          ]
        },
        {
          "name": "stderr",
          "output_type": "stream",
          "text": [
            "Epoch [300/10000]: 100%|██████████| 9/9 [00:00<00:00, 521.95it/s, loss=26.7]\n"
          ]
        },
        {
          "name": "stdout",
          "output_type": "stream",
          "text": [
            "Epoch [300/10000]: Train loss: 36.1886, Valid loss: 36.7570\n"
          ]
        },
        {
          "name": "stderr",
          "output_type": "stream",
          "text": [
            "Epoch [301/10000]: 100%|██████████| 9/9 [00:00<00:00, 585.51it/s, loss=29.9]\n"
          ]
        },
        {
          "name": "stdout",
          "output_type": "stream",
          "text": [
            "Epoch [301/10000]: Train loss: 36.3893, Valid loss: 46.0527\n"
          ]
        },
        {
          "name": "stderr",
          "output_type": "stream",
          "text": [
            "Epoch [302/10000]: 100%|██████████| 9/9 [00:00<00:00, 584.19it/s, loss=40.1]\n"
          ]
        },
        {
          "name": "stdout",
          "output_type": "stream",
          "text": [
            "Epoch [302/10000]: Train loss: 37.0250, Valid loss: 42.8745\n"
          ]
        },
        {
          "name": "stderr",
          "output_type": "stream",
          "text": [
            "Epoch [303/10000]: 100%|██████████| 9/9 [00:00<00:00, 577.44it/s, loss=40]\n"
          ]
        },
        {
          "name": "stdout",
          "output_type": "stream",
          "text": [
            "Epoch [303/10000]: Train loss: 37.0193, Valid loss: 35.3378\n"
          ]
        },
        {
          "name": "stderr",
          "output_type": "stream",
          "text": [
            "Epoch [304/10000]: 100%|██████████| 9/9 [00:00<00:00, 605.73it/s, loss=34.3]\n"
          ]
        },
        {
          "name": "stdout",
          "output_type": "stream",
          "text": [
            "Epoch [304/10000]: Train loss: 36.6602, Valid loss: 37.4166\n"
          ]
        },
        {
          "name": "stderr",
          "output_type": "stream",
          "text": [
            "Epoch [305/10000]: 100%|██████████| 9/9 [00:00<00:00, 601.93it/s, loss=39.4]\n"
          ]
        },
        {
          "name": "stdout",
          "output_type": "stream",
          "text": [
            "Epoch [305/10000]: Train loss: 36.9788, Valid loss: 34.4054\n",
            "Epoch 00305: reducing learning rate of group 0 to 6.2500e-05.\n"
          ]
        },
        {
          "name": "stderr",
          "output_type": "stream",
          "text": [
            "Epoch [306/10000]: 100%|██████████| 9/9 [00:00<00:00, 130.28it/s, loss=35.9]\n"
          ]
        },
        {
          "name": "stdout",
          "output_type": "stream",
          "text": [
            "Epoch [306/10000]: Train loss: 36.7624, Valid loss: 43.7843\n"
          ]
        },
        {
          "name": "stderr",
          "output_type": "stream",
          "text": [
            "Epoch [307/10000]: 100%|██████████| 9/9 [00:00<00:00, 594.34it/s, loss=41.8]\n"
          ]
        },
        {
          "name": "stdout",
          "output_type": "stream",
          "text": [
            "Epoch [307/10000]: Train loss: 37.1291, Valid loss: 45.0806\n"
          ]
        },
        {
          "name": "stderr",
          "output_type": "stream",
          "text": [
            "Epoch [308/10000]: 100%|██████████| 9/9 [00:00<00:00, 601.20it/s, loss=35.2]\n"
          ]
        },
        {
          "name": "stdout",
          "output_type": "stream",
          "text": [
            "Epoch [308/10000]: Train loss: 36.7204, Valid loss: 32.1445\n"
          ]
        },
        {
          "name": "stderr",
          "output_type": "stream",
          "text": [
            "Epoch [309/10000]: 100%|██████████| 9/9 [00:00<00:00, 603.62it/s, loss=38.2]\n"
          ]
        },
        {
          "name": "stdout",
          "output_type": "stream",
          "text": [
            "Epoch [309/10000]: Train loss: 36.9061, Valid loss: 33.1991\n"
          ]
        },
        {
          "name": "stderr",
          "output_type": "stream",
          "text": [
            "Epoch [310/10000]: 100%|██████████| 9/9 [00:00<00:00, 552.46it/s, loss=25]\n"
          ]
        },
        {
          "name": "stdout",
          "output_type": "stream",
          "text": [
            "Epoch [310/10000]: Train loss: 36.0793, Valid loss: 35.4313\n"
          ]
        },
        {
          "name": "stderr",
          "output_type": "stream",
          "text": [
            "Epoch [311/10000]: 100%|██████████| 9/9 [00:00<00:00, 610.63it/s, loss=33.5]\n"
          ]
        },
        {
          "name": "stdout",
          "output_type": "stream",
          "text": [
            "Epoch [311/10000]: Train loss: 36.6155, Valid loss: 42.8067\n"
          ]
        },
        {
          "name": "stderr",
          "output_type": "stream",
          "text": [
            "Epoch [312/10000]: 100%|██████████| 9/9 [00:00<00:00, 585.43it/s, loss=30.5]\n"
          ]
        },
        {
          "name": "stdout",
          "output_type": "stream",
          "text": [
            "Epoch [312/10000]: Train loss: 36.4279, Valid loss: 40.7821\n"
          ]
        },
        {
          "name": "stderr",
          "output_type": "stream",
          "text": [
            "Epoch [313/10000]: 100%|██████████| 9/9 [00:00<00:00, 593.32it/s, loss=30.7]\n"
          ]
        },
        {
          "name": "stdout",
          "output_type": "stream",
          "text": [
            "Epoch [313/10000]: Train loss: 36.4396, Valid loss: 37.5265\n"
          ]
        },
        {
          "name": "stderr",
          "output_type": "stream",
          "text": [
            "Epoch [314/10000]: 100%|██████████| 9/9 [00:00<00:00, 611.49it/s, loss=31.9]\n"
          ]
        },
        {
          "name": "stdout",
          "output_type": "stream",
          "text": [
            "Epoch [314/10000]: Train loss: 36.5118, Valid loss: 37.6376\n"
          ]
        },
        {
          "name": "stderr",
          "output_type": "stream",
          "text": [
            "Epoch [315/10000]: 100%|██████████| 9/9 [00:00<00:00, 578.74it/s, loss=33.6]\n"
          ]
        },
        {
          "name": "stdout",
          "output_type": "stream",
          "text": [
            "Epoch [315/10000]: Train loss: 36.6182, Valid loss: 42.4678\n"
          ]
        },
        {
          "name": "stderr",
          "output_type": "stream",
          "text": [
            "Epoch [316/10000]: 100%|██████████| 9/9 [00:00<00:00, 578.85it/s, loss=42.8]\n"
          ]
        },
        {
          "name": "stdout",
          "output_type": "stream",
          "text": [
            "Epoch [316/10000]: Train loss: 37.1933, Valid loss: 36.5390\n"
          ]
        },
        {
          "name": "stderr",
          "output_type": "stream",
          "text": [
            "Epoch [317/10000]: 100%|██████████| 9/9 [00:00<00:00, 601.16it/s, loss=31.5]\n"
          ]
        },
        {
          "name": "stdout",
          "output_type": "stream",
          "text": [
            "Epoch [317/10000]: Train loss: 36.4870, Valid loss: 38.0752\n"
          ]
        },
        {
          "name": "stderr",
          "output_type": "stream",
          "text": [
            "Epoch [318/10000]: 100%|██████████| 9/9 [00:00<00:00, 589.54it/s, loss=32.7]\n"
          ]
        },
        {
          "name": "stdout",
          "output_type": "stream",
          "text": [
            "Epoch [318/10000]: Train loss: 36.5621, Valid loss: 44.2379\n"
          ]
        },
        {
          "name": "stderr",
          "output_type": "stream",
          "text": [
            "Epoch [319/10000]: 100%|██████████| 9/9 [00:00<00:00, 595.39it/s, loss=38.6]\n"
          ]
        },
        {
          "name": "stdout",
          "output_type": "stream",
          "text": [
            "Epoch [319/10000]: Train loss: 36.9323, Valid loss: 37.5520\n"
          ]
        },
        {
          "name": "stderr",
          "output_type": "stream",
          "text": [
            "Epoch [320/10000]: 100%|██████████| 9/9 [00:00<00:00, 594.73it/s, loss=37.1]\n"
          ]
        },
        {
          "name": "stdout",
          "output_type": "stream",
          "text": [
            "Epoch [320/10000]: Train loss: 36.8367, Valid loss: 35.9348\n"
          ]
        },
        {
          "name": "stderr",
          "output_type": "stream",
          "text": [
            "Epoch [321/10000]: 100%|██████████| 9/9 [00:00<00:00, 594.13it/s, loss=44.7]\n"
          ]
        },
        {
          "name": "stdout",
          "output_type": "stream",
          "text": [
            "Epoch [321/10000]: Train loss: 37.3149, Valid loss: 32.9371\n"
          ]
        },
        {
          "name": "stderr",
          "output_type": "stream",
          "text": [
            "Epoch [322/10000]: 100%|██████████| 9/9 [00:00<00:00, 586.35it/s, loss=34.8]\n"
          ]
        },
        {
          "name": "stdout",
          "output_type": "stream",
          "text": [
            "Epoch [322/10000]: Train loss: 36.6957, Valid loss: 35.7955\n"
          ]
        },
        {
          "name": "stderr",
          "output_type": "stream",
          "text": [
            "Epoch [323/10000]: 100%|██████████| 9/9 [00:00<00:00, 546.18it/s, loss=36.8]\n"
          ]
        },
        {
          "name": "stdout",
          "output_type": "stream",
          "text": [
            "Epoch [323/10000]: Train loss: 36.8220, Valid loss: 35.5008\n"
          ]
        },
        {
          "name": "stderr",
          "output_type": "stream",
          "text": [
            "Epoch [324/10000]: 100%|██████████| 9/9 [00:00<00:00, 605.11it/s, loss=43.3]\n"
          ]
        },
        {
          "name": "stdout",
          "output_type": "stream",
          "text": [
            "Epoch [324/10000]: Train loss: 37.2255, Valid loss: 36.5954\n"
          ]
        },
        {
          "name": "stderr",
          "output_type": "stream",
          "text": [
            "Epoch [325/10000]: 100%|██████████| 9/9 [00:00<00:00, 613.66it/s, loss=43]\n"
          ]
        },
        {
          "name": "stdout",
          "output_type": "stream",
          "text": [
            "Epoch [325/10000]: Train loss: 37.2063, Valid loss: 40.2315\n"
          ]
        },
        {
          "name": "stderr",
          "output_type": "stream",
          "text": [
            "Epoch [326/10000]: 100%|██████████| 9/9 [00:00<00:00, 590.31it/s, loss=37]\n"
          ]
        },
        {
          "name": "stdout",
          "output_type": "stream",
          "text": [
            "Epoch [326/10000]: Train loss: 36.8317, Valid loss: 30.6641\n",
            "Saving model with loss 30.664...\n"
          ]
        },
        {
          "name": "stderr",
          "output_type": "stream",
          "text": [
            "Epoch [327/10000]: 100%|██████████| 9/9 [00:00<00:00, 588.63it/s, loss=41.6]\n"
          ]
        },
        {
          "name": "stdout",
          "output_type": "stream",
          "text": [
            "Epoch [327/10000]: Train loss: 37.1191, Valid loss: 40.7939\n"
          ]
        },
        {
          "name": "stderr",
          "output_type": "stream",
          "text": [
            "Epoch [328/10000]: 100%|██████████| 9/9 [00:00<00:00, 588.00it/s, loss=42.3]\n"
          ]
        },
        {
          "name": "stdout",
          "output_type": "stream",
          "text": [
            "Epoch [328/10000]: Train loss: 37.1618, Valid loss: 40.9907\n"
          ]
        },
        {
          "name": "stderr",
          "output_type": "stream",
          "text": [
            "Epoch [329/10000]: 100%|██████████| 9/9 [00:00<00:00, 568.65it/s, loss=38.4]\n"
          ]
        },
        {
          "name": "stdout",
          "output_type": "stream",
          "text": [
            "Epoch [329/10000]: Train loss: 36.9200, Valid loss: 42.6494\n"
          ]
        },
        {
          "name": "stderr",
          "output_type": "stream",
          "text": [
            "Epoch [330/10000]: 100%|██████████| 9/9 [00:00<00:00, 572.24it/s, loss=43.8]\n"
          ]
        },
        {
          "name": "stdout",
          "output_type": "stream",
          "text": [
            "Epoch [330/10000]: Train loss: 37.2595, Valid loss: 39.5836\n"
          ]
        },
        {
          "name": "stderr",
          "output_type": "stream",
          "text": [
            "Epoch [331/10000]: 100%|██████████| 9/9 [00:00<00:00, 598.52it/s, loss=45.7]\n"
          ]
        },
        {
          "name": "stdout",
          "output_type": "stream",
          "text": [
            "Epoch [331/10000]: Train loss: 37.3748, Valid loss: 34.6362\n"
          ]
        },
        {
          "name": "stderr",
          "output_type": "stream",
          "text": [
            "Epoch [332/10000]: 100%|██████████| 9/9 [00:00<00:00, 582.08it/s, loss=38.2]\n"
          ]
        },
        {
          "name": "stdout",
          "output_type": "stream",
          "text": [
            "Epoch [332/10000]: Train loss: 36.9076, Valid loss: 40.1260\n"
          ]
        },
        {
          "name": "stderr",
          "output_type": "stream",
          "text": [
            "Epoch [333/10000]: 100%|██████████| 9/9 [00:00<00:00, 600.97it/s, loss=32.8]\n"
          ]
        },
        {
          "name": "stdout",
          "output_type": "stream",
          "text": [
            "Epoch [333/10000]: Train loss: 36.5700, Valid loss: 38.9512\n"
          ]
        },
        {
          "name": "stderr",
          "output_type": "stream",
          "text": [
            "Epoch [334/10000]: 100%|██████████| 9/9 [00:00<00:00, 604.72it/s, loss=37.6]\n"
          ]
        },
        {
          "name": "stdout",
          "output_type": "stream",
          "text": [
            "Epoch [334/10000]: Train loss: 36.8673, Valid loss: 37.4509\n"
          ]
        },
        {
          "name": "stderr",
          "output_type": "stream",
          "text": [
            "Epoch [335/10000]: 100%|██████████| 9/9 [00:00<00:00, 565.57it/s, loss=40.9]\n"
          ]
        },
        {
          "name": "stdout",
          "output_type": "stream",
          "text": [
            "Epoch [335/10000]: Train loss: 37.0749, Valid loss: 34.4427\n"
          ]
        },
        {
          "name": "stderr",
          "output_type": "stream",
          "text": [
            "Epoch [336/10000]: 100%|██████████| 9/9 [00:00<00:00, 547.67it/s, loss=36.4]\n"
          ]
        },
        {
          "name": "stdout",
          "output_type": "stream",
          "text": [
            "Epoch [336/10000]: Train loss: 36.7916, Valid loss: 42.1901\n"
          ]
        },
        {
          "name": "stderr",
          "output_type": "stream",
          "text": [
            "Epoch [337/10000]: 100%|██████████| 9/9 [00:00<00:00, 605.25it/s, loss=34.2]\n"
          ]
        },
        {
          "name": "stdout",
          "output_type": "stream",
          "text": [
            "Epoch [337/10000]: Train loss: 36.6586, Valid loss: 37.8805\n"
          ]
        },
        {
          "name": "stderr",
          "output_type": "stream",
          "text": [
            "Epoch [338/10000]: 100%|██████████| 9/9 [00:00<00:00, 588.92it/s, loss=39.6]\n"
          ]
        },
        {
          "name": "stdout",
          "output_type": "stream",
          "text": [
            "Epoch [338/10000]: Train loss: 36.9952, Valid loss: 39.4485\n"
          ]
        },
        {
          "name": "stderr",
          "output_type": "stream",
          "text": [
            "Epoch [339/10000]: 100%|██████████| 9/9 [00:00<00:00, 590.36it/s, loss=36.6]\n"
          ]
        },
        {
          "name": "stdout",
          "output_type": "stream",
          "text": [
            "Epoch [339/10000]: Train loss: 36.8042, Valid loss: 35.6683\n"
          ]
        },
        {
          "name": "stderr",
          "output_type": "stream",
          "text": [
            "Epoch [340/10000]: 100%|██████████| 9/9 [00:00<00:00, 322.48it/s, loss=36.5]\n"
          ]
        },
        {
          "name": "stdout",
          "output_type": "stream",
          "text": [
            "Epoch [340/10000]: Train loss: 36.8034, Valid loss: 40.2249\n"
          ]
        },
        {
          "name": "stderr",
          "output_type": "stream",
          "text": [
            "Epoch [341/10000]: 100%|██████████| 9/9 [00:00<00:00, 378.36it/s, loss=37.2]\n"
          ]
        },
        {
          "name": "stdout",
          "output_type": "stream",
          "text": [
            "Epoch [341/10000]: Train loss: 36.8449, Valid loss: 41.1004\n"
          ]
        },
        {
          "name": "stderr",
          "output_type": "stream",
          "text": [
            "Epoch [342/10000]: 100%|██████████| 9/9 [00:00<00:00, 404.33it/s, loss=46.3]\n"
          ]
        },
        {
          "name": "stdout",
          "output_type": "stream",
          "text": [
            "Epoch [342/10000]: Train loss: 37.4156, Valid loss: 33.2193\n"
          ]
        },
        {
          "name": "stderr",
          "output_type": "stream",
          "text": [
            "Epoch [343/10000]: 100%|██████████| 9/9 [00:00<00:00, 587.32it/s, loss=37.5]\n"
          ]
        },
        {
          "name": "stdout",
          "output_type": "stream",
          "text": [
            "Epoch [343/10000]: Train loss: 36.8607, Valid loss: 42.1141\n"
          ]
        },
        {
          "name": "stderr",
          "output_type": "stream",
          "text": [
            "Epoch [344/10000]: 100%|██████████| 9/9 [00:00<00:00, 605.44it/s, loss=40.4]\n"
          ]
        },
        {
          "name": "stdout",
          "output_type": "stream",
          "text": [
            "Epoch [344/10000]: Train loss: 37.0419, Valid loss: 39.9898\n"
          ]
        },
        {
          "name": "stderr",
          "output_type": "stream",
          "text": [
            "Epoch [345/10000]: 100%|██████████| 9/9 [00:00<00:00, 598.36it/s, loss=35.1]\n"
          ]
        },
        {
          "name": "stdout",
          "output_type": "stream",
          "text": [
            "Epoch [345/10000]: Train loss: 36.7156, Valid loss: 42.9990\n"
          ]
        },
        {
          "name": "stderr",
          "output_type": "stream",
          "text": [
            "Epoch [346/10000]: 100%|██████████| 9/9 [00:00<00:00, 588.31it/s, loss=26.7]\n"
          ]
        },
        {
          "name": "stdout",
          "output_type": "stream",
          "text": [
            "Epoch [346/10000]: Train loss: 36.1858, Valid loss: 45.3919\n"
          ]
        },
        {
          "name": "stderr",
          "output_type": "stream",
          "text": [
            "Epoch [347/10000]: 100%|██████████| 9/9 [00:00<00:00, 560.22it/s, loss=32.2]\n"
          ]
        },
        {
          "name": "stdout",
          "output_type": "stream",
          "text": [
            "Epoch [347/10000]: Train loss: 36.5314, Valid loss: 44.2067\n"
          ]
        },
        {
          "name": "stderr",
          "output_type": "stream",
          "text": [
            "Epoch [348/10000]: 100%|██████████| 9/9 [00:00<00:00, 531.53it/s, loss=29.7]\n"
          ]
        },
        {
          "name": "stdout",
          "output_type": "stream",
          "text": [
            "Epoch [348/10000]: Train loss: 36.3746, Valid loss: 35.8090\n"
          ]
        },
        {
          "name": "stderr",
          "output_type": "stream",
          "text": [
            "Epoch [349/10000]: 100%|██████████| 9/9 [00:00<00:00, 578.82it/s, loss=36.2]\n"
          ]
        },
        {
          "name": "stdout",
          "output_type": "stream",
          "text": [
            "Epoch [349/10000]: Train loss: 36.7829, Valid loss: 37.6996\n"
          ]
        },
        {
          "name": "stderr",
          "output_type": "stream",
          "text": [
            "Epoch [350/10000]: 100%|██████████| 9/9 [00:00<00:00, 581.47it/s, loss=37.8]\n"
          ]
        },
        {
          "name": "stdout",
          "output_type": "stream",
          "text": [
            "Epoch [350/10000]: Train loss: 36.8788, Valid loss: 37.4570\n"
          ]
        },
        {
          "name": "stderr",
          "output_type": "stream",
          "text": [
            "Epoch [351/10000]: 100%|██████████| 9/9 [00:00<00:00, 587.80it/s, loss=33.3]\n"
          ]
        },
        {
          "name": "stdout",
          "output_type": "stream",
          "text": [
            "Epoch [351/10000]: Train loss: 36.5998, Valid loss: 38.0352\n"
          ]
        },
        {
          "name": "stderr",
          "output_type": "stream",
          "text": [
            "Epoch [352/10000]: 100%|██████████| 9/9 [00:00<00:00, 511.94it/s, loss=36.1]\n"
          ]
        },
        {
          "name": "stdout",
          "output_type": "stream",
          "text": [
            "Epoch [352/10000]: Train loss: 36.7744, Valid loss: 45.5017\n"
          ]
        },
        {
          "name": "stderr",
          "output_type": "stream",
          "text": [
            "Epoch [353/10000]: 100%|██████████| 9/9 [00:00<00:00, 533.26it/s, loss=30.6]\n"
          ]
        },
        {
          "name": "stdout",
          "output_type": "stream",
          "text": [
            "Epoch [353/10000]: Train loss: 36.4316, Valid loss: 39.3779\n"
          ]
        },
        {
          "name": "stderr",
          "output_type": "stream",
          "text": [
            "Epoch [354/10000]: 100%|██████████| 9/9 [00:00<00:00, 507.53it/s, loss=39.8]\n"
          ]
        },
        {
          "name": "stdout",
          "output_type": "stream",
          "text": [
            "Epoch [354/10000]: Train loss: 37.0079, Valid loss: 38.8945\n"
          ]
        },
        {
          "name": "stderr",
          "output_type": "stream",
          "text": [
            "Epoch [355/10000]: 100%|██████████| 9/9 [00:00<00:00, 558.93it/s, loss=46.9]\n"
          ]
        },
        {
          "name": "stdout",
          "output_type": "stream",
          "text": [
            "Epoch [355/10000]: Train loss: 37.4516, Valid loss: 34.9270\n"
          ]
        },
        {
          "name": "stderr",
          "output_type": "stream",
          "text": [
            "Epoch [356/10000]: 100%|██████████| 9/9 [00:00<00:00, 565.19it/s, loss=33]\n"
          ]
        },
        {
          "name": "stdout",
          "output_type": "stream",
          "text": [
            "Epoch [356/10000]: Train loss: 36.5827, Valid loss: 35.4891\n"
          ]
        },
        {
          "name": "stderr",
          "output_type": "stream",
          "text": [
            "Epoch [357/10000]: 100%|██████████| 9/9 [00:00<00:00, 557.14it/s, loss=38.3]\n"
          ]
        },
        {
          "name": "stdout",
          "output_type": "stream",
          "text": [
            "Epoch [357/10000]: Train loss: 36.9141, Valid loss: 42.4445\n"
          ]
        },
        {
          "name": "stderr",
          "output_type": "stream",
          "text": [
            "Epoch [358/10000]: 100%|██████████| 9/9 [00:00<00:00, 568.93it/s, loss=42.8]\n"
          ]
        },
        {
          "name": "stdout",
          "output_type": "stream",
          "text": [
            "Epoch [358/10000]: Train loss: 37.1930, Valid loss: 38.2449\n"
          ]
        },
        {
          "name": "stderr",
          "output_type": "stream",
          "text": [
            "Epoch [359/10000]: 100%|██████████| 9/9 [00:00<00:00, 559.07it/s, loss=43.3]\n"
          ]
        },
        {
          "name": "stdout",
          "output_type": "stream",
          "text": [
            "Epoch [359/10000]: Train loss: 37.2254, Valid loss: 37.6016\n"
          ]
        },
        {
          "name": "stderr",
          "output_type": "stream",
          "text": [
            "Epoch [360/10000]: 100%|██████████| 9/9 [00:00<00:00, 536.36it/s, loss=40.9]\n"
          ]
        },
        {
          "name": "stdout",
          "output_type": "stream",
          "text": [
            "Epoch [360/10000]: Train loss: 37.0725, Valid loss: 43.6707\n"
          ]
        },
        {
          "name": "stderr",
          "output_type": "stream",
          "text": [
            "Epoch [361/10000]: 100%|██████████| 9/9 [00:00<00:00, 583.70it/s, loss=30.6]\n"
          ]
        },
        {
          "name": "stdout",
          "output_type": "stream",
          "text": [
            "Epoch [361/10000]: Train loss: 36.4326, Valid loss: 35.7156\n"
          ]
        },
        {
          "name": "stderr",
          "output_type": "stream",
          "text": [
            "Epoch [362/10000]: 100%|██████████| 9/9 [00:00<00:00, 605.89it/s, loss=30.6]\n"
          ]
        },
        {
          "name": "stdout",
          "output_type": "stream",
          "text": [
            "Epoch [362/10000]: Train loss: 36.4335, Valid loss: 37.8561\n"
          ]
        },
        {
          "name": "stderr",
          "output_type": "stream",
          "text": [
            "Epoch [363/10000]: 100%|██████████| 9/9 [00:00<00:00, 588.78it/s, loss=44.5]\n"
          ]
        },
        {
          "name": "stdout",
          "output_type": "stream",
          "text": [
            "Epoch [363/10000]: Train loss: 37.3010, Valid loss: 35.2693\n"
          ]
        },
        {
          "name": "stderr",
          "output_type": "stream",
          "text": [
            "Epoch [364/10000]: 100%|██████████| 9/9 [00:00<00:00, 588.23it/s, loss=33.1]\n"
          ]
        },
        {
          "name": "stdout",
          "output_type": "stream",
          "text": [
            "Epoch [364/10000]: Train loss: 36.5852, Valid loss: 35.0038\n"
          ]
        },
        {
          "name": "stderr",
          "output_type": "stream",
          "text": [
            "Epoch [365/10000]: 100%|██████████| 9/9 [00:00<00:00, 546.12it/s, loss=33.9]\n"
          ]
        },
        {
          "name": "stdout",
          "output_type": "stream",
          "text": [
            "Epoch [365/10000]: Train loss: 36.6367, Valid loss: 35.6056\n"
          ]
        },
        {
          "name": "stderr",
          "output_type": "stream",
          "text": [
            "Epoch [366/10000]: 100%|██████████| 9/9 [00:00<00:00, 595.99it/s, loss=43.7]\n"
          ]
        },
        {
          "name": "stdout",
          "output_type": "stream",
          "text": [
            "Epoch [366/10000]: Train loss: 37.2492, Valid loss: 40.0412\n"
          ]
        },
        {
          "name": "stderr",
          "output_type": "stream",
          "text": [
            "Epoch [367/10000]: 100%|██████████| 9/9 [00:00<00:00, 584.98it/s, loss=34.3]\n"
          ]
        },
        {
          "name": "stdout",
          "output_type": "stream",
          "text": [
            "Epoch [367/10000]: Train loss: 36.6642, Valid loss: 39.3803\n"
          ]
        },
        {
          "name": "stderr",
          "output_type": "stream",
          "text": [
            "Epoch [368/10000]: 100%|██████████| 9/9 [00:00<00:00, 569.26it/s, loss=38.2]\n"
          ]
        },
        {
          "name": "stdout",
          "output_type": "stream",
          "text": [
            "Epoch [368/10000]: Train loss: 36.9073, Valid loss: 32.2960\n"
          ]
        },
        {
          "name": "stderr",
          "output_type": "stream",
          "text": [
            "Epoch [369/10000]: 100%|██████████| 9/9 [00:00<00:00, 594.33it/s, loss=45.9]\n"
          ]
        },
        {
          "name": "stdout",
          "output_type": "stream",
          "text": [
            "Epoch [369/10000]: Train loss: 37.3892, Valid loss: 37.7049\n"
          ]
        },
        {
          "name": "stderr",
          "output_type": "stream",
          "text": [
            "Epoch [370/10000]: 100%|██████████| 9/9 [00:00<00:00, 571.14it/s, loss=39.2]\n"
          ]
        },
        {
          "name": "stdout",
          "output_type": "stream",
          "text": [
            "Epoch [370/10000]: Train loss: 36.9722, Valid loss: 37.1422\n"
          ]
        },
        {
          "name": "stderr",
          "output_type": "stream",
          "text": [
            "Epoch [371/10000]: 100%|██████████| 9/9 [00:00<00:00, 520.71it/s, loss=35.3]\n"
          ]
        },
        {
          "name": "stdout",
          "output_type": "stream",
          "text": [
            "Epoch [371/10000]: Train loss: 36.7243, Valid loss: 37.8593\n"
          ]
        },
        {
          "name": "stderr",
          "output_type": "stream",
          "text": [
            "Epoch [372/10000]: 100%|██████████| 9/9 [00:00<00:00, 596.47it/s, loss=39.2]\n"
          ]
        },
        {
          "name": "stdout",
          "output_type": "stream",
          "text": [
            "Epoch [372/10000]: Train loss: 36.9667, Valid loss: 40.3688\n"
          ]
        },
        {
          "name": "stderr",
          "output_type": "stream",
          "text": [
            "Epoch [373/10000]: 100%|██████████| 9/9 [00:00<00:00, 588.81it/s, loss=44.2]\n"
          ]
        },
        {
          "name": "stdout",
          "output_type": "stream",
          "text": [
            "Epoch [373/10000]: Train loss: 37.2810, Valid loss: 33.8121\n"
          ]
        },
        {
          "name": "stderr",
          "output_type": "stream",
          "text": [
            "Epoch [374/10000]: 100%|██████████| 9/9 [00:00<00:00, 596.88it/s, loss=45.4]\n"
          ]
        },
        {
          "name": "stdout",
          "output_type": "stream",
          "text": [
            "Epoch [374/10000]: Train loss: 37.3552, Valid loss: 41.8077\n"
          ]
        },
        {
          "name": "stderr",
          "output_type": "stream",
          "text": [
            "Epoch [375/10000]: 100%|██████████| 9/9 [00:00<00:00, 591.60it/s, loss=38.3]\n"
          ]
        },
        {
          "name": "stdout",
          "output_type": "stream",
          "text": [
            "Epoch [375/10000]: Train loss: 36.9109, Valid loss: 36.3218\n"
          ]
        },
        {
          "name": "stderr",
          "output_type": "stream",
          "text": [
            "Epoch [376/10000]: 100%|██████████| 9/9 [00:00<00:00, 564.41it/s, loss=27.9]\n"
          ]
        },
        {
          "name": "stdout",
          "output_type": "stream",
          "text": [
            "Epoch [376/10000]: Train loss: 36.2608, Valid loss: 33.3691\n"
          ]
        },
        {
          "name": "stderr",
          "output_type": "stream",
          "text": [
            "Epoch [377/10000]: 100%|██████████| 9/9 [00:00<00:00, 575.44it/s, loss=35.7]\n"
          ]
        },
        {
          "name": "stdout",
          "output_type": "stream",
          "text": [
            "Epoch [377/10000]: Train loss: 36.7522, Valid loss: 45.5432\n",
            "Epoch 00377: reducing learning rate of group 0 to 3.1250e-05.\n"
          ]
        },
        {
          "name": "stderr",
          "output_type": "stream",
          "text": [
            "Epoch [378/10000]: 100%|██████████| 9/9 [00:00<00:00, 604.55it/s, loss=49.9]\n"
          ]
        },
        {
          "name": "stdout",
          "output_type": "stream",
          "text": [
            "Epoch [378/10000]: Train loss: 37.6363, Valid loss: 37.2029\n"
          ]
        },
        {
          "name": "stderr",
          "output_type": "stream",
          "text": [
            "Epoch [379/10000]: 100%|██████████| 9/9 [00:00<00:00, 600.57it/s, loss=33.2]\n"
          ]
        },
        {
          "name": "stdout",
          "output_type": "stream",
          "text": [
            "Epoch [379/10000]: Train loss: 36.5940, Valid loss: 37.9337\n"
          ]
        },
        {
          "name": "stderr",
          "output_type": "stream",
          "text": [
            "Epoch [380/10000]: 100%|██████████| 9/9 [00:00<00:00, 589.47it/s, loss=37.5]\n"
          ]
        },
        {
          "name": "stdout",
          "output_type": "stream",
          "text": [
            "Epoch [380/10000]: Train loss: 36.8645, Valid loss: 37.6072\n"
          ]
        },
        {
          "name": "stderr",
          "output_type": "stream",
          "text": [
            "Epoch [381/10000]: 100%|██████████| 9/9 [00:00<00:00, 609.34it/s, loss=27.6]\n"
          ]
        },
        {
          "name": "stdout",
          "output_type": "stream",
          "text": [
            "Epoch [381/10000]: Train loss: 36.2412, Valid loss: 37.6380\n"
          ]
        },
        {
          "name": "stderr",
          "output_type": "stream",
          "text": [
            "Epoch [382/10000]: 100%|██████████| 9/9 [00:00<00:00, 590.86it/s, loss=31.3]\n"
          ]
        },
        {
          "name": "stdout",
          "output_type": "stream",
          "text": [
            "Epoch [382/10000]: Train loss: 36.4785, Valid loss: 35.3921\n"
          ]
        },
        {
          "name": "stderr",
          "output_type": "stream",
          "text": [
            "Epoch [383/10000]: 100%|██████████| 9/9 [00:00<00:00, 317.91it/s, loss=32.8]"
          ]
        },
        {
          "name": "stdout",
          "output_type": "stream",
          "text": [
            "Epoch [383/10000]: Train loss: 36.5666, Valid loss: 38.4520"
          ]
        },
        {
          "name": "stderr",
          "output_type": "stream",
          "text": [
            "\n"
          ]
        },
        {
          "name": "stdout",
          "output_type": "stream",
          "text": [
            "\n"
          ]
        },
        {
          "name": "stderr",
          "output_type": "stream",
          "text": [
            "Epoch [384/10000]: 100%|██████████| 9/9 [00:00<00:00, 272.24it/s, loss=33.7]\n"
          ]
        },
        {
          "name": "stdout",
          "output_type": "stream",
          "text": [
            "Epoch [384/10000]: Train loss: 36.6274, Valid loss: 35.5523\n"
          ]
        },
        {
          "name": "stderr",
          "output_type": "stream",
          "text": [
            "Epoch [385/10000]: 100%|██████████| 9/9 [00:00<00:00, 587.65it/s, loss=41.1]\n"
          ]
        },
        {
          "name": "stdout",
          "output_type": "stream",
          "text": [
            "Epoch [385/10000]: Train loss: 37.0900, Valid loss: 40.1980\n"
          ]
        },
        {
          "name": "stderr",
          "output_type": "stream",
          "text": [
            "Epoch [386/10000]: 100%|██████████| 9/9 [00:00<00:00, 599.60it/s, loss=41.7]\n"
          ]
        },
        {
          "name": "stdout",
          "output_type": "stream",
          "text": [
            "Epoch [386/10000]: Train loss: 37.1259, Valid loss: 34.6654\n"
          ]
        },
        {
          "name": "stderr",
          "output_type": "stream",
          "text": [
            "Epoch [387/10000]: 100%|██████████| 9/9 [00:00<00:00, 600.27it/s, loss=39]\n"
          ]
        },
        {
          "name": "stdout",
          "output_type": "stream",
          "text": [
            "Epoch [387/10000]: Train loss: 36.9556, Valid loss: 41.2926\n"
          ]
        },
        {
          "name": "stderr",
          "output_type": "stream",
          "text": [
            "Epoch [388/10000]: 100%|██████████| 9/9 [00:00<00:00, 589.32it/s, loss=28]\n"
          ]
        },
        {
          "name": "stdout",
          "output_type": "stream",
          "text": [
            "Epoch [388/10000]: Train loss: 36.2714, Valid loss: 40.8369\n"
          ]
        },
        {
          "name": "stderr",
          "output_type": "stream",
          "text": [
            "Epoch [389/10000]: 100%|██████████| 9/9 [00:00<00:00, 575.33it/s, loss=34.9]\n"
          ]
        },
        {
          "name": "stdout",
          "output_type": "stream",
          "text": [
            "Epoch [389/10000]: Train loss: 36.6996, Valid loss: 34.8240\n"
          ]
        },
        {
          "name": "stderr",
          "output_type": "stream",
          "text": [
            "Epoch [390/10000]: 100%|██████████| 9/9 [00:00<00:00, 576.33it/s, loss=44.3]\n"
          ]
        },
        {
          "name": "stdout",
          "output_type": "stream",
          "text": [
            "Epoch [390/10000]: Train loss: 37.2880, Valid loss: 38.6285\n"
          ]
        },
        {
          "name": "stderr",
          "output_type": "stream",
          "text": [
            "Epoch [391/10000]: 100%|██████████| 9/9 [00:00<00:00, 592.45it/s, loss=31.1]\n"
          ]
        },
        {
          "name": "stdout",
          "output_type": "stream",
          "text": [
            "Epoch [391/10000]: Train loss: 36.4638, Valid loss: 37.1276\n"
          ]
        },
        {
          "name": "stderr",
          "output_type": "stream",
          "text": [
            "Epoch [392/10000]: 100%|██████████| 9/9 [00:00<00:00, 585.79it/s, loss=36.6]\n"
          ]
        },
        {
          "name": "stdout",
          "output_type": "stream",
          "text": [
            "Epoch [392/10000]: Train loss: 36.8085, Valid loss: 40.3926\n"
          ]
        },
        {
          "name": "stderr",
          "output_type": "stream",
          "text": [
            "Epoch [393/10000]: 100%|██████████| 9/9 [00:00<00:00, 511.79it/s, loss=25.5]\n"
          ]
        },
        {
          "name": "stdout",
          "output_type": "stream",
          "text": [
            "Epoch [393/10000]: Train loss: 36.1099, Valid loss: 33.4875\n"
          ]
        },
        {
          "name": "stderr",
          "output_type": "stream",
          "text": [
            "Epoch [394/10000]: 100%|██████████| 9/9 [00:00<00:00, 599.72it/s, loss=32]\n"
          ]
        },
        {
          "name": "stdout",
          "output_type": "stream",
          "text": [
            "Epoch [394/10000]: Train loss: 36.5201, Valid loss: 41.2225\n"
          ]
        },
        {
          "name": "stderr",
          "output_type": "stream",
          "text": [
            "Epoch [395/10000]: 100%|██████████| 9/9 [00:00<00:00, 129.32it/s, loss=25.5]\n"
          ]
        },
        {
          "name": "stdout",
          "output_type": "stream",
          "text": [
            "Epoch [395/10000]: Train loss: 36.1138, Valid loss: 41.7876\n"
          ]
        },
        {
          "name": "stderr",
          "output_type": "stream",
          "text": [
            "Epoch [396/10000]: 100%|██████████| 9/9 [00:00<00:00, 584.94it/s, loss=35]\n"
          ]
        },
        {
          "name": "stdout",
          "output_type": "stream",
          "text": [
            "Epoch [396/10000]: Train loss: 36.7061, Valid loss: 40.5572\n"
          ]
        },
        {
          "name": "stderr",
          "output_type": "stream",
          "text": [
            "Epoch [397/10000]: 100%|██████████| 9/9 [00:00<00:00, 603.25it/s, loss=34.7]\n"
          ]
        },
        {
          "name": "stdout",
          "output_type": "stream",
          "text": [
            "Epoch [397/10000]: Train loss: 36.6871, Valid loss: 35.6918\n"
          ]
        },
        {
          "name": "stderr",
          "output_type": "stream",
          "text": [
            "Epoch [398/10000]: 100%|██████████| 9/9 [00:00<00:00, 603.29it/s, loss=34.9]\n"
          ]
        },
        {
          "name": "stdout",
          "output_type": "stream",
          "text": [
            "Epoch [398/10000]: Train loss: 36.6982, Valid loss: 37.1947\n"
          ]
        },
        {
          "name": "stderr",
          "output_type": "stream",
          "text": [
            "Epoch [399/10000]: 100%|██████████| 9/9 [00:00<00:00, 552.50it/s, loss=29.1]\n"
          ]
        },
        {
          "name": "stdout",
          "output_type": "stream",
          "text": [
            "Epoch [399/10000]: Train loss: 36.3407, Valid loss: 40.7363\n"
          ]
        },
        {
          "name": "stderr",
          "output_type": "stream",
          "text": [
            "Epoch [400/10000]: 100%|██████████| 9/9 [00:00<00:00, 585.22it/s, loss=33.9]\n"
          ]
        },
        {
          "name": "stdout",
          "output_type": "stream",
          "text": [
            "Epoch [400/10000]: Train loss: 36.6390, Valid loss: 39.5911\n"
          ]
        },
        {
          "name": "stderr",
          "output_type": "stream",
          "text": [
            "Epoch [401/10000]: 100%|██████████| 9/9 [00:00<00:00, 586.51it/s, loss=45.5]\n"
          ]
        },
        {
          "name": "stdout",
          "output_type": "stream",
          "text": [
            "Epoch [401/10000]: Train loss: 37.3621, Valid loss: 37.0605\n"
          ]
        },
        {
          "name": "stderr",
          "output_type": "stream",
          "text": [
            "Epoch [402/10000]: 100%|██████████| 9/9 [00:00<00:00, 571.47it/s, loss=41.8]\n"
          ]
        },
        {
          "name": "stdout",
          "output_type": "stream",
          "text": [
            "Epoch [402/10000]: Train loss: 37.1333, Valid loss: 38.8027\n"
          ]
        },
        {
          "name": "stderr",
          "output_type": "stream",
          "text": [
            "Epoch [403/10000]: 100%|██████████| 9/9 [00:00<00:00, 584.98it/s, loss=36.6]\n"
          ]
        },
        {
          "name": "stdout",
          "output_type": "stream",
          "text": [
            "Epoch [403/10000]: Train loss: 36.8086, Valid loss: 41.7100\n"
          ]
        },
        {
          "name": "stderr",
          "output_type": "stream",
          "text": [
            "Epoch [404/10000]: 100%|██████████| 9/9 [00:00<00:00, 544.04it/s, loss=31.4]\n"
          ]
        },
        {
          "name": "stdout",
          "output_type": "stream",
          "text": [
            "Epoch [404/10000]: Train loss: 36.4793, Valid loss: 33.5666\n"
          ]
        },
        {
          "name": "stderr",
          "output_type": "stream",
          "text": [
            "Epoch [405/10000]: 100%|██████████| 9/9 [00:00<00:00, 597.14it/s, loss=36.3]\n"
          ]
        },
        {
          "name": "stdout",
          "output_type": "stream",
          "text": [
            "Epoch [405/10000]: Train loss: 36.7865, Valid loss: 34.8310\n"
          ]
        },
        {
          "name": "stderr",
          "output_type": "stream",
          "text": [
            "Epoch [406/10000]: 100%|██████████| 9/9 [00:00<00:00, 584.15it/s, loss=44.8]\n"
          ]
        },
        {
          "name": "stdout",
          "output_type": "stream",
          "text": [
            "Epoch [406/10000]: Train loss: 37.3181, Valid loss: 41.9080\n"
          ]
        },
        {
          "name": "stderr",
          "output_type": "stream",
          "text": [
            "Epoch [407/10000]: 100%|██████████| 9/9 [00:00<00:00, 598.25it/s, loss=28.5]\n"
          ]
        },
        {
          "name": "stdout",
          "output_type": "stream",
          "text": [
            "Epoch [407/10000]: Train loss: 36.3004, Valid loss: 36.7882\n"
          ]
        },
        {
          "name": "stderr",
          "output_type": "stream",
          "text": [
            "Epoch [408/10000]: 100%|██████████| 9/9 [00:00<00:00, 599.08it/s, loss=55.5]\n"
          ]
        },
        {
          "name": "stdout",
          "output_type": "stream",
          "text": [
            "Epoch [408/10000]: Train loss: 37.9884, Valid loss: 34.7550\n"
          ]
        },
        {
          "name": "stderr",
          "output_type": "stream",
          "text": [
            "Epoch [409/10000]: 100%|██████████| 9/9 [00:00<00:00, 574.57it/s, loss=40.1]\n"
          ]
        },
        {
          "name": "stdout",
          "output_type": "stream",
          "text": [
            "Epoch [409/10000]: Train loss: 37.0247, Valid loss: 34.3079\n"
          ]
        },
        {
          "name": "stderr",
          "output_type": "stream",
          "text": [
            "Epoch [410/10000]: 100%|██████████| 9/9 [00:00<00:00, 596.70it/s, loss=33]\n"
          ]
        },
        {
          "name": "stdout",
          "output_type": "stream",
          "text": [
            "Epoch [410/10000]: Train loss: 36.5822, Valid loss: 40.3100\n"
          ]
        },
        {
          "name": "stderr",
          "output_type": "stream",
          "text": [
            "Epoch [411/10000]: 100%|██████████| 9/9 [00:00<00:00, 613.32it/s, loss=26.9]\n"
          ]
        },
        {
          "name": "stdout",
          "output_type": "stream",
          "text": [
            "Epoch [411/10000]: Train loss: 36.2028, Valid loss: 35.3487\n"
          ]
        },
        {
          "name": "stderr",
          "output_type": "stream",
          "text": [
            "Epoch [412/10000]: 100%|██████████| 9/9 [00:00<00:00, 590.87it/s, loss=44.3]\n"
          ]
        },
        {
          "name": "stdout",
          "output_type": "stream",
          "text": [
            "Epoch [412/10000]: Train loss: 37.2852, Valid loss: 39.6573\n"
          ]
        },
        {
          "name": "stderr",
          "output_type": "stream",
          "text": [
            "Epoch [413/10000]: 100%|██████████| 9/9 [00:00<00:00, 580.50it/s, loss=49.3]\n"
          ]
        },
        {
          "name": "stdout",
          "output_type": "stream",
          "text": [
            "Epoch [413/10000]: Train loss: 37.5977, Valid loss: 40.6472\n"
          ]
        },
        {
          "name": "stderr",
          "output_type": "stream",
          "text": [
            "Epoch [414/10000]: 100%|██████████| 9/9 [00:00<00:00, 535.33it/s, loss=38.9]\n"
          ]
        },
        {
          "name": "stdout",
          "output_type": "stream",
          "text": [
            "Epoch [414/10000]: Train loss: 36.9528, Valid loss: 46.6703\n"
          ]
        },
        {
          "name": "stderr",
          "output_type": "stream",
          "text": [
            "Epoch [415/10000]: 100%|██████████| 9/9 [00:00<00:00, 590.63it/s, loss=39.2]\n"
          ]
        },
        {
          "name": "stdout",
          "output_type": "stream",
          "text": [
            "Epoch [415/10000]: Train loss: 36.9666, Valid loss: 35.0542\n"
          ]
        },
        {
          "name": "stderr",
          "output_type": "stream",
          "text": [
            "Epoch [416/10000]: 100%|██████████| 9/9 [00:00<00:00, 605.70it/s, loss=36.3]\n"
          ]
        },
        {
          "name": "stdout",
          "output_type": "stream",
          "text": [
            "Epoch [416/10000]: Train loss: 36.7859, Valid loss: 32.8531\n"
          ]
        },
        {
          "name": "stderr",
          "output_type": "stream",
          "text": [
            "Epoch [417/10000]: 100%|██████████| 9/9 [00:00<00:00, 582.76it/s, loss=36.3]\n"
          ]
        },
        {
          "name": "stdout",
          "output_type": "stream",
          "text": [
            "Epoch [417/10000]: Train loss: 36.7899, Valid loss: 42.3698\n"
          ]
        },
        {
          "name": "stderr",
          "output_type": "stream",
          "text": [
            "Epoch [418/10000]: 100%|██████████| 9/9 [00:00<00:00, 355.19it/s, loss=35.4]\n"
          ]
        },
        {
          "name": "stdout",
          "output_type": "stream",
          "text": [
            "Epoch [418/10000]: Train loss: 36.7298, Valid loss: 39.0661\n"
          ]
        },
        {
          "name": "stderr",
          "output_type": "stream",
          "text": [
            "Epoch [419/10000]: 100%|██████████| 9/9 [00:00<00:00, 224.10it/s, loss=28.1]\n"
          ]
        },
        {
          "name": "stdout",
          "output_type": "stream",
          "text": [
            "Epoch [419/10000]: Train loss: 36.2724, Valid loss: 37.7885\n"
          ]
        },
        {
          "name": "stderr",
          "output_type": "stream",
          "text": [
            "Epoch [420/10000]: 100%|██████████| 9/9 [00:00<00:00, 575.56it/s, loss=27.4]\n"
          ]
        },
        {
          "name": "stdout",
          "output_type": "stream",
          "text": [
            "Epoch [420/10000]: Train loss: 36.2335, Valid loss: 33.3367\n"
          ]
        },
        {
          "name": "stderr",
          "output_type": "stream",
          "text": [
            "Epoch [421/10000]: 100%|██████████| 9/9 [00:00<00:00, 573.51it/s, loss=33.2]\n"
          ]
        },
        {
          "name": "stdout",
          "output_type": "stream",
          "text": [
            "Epoch [421/10000]: Train loss: 36.5955, Valid loss: 37.3798\n"
          ]
        },
        {
          "name": "stderr",
          "output_type": "stream",
          "text": [
            "Epoch [422/10000]: 100%|██████████| 9/9 [00:00<00:00, 590.93it/s, loss=41.8]\n"
          ]
        },
        {
          "name": "stdout",
          "output_type": "stream",
          "text": [
            "Epoch [422/10000]: Train loss: 37.1336, Valid loss: 39.6076\n"
          ]
        },
        {
          "name": "stderr",
          "output_type": "stream",
          "text": [
            "Epoch [423/10000]: 100%|██████████| 9/9 [00:00<00:00, 599.11it/s, loss=38.8]\n"
          ]
        },
        {
          "name": "stdout",
          "output_type": "stream",
          "text": [
            "Epoch [423/10000]: Train loss: 36.9436, Valid loss: 37.4195\n"
          ]
        },
        {
          "name": "stderr",
          "output_type": "stream",
          "text": [
            "Epoch [424/10000]: 100%|██████████| 9/9 [00:00<00:00, 581.65it/s, loss=32.7]\n"
          ]
        },
        {
          "name": "stdout",
          "output_type": "stream",
          "text": [
            "Epoch [424/10000]: Train loss: 36.5614, Valid loss: 38.0478\n"
          ]
        },
        {
          "name": "stderr",
          "output_type": "stream",
          "text": [
            "Epoch [425/10000]: 100%|██████████| 9/9 [00:00<00:00, 602.29it/s, loss=42.1]\n"
          ]
        },
        {
          "name": "stdout",
          "output_type": "stream",
          "text": [
            "Epoch [425/10000]: Train loss: 37.1530, Valid loss: 39.1835\n"
          ]
        },
        {
          "name": "stderr",
          "output_type": "stream",
          "text": [
            "Epoch [426/10000]: 100%|██████████| 9/9 [00:00<00:00, 597.05it/s, loss=45.2]\n"
          ]
        },
        {
          "name": "stdout",
          "output_type": "stream",
          "text": [
            "Epoch [426/10000]: Train loss: 37.3466, Valid loss: 43.4897\n"
          ]
        },
        {
          "name": "stderr",
          "output_type": "stream",
          "text": [
            "Epoch [427/10000]: 100%|██████████| 9/9 [00:00<00:00, 581.51it/s, loss=39.1]\n"
          ]
        },
        {
          "name": "stdout",
          "output_type": "stream",
          "text": [
            "Epoch [427/10000]: Train loss: 36.9597, Valid loss: 35.2585\n"
          ]
        },
        {
          "name": "stderr",
          "output_type": "stream",
          "text": [
            "Epoch [428/10000]: 100%|██████████| 9/9 [00:00<00:00, 585.44it/s, loss=34.9]\n"
          ]
        },
        {
          "name": "stdout",
          "output_type": "stream",
          "text": [
            "Epoch [428/10000]: Train loss: 36.7001, Valid loss: 37.5304\n",
            "Epoch 00428: reducing learning rate of group 0 to 1.5625e-05.\n"
          ]
        },
        {
          "name": "stderr",
          "output_type": "stream",
          "text": [
            "Epoch [429/10000]: 100%|██████████| 9/9 [00:00<00:00, 548.08it/s, loss=37.1]\n"
          ]
        },
        {
          "name": "stdout",
          "output_type": "stream",
          "text": [
            "Epoch [429/10000]: Train loss: 36.8350, Valid loss: 40.4829\n"
          ]
        },
        {
          "name": "stderr",
          "output_type": "stream",
          "text": [
            "Epoch [430/10000]: 100%|██████████| 9/9 [00:00<00:00, 585.51it/s, loss=32.4]\n"
          ]
        },
        {
          "name": "stdout",
          "output_type": "stream",
          "text": [
            "Epoch [430/10000]: Train loss: 36.5421, Valid loss: 34.4578\n"
          ]
        },
        {
          "name": "stderr",
          "output_type": "stream",
          "text": [
            "Epoch [431/10000]: 100%|██████████| 9/9 [00:00<00:00, 585.40it/s, loss=39.9]\n"
          ]
        },
        {
          "name": "stdout",
          "output_type": "stream",
          "text": [
            "Epoch [431/10000]: Train loss: 37.0138, Valid loss: 44.0058\n"
          ]
        },
        {
          "name": "stderr",
          "output_type": "stream",
          "text": [
            "Epoch [432/10000]: 100%|██████████| 9/9 [00:00<00:00, 589.43it/s, loss=35.4]\n"
          ]
        },
        {
          "name": "stdout",
          "output_type": "stream",
          "text": [
            "Epoch [432/10000]: Train loss: 36.7313, Valid loss: 35.3765\n"
          ]
        },
        {
          "name": "stderr",
          "output_type": "stream",
          "text": [
            "Epoch [433/10000]: 100%|██████████| 9/9 [00:00<00:00, 572.24it/s, loss=53.7]\n"
          ]
        },
        {
          "name": "stdout",
          "output_type": "stream",
          "text": [
            "Epoch [433/10000]: Train loss: 37.8781, Valid loss: 33.5112\n"
          ]
        },
        {
          "name": "stderr",
          "output_type": "stream",
          "text": [
            "Epoch [434/10000]: 100%|██████████| 9/9 [00:00<00:00, 532.67it/s, loss=31.3]\n"
          ]
        },
        {
          "name": "stdout",
          "output_type": "stream",
          "text": [
            "Epoch [434/10000]: Train loss: 36.4780, Valid loss: 34.2070\n"
          ]
        },
        {
          "name": "stderr",
          "output_type": "stream",
          "text": [
            "Epoch [435/10000]: 100%|██████████| 9/9 [00:00<00:00, 599.21it/s, loss=35.5]\n"
          ]
        },
        {
          "name": "stdout",
          "output_type": "stream",
          "text": [
            "Epoch [435/10000]: Train loss: 36.7347, Valid loss: 44.8703\n"
          ]
        },
        {
          "name": "stderr",
          "output_type": "stream",
          "text": [
            "Epoch [436/10000]: 100%|██████████| 9/9 [00:00<00:00, 560.57it/s, loss=37.3]\n"
          ]
        },
        {
          "name": "stdout",
          "output_type": "stream",
          "text": [
            "Epoch [436/10000]: Train loss: 36.8497, Valid loss: 35.1092\n"
          ]
        },
        {
          "name": "stderr",
          "output_type": "stream",
          "text": [
            "Epoch [437/10000]: 100%|██████████| 9/9 [00:00<00:00, 583.66it/s, loss=33.5]\n"
          ]
        },
        {
          "name": "stdout",
          "output_type": "stream",
          "text": [
            "Epoch [437/10000]: Train loss: 36.6096, Valid loss: 39.8615\n"
          ]
        },
        {
          "name": "stderr",
          "output_type": "stream",
          "text": [
            "Epoch [438/10000]: 100%|██████████| 9/9 [00:00<00:00, 556.42it/s, loss=34.1]\n"
          ]
        },
        {
          "name": "stdout",
          "output_type": "stream",
          "text": [
            "Epoch [438/10000]: Train loss: 36.6511, Valid loss: 40.5047\n"
          ]
        },
        {
          "name": "stderr",
          "output_type": "stream",
          "text": [
            "Epoch [439/10000]: 100%|██████████| 9/9 [00:00<00:00, 593.70it/s, loss=40.2]\n"
          ]
        },
        {
          "name": "stdout",
          "output_type": "stream",
          "text": [
            "Epoch [439/10000]: Train loss: 37.0298, Valid loss: 37.0704\n"
          ]
        },
        {
          "name": "stderr",
          "output_type": "stream",
          "text": [
            "Epoch [440/10000]: 100%|██████████| 9/9 [00:00<00:00, 600.31it/s, loss=42.6]\n"
          ]
        },
        {
          "name": "stdout",
          "output_type": "stream",
          "text": [
            "Epoch [440/10000]: Train loss: 37.1794, Valid loss: 38.2050\n"
          ]
        },
        {
          "name": "stderr",
          "output_type": "stream",
          "text": [
            "Epoch [441/10000]: 100%|██████████| 9/9 [00:00<00:00, 591.02it/s, loss=34.4]\n"
          ]
        },
        {
          "name": "stdout",
          "output_type": "stream",
          "text": [
            "Epoch [441/10000]: Train loss: 36.6661, Valid loss: 46.4160\n"
          ]
        },
        {
          "name": "stderr",
          "output_type": "stream",
          "text": [
            "Epoch [442/10000]: 100%|██████████| 9/9 [00:00<00:00, 572.38it/s, loss=33.4]\n"
          ]
        },
        {
          "name": "stdout",
          "output_type": "stream",
          "text": [
            "Epoch [442/10000]: Train loss: 36.6067, Valid loss: 37.8963\n"
          ]
        },
        {
          "name": "stderr",
          "output_type": "stream",
          "text": [
            "Epoch [443/10000]: 100%|██████████| 9/9 [00:00<00:00, 538.71it/s, loss=38.7]\n"
          ]
        },
        {
          "name": "stdout",
          "output_type": "stream",
          "text": [
            "Epoch [443/10000]: Train loss: 36.9364, Valid loss: 35.4525\n"
          ]
        },
        {
          "name": "stderr",
          "output_type": "stream",
          "text": [
            "Epoch [444/10000]: 100%|██████████| 9/9 [00:00<00:00, 433.70it/s, loss=33.5]\n"
          ]
        },
        {
          "name": "stdout",
          "output_type": "stream",
          "text": [
            "Epoch [444/10000]: Train loss: 36.6099, Valid loss: 40.1766\n"
          ]
        },
        {
          "name": "stderr",
          "output_type": "stream",
          "text": [
            "Epoch [445/10000]: 100%|██████████| 9/9 [00:00<00:00, 554.15it/s, loss=32.5]\n"
          ]
        },
        {
          "name": "stdout",
          "output_type": "stream",
          "text": [
            "Epoch [445/10000]: Train loss: 36.5516, Valid loss: 41.3764\n"
          ]
        },
        {
          "name": "stderr",
          "output_type": "stream",
          "text": [
            "Epoch [446/10000]: 100%|██████████| 9/9 [00:00<00:00, 555.90it/s, loss=33.6]\n"
          ]
        },
        {
          "name": "stdout",
          "output_type": "stream",
          "text": [
            "Epoch [446/10000]: Train loss: 36.6219, Valid loss: 33.8811\n"
          ]
        },
        {
          "name": "stderr",
          "output_type": "stream",
          "text": [
            "Epoch [447/10000]: 100%|██████████| 9/9 [00:00<00:00, 548.58it/s, loss=40.8]\n"
          ]
        },
        {
          "name": "stdout",
          "output_type": "stream",
          "text": [
            "Epoch [447/10000]: Train loss: 37.0709, Valid loss: 40.8034\n"
          ]
        },
        {
          "name": "stderr",
          "output_type": "stream",
          "text": [
            "Epoch [448/10000]: 100%|██████████| 9/9 [00:00<00:00, 573.61it/s, loss=36.9]\n"
          ]
        },
        {
          "name": "stdout",
          "output_type": "stream",
          "text": [
            "Epoch [448/10000]: Train loss: 36.8258, Valid loss: 43.6945\n"
          ]
        },
        {
          "name": "stderr",
          "output_type": "stream",
          "text": [
            "Epoch [449/10000]: 100%|██████████| 9/9 [00:00<00:00, 579.34it/s, loss=32.4]\n"
          ]
        },
        {
          "name": "stdout",
          "output_type": "stream",
          "text": [
            "Epoch [449/10000]: Train loss: 36.5431, Valid loss: 35.7056\n"
          ]
        },
        {
          "name": "stderr",
          "output_type": "stream",
          "text": [
            "Epoch [450/10000]: 100%|██████████| 9/9 [00:00<00:00, 179.86it/s, loss=29.4]\n"
          ]
        },
        {
          "name": "stdout",
          "output_type": "stream",
          "text": [
            "Epoch [450/10000]: Train loss: 36.3557, Valid loss: 38.1215\n"
          ]
        },
        {
          "name": "stderr",
          "output_type": "stream",
          "text": [
            "Epoch [451/10000]: 100%|██████████| 9/9 [00:00<00:00, 347.07it/s, loss=29.8]\n"
          ]
        },
        {
          "name": "stdout",
          "output_type": "stream",
          "text": [
            "Epoch [451/10000]: Train loss: 36.3840, Valid loss: 41.1760\n"
          ]
        },
        {
          "name": "stderr",
          "output_type": "stream",
          "text": [
            "Epoch [452/10000]: 100%|██████████| 9/9 [00:00<00:00, 591.57it/s, loss=45]\n"
          ]
        },
        {
          "name": "stdout",
          "output_type": "stream",
          "text": [
            "Epoch [452/10000]: Train loss: 37.3297, Valid loss: 42.6751\n"
          ]
        },
        {
          "name": "stderr",
          "output_type": "stream",
          "text": [
            "Epoch [453/10000]: 100%|██████████| 9/9 [00:00<00:00, 540.99it/s, loss=43.1]\n"
          ]
        },
        {
          "name": "stdout",
          "output_type": "stream",
          "text": [
            "Epoch [453/10000]: Train loss: 37.2136, Valid loss: 36.4531\n"
          ]
        },
        {
          "name": "stderr",
          "output_type": "stream",
          "text": [
            "Epoch [454/10000]: 100%|██████████| 9/9 [00:00<00:00, 573.98it/s, loss=38]\n"
          ]
        },
        {
          "name": "stdout",
          "output_type": "stream",
          "text": [
            "Epoch [454/10000]: Train loss: 36.8955, Valid loss: 38.8475\n"
          ]
        },
        {
          "name": "stderr",
          "output_type": "stream",
          "text": [
            "Epoch [455/10000]: 100%|██████████| 9/9 [00:00<00:00, 581.38it/s, loss=30.6]\n"
          ]
        },
        {
          "name": "stdout",
          "output_type": "stream",
          "text": [
            "Epoch [455/10000]: Train loss: 36.4320, Valid loss: 34.4632\n"
          ]
        },
        {
          "name": "stderr",
          "output_type": "stream",
          "text": [
            "Epoch [456/10000]: 100%|██████████| 9/9 [00:00<00:00, 581.29it/s, loss=41]\n"
          ]
        },
        {
          "name": "stdout",
          "output_type": "stream",
          "text": [
            "Epoch [456/10000]: Train loss: 37.0818, Valid loss: 35.4478\n"
          ]
        },
        {
          "name": "stderr",
          "output_type": "stream",
          "text": [
            "Epoch [457/10000]: 100%|██████████| 9/9 [00:00<00:00, 586.78it/s, loss=26.7]\n"
          ]
        },
        {
          "name": "stdout",
          "output_type": "stream",
          "text": [
            "Epoch [457/10000]: Train loss: 36.1892, Valid loss: 39.3447\n"
          ]
        },
        {
          "name": "stderr",
          "output_type": "stream",
          "text": [
            "Epoch [458/10000]: 100%|██████████| 9/9 [00:00<00:00, 571.75it/s, loss=39.1]\n"
          ]
        },
        {
          "name": "stdout",
          "output_type": "stream",
          "text": [
            "Epoch [458/10000]: Train loss: 36.9611, Valid loss: 35.2065\n"
          ]
        },
        {
          "name": "stderr",
          "output_type": "stream",
          "text": [
            "Epoch [459/10000]: 100%|██████████| 9/9 [00:00<00:00, 608.35it/s, loss=35.6]\n"
          ]
        },
        {
          "name": "stdout",
          "output_type": "stream",
          "text": [
            "Epoch [459/10000]: Train loss: 36.7446, Valid loss: 44.1884\n"
          ]
        },
        {
          "name": "stderr",
          "output_type": "stream",
          "text": [
            "Epoch [460/10000]: 100%|██████████| 9/9 [00:00<00:00, 575.37it/s, loss=37]\n"
          ]
        },
        {
          "name": "stdout",
          "output_type": "stream",
          "text": [
            "Epoch [460/10000]: Train loss: 36.8336, Valid loss: 34.3748\n"
          ]
        },
        {
          "name": "stderr",
          "output_type": "stream",
          "text": [
            "Epoch [461/10000]: 100%|██████████| 9/9 [00:00<00:00, 599.93it/s, loss=40.8]\n"
          ]
        },
        {
          "name": "stdout",
          "output_type": "stream",
          "text": [
            "Epoch [461/10000]: Train loss: 37.0681, Valid loss: 39.5603\n"
          ]
        },
        {
          "name": "stderr",
          "output_type": "stream",
          "text": [
            "Epoch [462/10000]: 100%|██████████| 9/9 [00:00<00:00, 543.29it/s, loss=37]\n"
          ]
        },
        {
          "name": "stdout",
          "output_type": "stream",
          "text": [
            "Epoch [462/10000]: Train loss: 36.8297, Valid loss: 33.1442\n"
          ]
        },
        {
          "name": "stderr",
          "output_type": "stream",
          "text": [
            "Epoch [463/10000]: 100%|██████████| 9/9 [00:00<00:00, 571.75it/s, loss=39.3]\n"
          ]
        },
        {
          "name": "stdout",
          "output_type": "stream",
          "text": [
            "Epoch [463/10000]: Train loss: 36.9780, Valid loss: 40.6523\n"
          ]
        },
        {
          "name": "stderr",
          "output_type": "stream",
          "text": [
            "Epoch [464/10000]: 100%|██████████| 9/9 [00:00<00:00, 596.78it/s, loss=37.3]\n"
          ]
        },
        {
          "name": "stdout",
          "output_type": "stream",
          "text": [
            "Epoch [464/10000]: Train loss: 36.8487, Valid loss: 36.1048\n"
          ]
        },
        {
          "name": "stderr",
          "output_type": "stream",
          "text": [
            "Epoch [465/10000]: 100%|██████████| 9/9 [00:00<00:00, 587.04it/s, loss=36]\n"
          ]
        },
        {
          "name": "stdout",
          "output_type": "stream",
          "text": [
            "Epoch [465/10000]: Train loss: 36.7663, Valid loss: 38.4071\n"
          ]
        },
        {
          "name": "stderr",
          "output_type": "stream",
          "text": [
            "Epoch [466/10000]: 100%|██████████| 9/9 [00:00<00:00, 551.60it/s, loss=38.2]\n"
          ]
        },
        {
          "name": "stdout",
          "output_type": "stream",
          "text": [
            "Epoch [466/10000]: Train loss: 36.9036, Valid loss: 37.8493\n"
          ]
        },
        {
          "name": "stderr",
          "output_type": "stream",
          "text": [
            "Epoch [467/10000]: 100%|██████████| 9/9 [00:00<00:00, 560.71it/s, loss=30.2]\n"
          ]
        },
        {
          "name": "stdout",
          "output_type": "stream",
          "text": [
            "Epoch [467/10000]: Train loss: 36.4069, Valid loss: 35.4041\n"
          ]
        },
        {
          "name": "stderr",
          "output_type": "stream",
          "text": [
            "Epoch [468/10000]: 100%|██████████| 9/9 [00:00<00:00, 595.51it/s, loss=45.1]\n"
          ]
        },
        {
          "name": "stdout",
          "output_type": "stream",
          "text": [
            "Epoch [468/10000]: Train loss: 37.3364, Valid loss: 40.0855\n"
          ]
        },
        {
          "name": "stderr",
          "output_type": "stream",
          "text": [
            "Epoch [469/10000]: 100%|██████████| 9/9 [00:00<00:00, 600.00it/s, loss=38.9]\n"
          ]
        },
        {
          "name": "stdout",
          "output_type": "stream",
          "text": [
            "Epoch [469/10000]: Train loss: 36.9521, Valid loss: 36.3231\n"
          ]
        },
        {
          "name": "stderr",
          "output_type": "stream",
          "text": [
            "Epoch [470/10000]: 100%|██████████| 9/9 [00:00<00:00, 581.73it/s, loss=38.4]\n"
          ]
        },
        {
          "name": "stdout",
          "output_type": "stream",
          "text": [
            "Epoch [470/10000]: Train loss: 36.9176, Valid loss: 39.9733\n"
          ]
        },
        {
          "name": "stderr",
          "output_type": "stream",
          "text": [
            "Epoch [471/10000]: 100%|██████████| 9/9 [00:00<00:00, 550.92it/s, loss=36.8]\n"
          ]
        },
        {
          "name": "stdout",
          "output_type": "stream",
          "text": [
            "Epoch [471/10000]: Train loss: 36.8202, Valid loss: 37.0278\n"
          ]
        },
        {
          "name": "stderr",
          "output_type": "stream",
          "text": [
            "Epoch [472/10000]: 100%|██████████| 9/9 [00:00<00:00, 599.71it/s, loss=35.5]\n"
          ]
        },
        {
          "name": "stdout",
          "output_type": "stream",
          "text": [
            "Epoch [472/10000]: Train loss: 36.7393, Valid loss: 38.8328\n"
          ]
        },
        {
          "name": "stderr",
          "output_type": "stream",
          "text": [
            "Epoch [473/10000]: 100%|██████████| 9/9 [00:00<00:00, 585.98it/s, loss=33.4]\n"
          ]
        },
        {
          "name": "stdout",
          "output_type": "stream",
          "text": [
            "Epoch [473/10000]: Train loss: 36.6079, Valid loss: 34.6700\n"
          ]
        },
        {
          "name": "stderr",
          "output_type": "stream",
          "text": [
            "Epoch [474/10000]: 100%|██████████| 9/9 [00:00<00:00, 569.52it/s, loss=31.7]\n"
          ]
        },
        {
          "name": "stdout",
          "output_type": "stream",
          "text": [
            "Epoch [474/10000]: Train loss: 36.5031, Valid loss: 35.8065\n"
          ]
        },
        {
          "name": "stderr",
          "output_type": "stream",
          "text": [
            "Epoch [475/10000]: 100%|██████████| 9/9 [00:00<00:00, 557.59it/s, loss=39.5]\n"
          ]
        },
        {
          "name": "stdout",
          "output_type": "stream",
          "text": [
            "Epoch [475/10000]: Train loss: 36.9886, Valid loss: 37.1377\n"
          ]
        },
        {
          "name": "stderr",
          "output_type": "stream",
          "text": [
            "Epoch [476/10000]: 100%|██████████| 9/9 [00:00<00:00, 592.88it/s, loss=29.5]\n"
          ]
        },
        {
          "name": "stdout",
          "output_type": "stream",
          "text": [
            "Epoch [476/10000]: Train loss: 36.3640, Valid loss: 39.9525\n"
          ]
        },
        {
          "name": "stderr",
          "output_type": "stream",
          "text": [
            "Epoch [477/10000]: 100%|██████████| 9/9 [00:00<00:00, 517.21it/s, loss=38.4]\n"
          ]
        },
        {
          "name": "stdout",
          "output_type": "stream",
          "text": [
            "Epoch [477/10000]: Train loss: 36.9185, Valid loss: 34.1376\n"
          ]
        },
        {
          "name": "stderr",
          "output_type": "stream",
          "text": [
            "Epoch [478/10000]: 100%|██████████| 9/9 [00:00<00:00, 564.44it/s, loss=32]\n"
          ]
        },
        {
          "name": "stdout",
          "output_type": "stream",
          "text": [
            "Epoch [478/10000]: Train loss: 36.5172, Valid loss: 32.7403\n"
          ]
        },
        {
          "name": "stderr",
          "output_type": "stream",
          "text": [
            "Epoch [479/10000]: 100%|██████████| 9/9 [00:00<00:00, 597.65it/s, loss=38.2]\n"
          ]
        },
        {
          "name": "stdout",
          "output_type": "stream",
          "text": [
            "Epoch [479/10000]: Train loss: 36.9036, Valid loss: 39.7958\n",
            "Epoch 00479: reducing learning rate of group 0 to 7.8125e-06.\n"
          ]
        },
        {
          "name": "stderr",
          "output_type": "stream",
          "text": [
            "Epoch [480/10000]: 100%|██████████| 9/9 [00:00<00:00, 546.95it/s, loss=38]\n"
          ]
        },
        {
          "name": "stdout",
          "output_type": "stream",
          "text": [
            "Epoch [480/10000]: Train loss: 36.8941, Valid loss: 40.0381\n"
          ]
        },
        {
          "name": "stderr",
          "output_type": "stream",
          "text": [
            "Epoch [481/10000]: 100%|██████████| 9/9 [00:00<00:00, 363.65it/s, loss=30.3]\n"
          ]
        },
        {
          "name": "stdout",
          "output_type": "stream",
          "text": [
            "Epoch [481/10000]: Train loss: 36.4152, Valid loss: 32.9682\n"
          ]
        },
        {
          "name": "stderr",
          "output_type": "stream",
          "text": [
            "Epoch [482/10000]: 100%|██████████| 9/9 [00:00<00:00, 254.13it/s, loss=39.4]\n"
          ]
        },
        {
          "name": "stdout",
          "output_type": "stream",
          "text": [
            "Epoch [482/10000]: Train loss: 36.9836, Valid loss: 39.1683\n"
          ]
        },
        {
          "name": "stderr",
          "output_type": "stream",
          "text": [
            "Epoch [483/10000]: 100%|██████████| 9/9 [00:00<00:00, 568.04it/s, loss=38.6]\n"
          ]
        },
        {
          "name": "stdout",
          "output_type": "stream",
          "text": [
            "Epoch [483/10000]: Train loss: 36.9299, Valid loss: 36.7427\n"
          ]
        },
        {
          "name": "stderr",
          "output_type": "stream",
          "text": [
            "Epoch [484/10000]: 100%|██████████| 9/9 [00:00<00:00, 128.11it/s, loss=41.6]\n"
          ]
        },
        {
          "name": "stdout",
          "output_type": "stream",
          "text": [
            "Epoch [484/10000]: Train loss: 37.1190, Valid loss: 42.5940\n"
          ]
        },
        {
          "name": "stderr",
          "output_type": "stream",
          "text": [
            "Epoch [485/10000]: 100%|██████████| 9/9 [00:00<00:00, 596.03it/s, loss=36.2]\n"
          ]
        },
        {
          "name": "stdout",
          "output_type": "stream",
          "text": [
            "Epoch [485/10000]: Train loss: 36.7804, Valid loss: 37.9685\n"
          ]
        },
        {
          "name": "stderr",
          "output_type": "stream",
          "text": [
            "Epoch [486/10000]: 100%|██████████| 9/9 [00:00<00:00, 545.82it/s, loss=25]\n"
          ]
        },
        {
          "name": "stdout",
          "output_type": "stream",
          "text": [
            "Epoch [486/10000]: Train loss: 36.0788, Valid loss: 43.6575\n"
          ]
        },
        {
          "name": "stderr",
          "output_type": "stream",
          "text": [
            "Epoch [487/10000]: 100%|██████████| 9/9 [00:00<00:00, 554.46it/s, loss=38]\n"
          ]
        },
        {
          "name": "stdout",
          "output_type": "stream",
          "text": [
            "Epoch [487/10000]: Train loss: 36.8920, Valid loss: 34.5076\n"
          ]
        },
        {
          "name": "stderr",
          "output_type": "stream",
          "text": [
            "Epoch [488/10000]: 100%|██████████| 9/9 [00:00<00:00, 526.99it/s, loss=30.5]\n"
          ]
        },
        {
          "name": "stdout",
          "output_type": "stream",
          "text": [
            "Epoch [488/10000]: Train loss: 36.4277, Valid loss: 37.9242\n"
          ]
        },
        {
          "name": "stderr",
          "output_type": "stream",
          "text": [
            "Epoch [489/10000]: 100%|██████████| 9/9 [00:00<00:00, 584.34it/s, loss=30.4]\n"
          ]
        },
        {
          "name": "stdout",
          "output_type": "stream",
          "text": [
            "Epoch [489/10000]: Train loss: 36.4197, Valid loss: 32.3385\n"
          ]
        },
        {
          "name": "stderr",
          "output_type": "stream",
          "text": [
            "Epoch [490/10000]: 100%|██████████| 9/9 [00:00<00:00, 588.22it/s, loss=29.4]\n"
          ]
        },
        {
          "name": "stdout",
          "output_type": "stream",
          "text": [
            "Epoch [490/10000]: Train loss: 36.3544, Valid loss: 35.7150\n"
          ]
        },
        {
          "name": "stderr",
          "output_type": "stream",
          "text": [
            "Epoch [491/10000]: 100%|██████████| 9/9 [00:00<00:00, 587.05it/s, loss=43.1]\n"
          ]
        },
        {
          "name": "stdout",
          "output_type": "stream",
          "text": [
            "Epoch [491/10000]: Train loss: 37.2120, Valid loss: 39.0793\n"
          ]
        },
        {
          "name": "stderr",
          "output_type": "stream",
          "text": [
            "Epoch [492/10000]: 100%|██████████| 9/9 [00:00<00:00, 522.71it/s, loss=40.3]\n"
          ]
        },
        {
          "name": "stdout",
          "output_type": "stream",
          "text": [
            "Epoch [492/10000]: Train loss: 37.0365, Valid loss: 36.8697\n"
          ]
        },
        {
          "name": "stderr",
          "output_type": "stream",
          "text": [
            "Epoch [493/10000]: 100%|██████████| 9/9 [00:00<00:00, 599.04it/s, loss=32.8]\n"
          ]
        },
        {
          "name": "stdout",
          "output_type": "stream",
          "text": [
            "Epoch [493/10000]: Train loss: 36.5675, Valid loss: 40.9496\n"
          ]
        },
        {
          "name": "stderr",
          "output_type": "stream",
          "text": [
            "Epoch [494/10000]: 100%|██████████| 9/9 [00:00<00:00, 594.76it/s, loss=36.5]\n"
          ]
        },
        {
          "name": "stdout",
          "output_type": "stream",
          "text": [
            "Epoch [494/10000]: Train loss: 36.7974, Valid loss: 32.2167\n"
          ]
        },
        {
          "name": "stderr",
          "output_type": "stream",
          "text": [
            "Epoch [495/10000]: 100%|██████████| 9/9 [00:00<00:00, 583.32it/s, loss=33.1]\n"
          ]
        },
        {
          "name": "stdout",
          "output_type": "stream",
          "text": [
            "Epoch [495/10000]: Train loss: 36.5878, Valid loss: 33.4569\n"
          ]
        },
        {
          "name": "stderr",
          "output_type": "stream",
          "text": [
            "Epoch [496/10000]: 100%|██████████| 9/9 [00:00<00:00, 529.04it/s, loss=38.9]\n"
          ]
        },
        {
          "name": "stdout",
          "output_type": "stream",
          "text": [
            "Epoch [496/10000]: Train loss: 36.9498, Valid loss: 34.9397\n"
          ]
        },
        {
          "name": "stderr",
          "output_type": "stream",
          "text": [
            "Epoch [497/10000]: 100%|██████████| 9/9 [00:00<00:00, 607.62it/s, loss=39.1]\n"
          ]
        },
        {
          "name": "stdout",
          "output_type": "stream",
          "text": [
            "Epoch [497/10000]: Train loss: 36.9652, Valid loss: 33.6981\n"
          ]
        },
        {
          "name": "stderr",
          "output_type": "stream",
          "text": [
            "Epoch [498/10000]: 100%|██████████| 9/9 [00:00<00:00, 588.24it/s, loss=39.3]\n"
          ]
        },
        {
          "name": "stdout",
          "output_type": "stream",
          "text": [
            "Epoch [498/10000]: Train loss: 36.9750, Valid loss: 43.1801\n"
          ]
        },
        {
          "name": "stderr",
          "output_type": "stream",
          "text": [
            "Epoch [499/10000]: 100%|██████████| 9/9 [00:00<00:00, 597.02it/s, loss=34.5]\n"
          ]
        },
        {
          "name": "stdout",
          "output_type": "stream",
          "text": [
            "Epoch [499/10000]: Train loss: 36.6771, Valid loss: 39.1931\n"
          ]
        },
        {
          "name": "stderr",
          "output_type": "stream",
          "text": [
            "Epoch [500/10000]: 100%|██████████| 9/9 [00:00<00:00, 552.85it/s, loss=41.4]\n"
          ]
        },
        {
          "name": "stdout",
          "output_type": "stream",
          "text": [
            "Epoch [500/10000]: Train loss: 37.1046, Valid loss: 38.0402\n"
          ]
        },
        {
          "name": "stderr",
          "output_type": "stream",
          "text": [
            "Epoch [501/10000]: 100%|██████████| 9/9 [00:00<00:00, 584.16it/s, loss=35.7]\n"
          ]
        },
        {
          "name": "stdout",
          "output_type": "stream",
          "text": [
            "Epoch [501/10000]: Train loss: 36.7497, Valid loss: 32.1625\n"
          ]
        },
        {
          "name": "stderr",
          "output_type": "stream",
          "text": [
            "Epoch [502/10000]: 100%|██████████| 9/9 [00:00<00:00, 559.02it/s, loss=40.2]\n"
          ]
        },
        {
          "name": "stdout",
          "output_type": "stream",
          "text": [
            "Epoch [502/10000]: Train loss: 37.0328, Valid loss: 33.3740\n"
          ]
        },
        {
          "name": "stderr",
          "output_type": "stream",
          "text": [
            "Epoch [503/10000]: 100%|██████████| 9/9 [00:00<00:00, 552.31it/s, loss=44.3]\n"
          ]
        },
        {
          "name": "stdout",
          "output_type": "stream",
          "text": [
            "Epoch [503/10000]: Train loss: 37.2893, Valid loss: 36.8059\n"
          ]
        },
        {
          "name": "stderr",
          "output_type": "stream",
          "text": [
            "Epoch [504/10000]: 100%|██████████| 9/9 [00:00<00:00, 488.81it/s, loss=40.7]\n"
          ]
        },
        {
          "name": "stdout",
          "output_type": "stream",
          "text": [
            "Epoch [504/10000]: Train loss: 37.0594, Valid loss: 45.5400\n"
          ]
        },
        {
          "name": "stderr",
          "output_type": "stream",
          "text": [
            "Epoch [505/10000]: 100%|██████████| 9/9 [00:00<00:00, 547.20it/s, loss=28.1]\n"
          ]
        },
        {
          "name": "stdout",
          "output_type": "stream",
          "text": [
            "Epoch [505/10000]: Train loss: 36.2771, Valid loss: 38.7940\n"
          ]
        },
        {
          "name": "stderr",
          "output_type": "stream",
          "text": [
            "Epoch [506/10000]: 100%|██████████| 9/9 [00:00<00:00, 540.39it/s, loss=36.3]\n"
          ]
        },
        {
          "name": "stdout",
          "output_type": "stream",
          "text": [
            "Epoch [506/10000]: Train loss: 36.7882, Valid loss: 40.8163\n"
          ]
        },
        {
          "name": "stderr",
          "output_type": "stream",
          "text": [
            "Epoch [507/10000]: 100%|██████████| 9/9 [00:00<00:00, 552.18it/s, loss=44.4]\n"
          ]
        },
        {
          "name": "stdout",
          "output_type": "stream",
          "text": [
            "Epoch [507/10000]: Train loss: 37.2964, Valid loss: 35.1884\n"
          ]
        },
        {
          "name": "stderr",
          "output_type": "stream",
          "text": [
            "Epoch [508/10000]: 100%|██████████| 9/9 [00:00<00:00, 568.46it/s, loss=34.7]\n"
          ]
        },
        {
          "name": "stdout",
          "output_type": "stream",
          "text": [
            "Epoch [508/10000]: Train loss: 36.6899, Valid loss: 35.8211\n"
          ]
        },
        {
          "name": "stderr",
          "output_type": "stream",
          "text": [
            "Epoch [509/10000]: 100%|██████████| 9/9 [00:00<00:00, 542.98it/s, loss=43.4]\n"
          ]
        },
        {
          "name": "stdout",
          "output_type": "stream",
          "text": [
            "Epoch [509/10000]: Train loss: 37.2283, Valid loss: 38.4570\n"
          ]
        },
        {
          "name": "stderr",
          "output_type": "stream",
          "text": [
            "Epoch [510/10000]: 100%|██████████| 9/9 [00:00<00:00, 216.67it/s, loss=37]\n"
          ]
        },
        {
          "name": "stdout",
          "output_type": "stream",
          "text": [
            "Epoch [510/10000]: Train loss: 36.8335, Valid loss: 48.4466\n"
          ]
        },
        {
          "name": "stderr",
          "output_type": "stream",
          "text": [
            "Epoch [511/10000]: 100%|██████████| 9/9 [00:00<00:00, 304.90it/s, loss=44]\n"
          ]
        },
        {
          "name": "stdout",
          "output_type": "stream",
          "text": [
            "Epoch [511/10000]: Train loss: 37.2659, Valid loss: 41.4114\n"
          ]
        },
        {
          "name": "stderr",
          "output_type": "stream",
          "text": [
            "Epoch [512/10000]: 100%|██████████| 9/9 [00:00<00:00, 592.26it/s, loss=42.3]\n"
          ]
        },
        {
          "name": "stdout",
          "output_type": "stream",
          "text": [
            "Epoch [512/10000]: Train loss: 37.1639, Valid loss: 31.6318\n"
          ]
        },
        {
          "name": "stderr",
          "output_type": "stream",
          "text": [
            "Epoch [513/10000]: 100%|██████████| 9/9 [00:00<00:00, 471.99it/s, loss=26.2]\n"
          ]
        },
        {
          "name": "stdout",
          "output_type": "stream",
          "text": [
            "Epoch [513/10000]: Train loss: 36.1586, Valid loss: 45.4076\n"
          ]
        },
        {
          "name": "stderr",
          "output_type": "stream",
          "text": [
            "Epoch [514/10000]: 100%|██████████| 9/9 [00:00<00:00, 602.58it/s, loss=30.2]\n"
          ]
        },
        {
          "name": "stdout",
          "output_type": "stream",
          "text": [
            "Epoch [514/10000]: Train loss: 36.4035, Valid loss: 37.2257\n"
          ]
        },
        {
          "name": "stderr",
          "output_type": "stream",
          "text": [
            "Epoch [515/10000]: 100%|██████████| 9/9 [00:00<00:00, 579.45it/s, loss=31.6]\n"
          ]
        },
        {
          "name": "stdout",
          "output_type": "stream",
          "text": [
            "Epoch [515/10000]: Train loss: 36.4949, Valid loss: 40.8954\n"
          ]
        },
        {
          "name": "stderr",
          "output_type": "stream",
          "text": [
            "Epoch [516/10000]: 100%|██████████| 9/9 [00:00<00:00, 574.02it/s, loss=33.6]\n"
          ]
        },
        {
          "name": "stdout",
          "output_type": "stream",
          "text": [
            "Epoch [516/10000]: Train loss: 36.6176, Valid loss: 45.7550\n"
          ]
        },
        {
          "name": "stderr",
          "output_type": "stream",
          "text": [
            "Epoch [517/10000]: 100%|██████████| 9/9 [00:00<00:00, 585.25it/s, loss=40.5]\n"
          ]
        },
        {
          "name": "stdout",
          "output_type": "stream",
          "text": [
            "Epoch [517/10000]: Train loss: 37.0499, Valid loss: 33.8286\n"
          ]
        },
        {
          "name": "stderr",
          "output_type": "stream",
          "text": [
            "Epoch [518/10000]: 100%|██████████| 9/9 [00:00<00:00, 581.85it/s, loss=33]\n"
          ]
        },
        {
          "name": "stdout",
          "output_type": "stream",
          "text": [
            "Epoch [518/10000]: Train loss: 36.5818, Valid loss: 35.5075\n"
          ]
        },
        {
          "name": "stderr",
          "output_type": "stream",
          "text": [
            "Epoch [519/10000]: 100%|██████████| 9/9 [00:00<00:00, 586.59it/s, loss=39]\n"
          ]
        },
        {
          "name": "stdout",
          "output_type": "stream",
          "text": [
            "Epoch [519/10000]: Train loss: 36.9574, Valid loss: 39.7938\n"
          ]
        },
        {
          "name": "stderr",
          "output_type": "stream",
          "text": [
            "Epoch [520/10000]: 100%|██████████| 9/9 [00:00<00:00, 563.07it/s, loss=34.7]\n"
          ]
        },
        {
          "name": "stdout",
          "output_type": "stream",
          "text": [
            "Epoch [520/10000]: Train loss: 36.6864, Valid loss: 34.7155\n"
          ]
        },
        {
          "name": "stderr",
          "output_type": "stream",
          "text": [
            "Epoch [521/10000]: 100%|██████████| 9/9 [00:00<00:00, 592.99it/s, loss=35.7]\n"
          ]
        },
        {
          "name": "stdout",
          "output_type": "stream",
          "text": [
            "Epoch [521/10000]: Train loss: 36.7482, Valid loss: 41.6469\n"
          ]
        },
        {
          "name": "stderr",
          "output_type": "stream",
          "text": [
            "Epoch [522/10000]: 100%|██████████| 9/9 [00:00<00:00, 562.78it/s, loss=36]\n"
          ]
        },
        {
          "name": "stdout",
          "output_type": "stream",
          "text": [
            "Epoch [522/10000]: Train loss: 36.7710, Valid loss: 41.6113\n"
          ]
        },
        {
          "name": "stderr",
          "output_type": "stream",
          "text": [
            "Epoch [523/10000]: 100%|██████████| 9/9 [00:00<00:00, 582.03it/s, loss=31.5]\n"
          ]
        },
        {
          "name": "stdout",
          "output_type": "stream",
          "text": [
            "Epoch [523/10000]: Train loss: 36.4898, Valid loss: 44.1402\n"
          ]
        },
        {
          "name": "stderr",
          "output_type": "stream",
          "text": [
            "Epoch [524/10000]: 100%|██████████| 9/9 [00:00<00:00, 585.91it/s, loss=41.5]\n"
          ]
        },
        {
          "name": "stdout",
          "output_type": "stream",
          "text": [
            "Epoch [524/10000]: Train loss: 37.1134, Valid loss: 36.5069\n"
          ]
        },
        {
          "name": "stderr",
          "output_type": "stream",
          "text": [
            "Epoch [525/10000]: 100%|██████████| 9/9 [00:00<00:00, 559.01it/s, loss=40.5]\n"
          ]
        },
        {
          "name": "stdout",
          "output_type": "stream",
          "text": [
            "Epoch [525/10000]: Train loss: 37.0497, Valid loss: 41.5410\n"
          ]
        },
        {
          "name": "stderr",
          "output_type": "stream",
          "text": [
            "Epoch [526/10000]: 100%|██████████| 9/9 [00:00<00:00, 588.78it/s, loss=42.6]\n"
          ]
        },
        {
          "name": "stdout",
          "output_type": "stream",
          "text": [
            "Epoch [526/10000]: Train loss: 37.1838, Valid loss: 40.0967\n",
            "\n",
            "Model is not improving, so we halt the training session.\n"
          ]
        }
      ],
      "source": [
        "model = My_Model(input_dim=x_train.shape[1]).to(device) # put your model and data on the same computation device.\n",
        "trainer(train_loader, valid_loader, model, config, device)"
      ]
    },
    {
      "cell_type": "markdown",
      "metadata": {
        "id": "Ik09KPqU-di-"
      },
      "source": [
        "# Plot learning curves with `tensorboard` (optional)\n",
        "\n",
        "`tensorboard` is a tool that allows you to visualize your training progress.\n",
        "\n",
        "If this block does not display your learning curve, please wait for few minutes, and re-run this block. It might take some time to load your logging information."
      ]
    },
    {
      "cell_type": "code",
      "execution_count": 262,
      "metadata": {
        "id": "loA4nKmLGQ-n"
      },
      "outputs": [
        {
          "data": {
            "text/plain": [
              "Reusing TensorBoard on port 6006 (pid 76398), started 4:35:24 ago. (Use '!kill 76398' to kill it.)"
            ]
          },
          "metadata": {},
          "output_type": "display_data"
        },
        {
          "data": {
            "text/html": [
              "\n",
              "      <iframe id=\"tensorboard-frame-16a564c081cedf09\" width=\"100%\" height=\"800\" frameborder=\"0\">\n",
              "      </iframe>\n",
              "      <script>\n",
              "        (function() {\n",
              "          const frame = document.getElementById(\"tensorboard-frame-16a564c081cedf09\");\n",
              "          const url = new URL(\"http://localhost\");\n",
              "          const port = 6006;\n",
              "          if (port) {\n",
              "            url.port = port;\n",
              "          }\n",
              "          frame.src = url;\n",
              "        })();\n",
              "      </script>\n",
              "    "
            ],
            "text/plain": [
              "<IPython.core.display.HTML object>"
            ]
          },
          "metadata": {},
          "output_type": "display_data"
        }
      ],
      "source": [
        "%reload_ext tensorboard\n",
        "%tensorboard --logdir=./runs/"
      ]
    },
    {
      "cell_type": "markdown",
      "metadata": {
        "id": "yhAHGqC9-woK"
      },
      "source": [
        "# Testing\n",
        "The predictions of your model on testing set will be stored at `pred.csv`."
      ]
    },
    {
      "cell_type": "code",
      "execution_count": 263,
      "metadata": {
        "id": "Q5eVdpbvAlAe"
      },
      "outputs": [
        {
          "name": "stderr",
          "output_type": "stream",
          "text": [
            "100%|██████████| 5/5 [00:00<00:00, 2256.46it/s]\n"
          ]
        }
      ],
      "source": [
        "def save_pred(preds, file):\n",
        "    ''' Save predictions to specified file '''\n",
        "    with open(file, 'w') as fp:\n",
        "        writer = csv.writer(fp)\n",
        "        writer.writerow(['id', 'tested_positive'])\n",
        "        for i, p in enumerate(preds):\n",
        "            writer.writerow([i, p])\n",
        "\n",
        "model = My_Model(input_dim=x_train.shape[1]).to(device)\n",
        "model.load_state_dict(torch.load(config['save_path']))\n",
        "preds = predict(test_loader, model, device)\n",
        "save_pred(preds, 'pred.csv')"
      ]
    },
    {
      "cell_type": "markdown",
      "metadata": {
        "id": "IJ_k5rY0GvSV"
      },
      "source": [
        "# Reference\n",
        "This notebook uses code written by Heng-Jui Chang @ NTUEE (https://github.com/ga642381/ML2021-Spring/blob/main/HW01/HW01.ipynb)"
      ]
    },
    {
      "cell_type": "markdown",
      "metadata": {},
      "source": []
    },
    {
      "cell_type": "markdown",
      "metadata": {},
      "source": []
    },
    {
      "cell_type": "markdown",
      "metadata": {},
      "source": []
    },
    {
      "cell_type": "markdown",
      "metadata": {},
      "source": []
    }
  ],
  "metadata": {
    "accelerator": "GPU",
    "colab": {
      "gpuType": "T4",
      "provenance": [],
      "toc_visible": true
    },
    "kernelspec": {
      "display_name": "Python 3",
      "name": "python3"
    },
    "language_info": {
      "codemirror_mode": {
        "name": "ipython",
        "version": 3
      },
      "file_extension": ".py",
      "mimetype": "text/x-python",
      "name": "python",
      "nbconvert_exporter": "python",
      "pygments_lexer": "ipython3",
      "version": "3.11.3"
    }
  },
  "nbformat": 4,
  "nbformat_minor": 0
}
