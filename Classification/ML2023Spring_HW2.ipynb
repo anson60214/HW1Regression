{
  "cells": [
    {
      "cell_type": "markdown",
      "metadata": {
        "id": "OYlaRwNu7ojq"
      },
      "source": [
        "# **Homework 2: Phoneme Classification**\n"
      ]
    },
    {
      "cell_type": "markdown",
      "metadata": {
        "id": "A7DRC5V7_8A5"
      },
      "source": [
        "Objectives:\n",
        "* Solve a classification problem with deep neural networks (DNNs).\n",
        "* Understand recursive neural networks (RNNs).\n",
        "\n",
        "If you have any questions, please contact the TAs via TA hours, NTU COOL, or email to mlta-2023-spring@googlegroups.com"
      ]
    },
    {
      "cell_type": "markdown",
      "metadata": {
        "id": "KVUGfWTo7_Oj"
      },
      "source": [
        "# Download Data\n",
        "Download data from google drive, then unzip it.\n",
        "\n",
        "You should have\n",
        "- `libriphone/train_split.txt`: training metadata\n",
        "- `libriphone/train_labels`: training labels\n",
        "- `libriphone/test_split.txt`: testing metadata\n",
        "- `libriphone/feat/train/*.pt`: training feature\n",
        "- `libriphone/feat/test/*.pt`:  testing feature\n",
        "\n",
        "after running the following block.\n",
        "\n",
        "> **Notes: if the google drive link is dead, you can download the data directly from [Kaggle](https://www.kaggle.com/c/ml2023spring-hw2/data) and upload it to the workspace.**\n"
      ]
    },
    {
      "cell_type": "code",
<<<<<<< HEAD
      "execution_count": 1,
=======
      "execution_count": 10,
>>>>>>> 002db66c36a7e25b8585565105054c22928c7f24
      "metadata": {
        "id": "OzkiMEcC3Foq"
      },
      "outputs": [
        {
<<<<<<< HEAD
          "name": "stdout",
          "output_type": "stream",
          "text": [
            "Collecting gdown\n",
            "  Downloading gdown-4.7.1-py3-none-any.whl (15 kB)\n",
            "Collecting filelock (from gdown)\n",
            "  Obtaining dependency information for filelock from https://files.pythonhosted.org/packages/5e/5d/97afbafd9d584ff1b45fcb354a479a3609bd97f912f8f1f6c563cb1fae21/filelock-3.12.4-py3-none-any.whl.metadata\n",
            "  Downloading filelock-3.12.4-py3-none-any.whl.metadata (2.8 kB)\n",
            "Collecting requests[socks] (from gdown)\n",
            "  Obtaining dependency information for requests[socks] from https://files.pythonhosted.org/packages/70/8e/0e2d847013cb52cd35b38c009bb167a1a26b2ce6cd6965bf26b47bc0bf44/requests-2.31.0-py3-none-any.whl.metadata\n",
            "  Downloading requests-2.31.0-py3-none-any.whl.metadata (4.6 kB)\n",
            "Requirement already satisfied: six in /Users/linyinghsiao/Documents/GitHub/LearnDL/.venv/lib/python3.11/site-packages (from gdown) (1.16.0)\n",
            "Collecting tqdm (from gdown)\n",
            "  Obtaining dependency information for tqdm from https://files.pythonhosted.org/packages/00/e5/f12a80907d0884e6dff9c16d0c0114d81b8cd07dc3ae54c5e962cc83037e/tqdm-4.66.1-py3-none-any.whl.metadata\n",
            "  Downloading tqdm-4.66.1-py3-none-any.whl.metadata (57 kB)\n",
            "\u001b[2K     \u001b[90m━━━━━━━━━━━━━━━━━━━━━━━━━━━━━━━━━━━━━━━\u001b[0m \u001b[32m57.6/57.6 kB\u001b[0m \u001b[31m636.1 kB/s\u001b[0m eta \u001b[36m0:00:00\u001b[0ma \u001b[36m0:00:01\u001b[0m\n",
            "\u001b[?25hCollecting beautifulsoup4 (from gdown)\n",
            "  Using cached beautifulsoup4-4.12.2-py3-none-any.whl (142 kB)\n",
            "Collecting soupsieve>1.2 (from beautifulsoup4->gdown)\n",
            "  Obtaining dependency information for soupsieve>1.2 from https://files.pythonhosted.org/packages/4c/f3/038b302fdfbe3be7da016777069f26ceefe11a681055ea1f7817546508e3/soupsieve-2.5-py3-none-any.whl.metadata\n",
            "  Downloading soupsieve-2.5-py3-none-any.whl.metadata (4.7 kB)\n",
            "Collecting charset-normalizer<4,>=2 (from requests[socks]->gdown)\n",
            "  Obtaining dependency information for charset-normalizer<4,>=2 from https://files.pythonhosted.org/packages/07/f3/6149137d06829d1d8b566421a194b9a98d593fb63a1c0d701813ae58bc80/charset_normalizer-3.3.0-cp311-cp311-macosx_11_0_arm64.whl.metadata\n",
            "  Downloading charset_normalizer-3.3.0-cp311-cp311-macosx_11_0_arm64.whl.metadata (32 kB)\n",
            "Collecting idna<4,>=2.5 (from requests[socks]->gdown)\n",
            "  Using cached idna-3.4-py3-none-any.whl (61 kB)\n",
            "Collecting urllib3<3,>=1.21.1 (from requests[socks]->gdown)\n",
            "  Obtaining dependency information for urllib3<3,>=1.21.1 from https://files.pythonhosted.org/packages/26/40/9957270221b6d3e9a3b92fdfba80dd5c9661ff45a664b47edd5d00f707f5/urllib3-2.0.6-py3-none-any.whl.metadata\n",
            "  Downloading urllib3-2.0.6-py3-none-any.whl.metadata (6.6 kB)\n",
            "Collecting certifi>=2017.4.17 (from requests[socks]->gdown)\n",
            "  Obtaining dependency information for certifi>=2017.4.17 from https://files.pythonhosted.org/packages/4c/dd/2234eab22353ffc7d94e8d13177aaa050113286e93e7b40eae01fbf7c3d9/certifi-2023.7.22-py3-none-any.whl.metadata\n",
            "  Downloading certifi-2023.7.22-py3-none-any.whl.metadata (2.2 kB)\n",
            "Collecting PySocks!=1.5.7,>=1.5.6 (from requests[socks]->gdown)\n",
            "  Using cached PySocks-1.7.1-py3-none-any.whl (16 kB)\n",
            "Using cached filelock-3.12.4-py3-none-any.whl (11 kB)\n",
            "Using cached tqdm-4.66.1-py3-none-any.whl (78 kB)\n",
            "Using cached certifi-2023.7.22-py3-none-any.whl (158 kB)\n",
            "Using cached charset_normalizer-3.3.0-cp311-cp311-macosx_11_0_arm64.whl (116 kB)\n",
            "Downloading soupsieve-2.5-py3-none-any.whl (36 kB)\n",
            "Downloading urllib3-2.0.6-py3-none-any.whl (123 kB)\n",
            "\u001b[2K   \u001b[90m━━━━━━━━━━━━━━━━━━━━━━━━━━━━━━━━━━━━━━━━\u001b[0m \u001b[32m123.8/123.8 kB\u001b[0m \u001b[31m1.3 MB/s\u001b[0m eta \u001b[36m0:00:00\u001b[0m \u001b[36m0:00:01\u001b[0m\n",
            "\u001b[?25hUsing cached requests-2.31.0-py3-none-any.whl (62 kB)\n",
            "Installing collected packages: urllib3, tqdm, soupsieve, PySocks, idna, filelock, charset-normalizer, certifi, requests, beautifulsoup4, gdown\n",
            "Successfully installed PySocks-1.7.1 beautifulsoup4-4.12.2 certifi-2023.7.22 charset-normalizer-3.3.0 filelock-3.12.4 gdown-4.7.1 idna-3.4 requests-2.31.0 soupsieve-2.5 tqdm-4.66.1 urllib3-2.0.6\n",
            "\n",
            "\u001b[1m[\u001b[0m\u001b[34;49mnotice\u001b[0m\u001b[1;39;49m]\u001b[0m\u001b[39;49m A new release of pip is available: \u001b[0m\u001b[31;49m23.2.1\u001b[0m\u001b[39;49m -> \u001b[0m\u001b[32;49m23.3\u001b[0m\n",
            "\u001b[1m[\u001b[0m\u001b[34;49mnotice\u001b[0m\u001b[1;39;49m]\u001b[0m\u001b[39;49m To update, run: \u001b[0m\u001b[32;49mpip install --upgrade pip\u001b[0m\n",
            "/Users/linyinghsiao/Documents/GitHub/LearnDL/.venv/lib/python3.11/site-packages/gdown/cli.py:126: FutureWarning: Option `--id` was deprecated in version 4.3.1 and will be removed in 5.0. You don't need to pass it anymore to use a file ID.\n",
            "  warnings.warn(\n",
            "Downloading...\n",
            "From (uriginal): https://drive.google.com/uc?id=1qzCRnywKh30mTbWUEjXuNT2isOCAPdO1\n",
            "From (redirected): https://drive.google.com/uc?id=1qzCRnywKh30mTbWUEjXuNT2isOCAPdO1&confirm=t&uuid=eea14808-885e-42e8-867d-dfe7addc343b\n",
            "To: /Users/linyinghsiao/Documents/GitHub/LearnDL/HW2/libriphone.zip\n",
            "100%|████████████████████████████████████████| 384M/384M [06:09<00:00, 1.04MB/s]\n",
            "\u001b[34mfeat\u001b[m\u001b[m             test_split.txt   train_labels.txt train_split.txt\n"
=======
          "name": "stderr",
          "output_type": "stream",
          "text": [
            "'gdown' ���O�����Υ~���R�O�B�i���檺�{���Χ妸�ɡC\n",
            "'unzip' ���O�����Υ~���R�O�B�i���檺�{���Χ妸�ɡC\n",
            "'ls' ���O�����Υ~���R�O�B�i���檺�{���Χ妸�ɡC\n"
>>>>>>> 002db66c36a7e25b8585565105054c22928c7f24
          ]
        }
      ],
      "source": [
        "!pip install --upgrade gdown\n",
        "\n",
        "# Main link\n",
        "# !gdown --id '1N1eVIDe9hKM5uiNRGmifBlwSDGiVXPJe' --output libriphone.zip\n",
        "!gdown --id '1qzCRnywKh30mTbWUEjXuNT2isOCAPdO1' --output libriphone.zip\n",
        "\n",
        "!unzip -q libriphone.zip\n",
        "!ls libriphone"
      ]
    },
    {
      "cell_type": "markdown",
      "metadata": {
        "id": "pADUiYODJE1O"
      },
      "source": [
        "# Some Utility Functions\n",
        "**Fixes random number generator seeds for reproducibility.**"
      ]
    },
    {
      "cell_type": "code",
<<<<<<< HEAD
      "execution_count": 2,
=======
      "execution_count": 11,
>>>>>>> 002db66c36a7e25b8585565105054c22928c7f24
      "metadata": {
        "id": "BsZKgBZQJjaE"
      },
      "outputs": [],
      "source": [
        "import numpy as np\n",
        "import torch\n",
        "import random\n",
        "\n",
        "def same_seeds(seed):\n",
        "    random.seed(seed)\n",
        "    np.random.seed(seed)\n",
        "    torch.manual_seed(seed)\n",
        "    if torch.cuda.is_available():\n",
        "        torch.cuda.manual_seed(seed)\n",
        "        torch.cuda.manual_seed_all(seed)\n",
        "    torch.backends.cudnn.benchmark = False\n",
        "    torch.backends.cudnn.deterministic = True"
      ]
    },
    {
      "cell_type": "markdown",
      "metadata": {
        "id": "_L_4anls8Drv"
      },
      "source": [
        "**Helper functions to pre-process the training data from raw MFCC features of each utterance.**\n",
        "\n",
        "A phoneme may span several frames and is dependent to past and future frames. \\\n",
        "Hence we concatenate neighboring phonemes for training to achieve higher accuracy. The **concat_feat** function concatenates past and future k frames (total 2k+1 = n frames), and we predict the center frame.\n",
        "\n",
        "Feel free to modify the data preprocess functions, but **do not drop any frame** (if you modify the functions, remember to check that the number of frames are the same as mentioned in the slides)"
      ]
    },
    {
      "cell_type": "code",
<<<<<<< HEAD
      "execution_count": 3,
=======
      "execution_count": 12,
>>>>>>> 002db66c36a7e25b8585565105054c22928c7f24
      "metadata": {
        "id": "IJjLT8em-y9G"
      },
      "outputs": [],
      "source": [
        "import os\n",
        "import torch\n",
        "from tqdm import tqdm\n",
        "\n",
        "def load_feat(path):\n",
        "    feat = torch.load(path)\n",
        "    return feat\n",
        "\n",
        "def shift(x, n):\n",
        "    if n < 0:\n",
        "        left = x[0].repeat(-n, 1)\n",
        "        right = x[:n]\n",
        "    elif n > 0:\n",
        "        right = x[-1].repeat(n, 1)\n",
        "        left = x[n:]\n",
        "    else:\n",
        "        return x\n",
        "\n",
        "    return torch.cat((left, right), dim=0)\n",
        "\n",
        "def concat_feat(x, concat_n):\n",
        "    assert concat_n % 2 == 1 # n must be odd\n",
        "    if concat_n < 2:\n",
        "        return x\n",
        "    seq_len, feature_dim = x.size(0), x.size(1)\n",
        "    x = x.repeat(1, concat_n)\n",
        "    x = x.view(seq_len, concat_n, feature_dim).permute(1, 0, 2) # concat_n, seq_len, feature_dim\n",
        "    mid = (concat_n // 2)\n",
        "    for r_idx in range(1, mid+1):\n",
        "        x[mid + r_idx, :] = shift(x[mid + r_idx], r_idx)\n",
        "        x[mid - r_idx, :] = shift(x[mid - r_idx], -r_idx)\n",
        "\n",
        "    return x.permute(1, 0, 2).view(seq_len, concat_n * feature_dim)\n",
        "\n",
        "def preprocess_data(split, feat_dir, phone_path, concat_nframes, train_ratio=0.8, random_seed=1213):\n",
        "    class_num = 41 # NOTE: pre-computed, should not need change\n",
        "\n",
        "    if split == 'train' or split == 'val':\n",
        "        mode = 'train'\n",
        "    elif split == 'test':\n",
        "        mode = 'test'\n",
        "    else:\n",
        "        raise ValueError('Invalid \\'split\\' argument for dataset: PhoneDataset!')\n",
        "\n",
        "    label_dict = {}\n",
        "    if mode == 'train':\n",
        "        for line in open(os.path.join(phone_path, f'{mode}_labels.txt')).readlines():\n",
        "            line = line.strip('\\n').split(' ')\n",
        "            label_dict[line[0]] = [int(p) for p in line[1:]]\n",
        "\n",
        "        # split training and validation data\n",
        "        usage_list = open(os.path.join(phone_path, 'train_split.txt')).readlines()\n",
        "        random.seed(random_seed)\n",
        "        random.shuffle(usage_list)\n",
        "        train_len = int(len(usage_list) * train_ratio)\n",
        "        usage_list = usage_list[:train_len] if split == 'train' else usage_list[train_len:]\n",
        "\n",
        "    elif mode == 'test':\n",
        "        usage_list = open(os.path.join(phone_path, 'test_split.txt')).readlines()\n",
        "\n",
        "    usage_list = [line.strip('\\n') for line in usage_list]\n",
        "    print('[Dataset] - # phone classes: ' + str(class_num) + ', number of utterances for ' + split + ': ' + str(len(usage_list)))\n",
        "\n",
        "    max_len = 3000000\n",
        "    X = torch.empty(max_len, 39 * concat_nframes)\n",
        "    if mode == 'train':\n",
        "        y = torch.empty(max_len, dtype=torch.long)\n",
        "\n",
        "    idx = 0\n",
        "    for i, fname in tqdm(enumerate(usage_list)):\n",
        "        feat = load_feat(os.path.join(feat_dir, mode, f'{fname}.pt'))\n",
        "        cur_len = len(feat)\n",
        "        feat = concat_feat(feat, concat_nframes)\n",
        "        if mode == 'train':\n",
        "          label = torch.LongTensor(label_dict[fname])\n",
        "\n",
        "        X[idx: idx + cur_len, :] = feat\n",
        "        if mode == 'train':\n",
        "          y[idx: idx + cur_len] = label\n",
        "\n",
        "        idx += cur_len\n",
        "\n",
        "    X = X[:idx, :]\n",
        "    if mode == 'train':\n",
        "      y = y[:idx]\n",
        "\n",
        "    print(f'[INFO] {split} set')\n",
        "    print(X.shape)\n",
        "    if mode == 'train':\n",
        "      print(y.shape)\n",
        "      return X, y\n",
        "    else:\n",
        "      return X\n"
      ]
    },
    {
      "cell_type": "markdown",
      "metadata": {
        "id": "us5XW_x6udZQ"
      },
      "source": [
        "# Dataset"
      ]
    },
    {
      "cell_type": "code",
<<<<<<< HEAD
      "execution_count": 4,
=======
      "execution_count": 35,
>>>>>>> 002db66c36a7e25b8585565105054c22928c7f24
      "metadata": {
        "id": "Fjf5EcmJtf4e"
      },
      "outputs": [],
      "source": [
        "import torch\n",
        "from torch.utils.data import Dataset\n",
        "\n",
        "class LibriDataset(Dataset):\n",
        "    def __init__(self, X, y=None):\n",
        "        self.data = X\n",
        "        if y is not None:\n",
        "            self.label = torch.LongTensor(y)\n",
        "        else:\n",
        "            self.label = None\n",
        "\n",
        "    def __getitem__(self, idx):\n",
        "        if self.label is not None:\n",
        "            return self.data[idx], self.label[idx]\n",
        "        else:\n",
        "            return self.data[idx]\n",
        "\n",
        "    def __len__(self):\n",
        "        return len(self.data)\n"
      ]
    },
    {
      "cell_type": "markdown",
      "metadata": {
        "id": "IRqKNvNZwe3V"
      },
      "source": [
        "# Model\n",
        "Feel free to modify the structure of the model."
      ]
    },
    {
      "cell_type": "code",
<<<<<<< HEAD
      "execution_count": 38,
=======
      "execution_count": 36,
>>>>>>> 002db66c36a7e25b8585565105054c22928c7f24
      "metadata": {
        "id": "Bg-GRd7ywdrL"
      },
      "outputs": [],
      "source": [
        "import torch.nn as nn\n",
        "\n",
        "class BasicBlock(nn.Module):\n",
<<<<<<< HEAD
        "    def __init__(self, input_dim, output_dim, dropout_rate=0.3):\n",
        "        super(BasicBlock, self).__init__()\n",
        "        self.block = nn.Sequential(\n",
        "            nn.Linear(input_dim, output_dim),\n",
        "            nn.ReLU(),\n",
        "            nn.LayerNorm(output_dim),\n",
        "            nn.Dropout(dropout_rate)\n",
        "        )\n",
        "\n",
        "    def forward(self, x):\n",
        "        return self.block(x)\n",
        "\n",
        "class Classifier(nn.Module):\n",
        "    def __init__(self, input_dim, output_dim=41, hidden_layers=4, hidden_dim=256):\n",
        "        super(Classifier, self).__init__()\n",
        "        \n",
        "        # RNN layers with specified hidden dimensions\n",
        "        self.rnn1 = nn.LSTM(input_size=input_dim, hidden_size=256, num_layers=1, batch_first=True, bidirectional=True)\n",
        "        self.rnn2 = nn.LSTM(input_size=512, hidden_size=128, num_layers=1, batch_first=True, bidirectional=True)\n",
        "        self.rnn3 = nn.LSTM(input_size=256, hidden_size=64, num_layers=1, batch_first=True, bidirectional=True)\n",
        "        \n",
        "        # Fully connected layers after RNN\n",
        "        self.fc = nn.Sequential(\n",
        "            BasicBlock(128, hidden_dim, dropout_rate=0.4),\n",
        "            *[BasicBlock(hidden_dim, hidden_dim, dropout_rate=0.4) for _ in range(hidden_layers)],\n",
=======
        "    def __init__(self, input_dim, output_dim):\n",
        "        super(BasicBlock, self).__init__()\n",
        "\n",
        "        # TODO: apply batch normalization and dropout for strong baseline.\n",
        "        # Reference: https://pytorch.org/docs/stable/generated/torch.nn.BatchNorm1d.html (batch normalization)\n",
        "        #       https://pytorch.org/docs/stable/generated/torch.nn.Dropout.html (dropout)\n",
        "        self.block = nn.Sequential(\n",
        "            nn.Linear(input_dim, output_dim),\n",
        "            nn.BatchNorm1d(output_dim),\n",
        "            nn.ReLU(),\n",
        "            nn.Dropout(0.5)\n",
        "        )\n",
        "\n",
        "    def forward(self, x):\n",
        "        x = self.block(x)\n",
        "        return x\n",
        "\n",
        "\n",
        "class Classifier(nn.Module):\n",
        "    def __init__(self, input_dim, output_dim=41, hidden_layers=1, hidden_dim=256):\n",
        "        super(Classifier, self).__init__()\n",
        "\n",
        "        self.fc = nn.Sequential(\n",
        "            BasicBlock(input_dim, hidden_dim),\n",
        "            *[BasicBlock(hidden_dim, hidden_dim) for _ in range(hidden_layers)],   # * is a operating of unlist\n",
>>>>>>> 002db66c36a7e25b8585565105054c22928c7f24
        "            nn.Linear(hidden_dim, output_dim)\n",
        "        )\n",
        "\n",
        "    def forward(self, x):\n",
<<<<<<< HEAD
        "        # Passing through each RNN layer\n",
        "        x, _ = self.rnn1(x)\n",
        "        x, _ = self.rnn2(x)\n",
        "        x, _ = self.rnn3(x)\n",
        "        x = x[:, -1, :]\n",
        "        \n",
        "        # Pass through fully connected\n",
        "        x = self.fc(x)\n",
        "        return x\n"
=======
        "        x = self.fc(x)\n",
        "        return x"
>>>>>>> 002db66c36a7e25b8585565105054c22928c7f24
      ]
    },
    {
      "cell_type": "markdown",
      "metadata": {
        "id": "TlIq8JeqvvHC"
      },
      "source": [
        "# Hyper-parameters"
      ]
    },
    {
      "cell_type": "code",
<<<<<<< HEAD
      "execution_count": 39,
=======
      "execution_count": 37,
>>>>>>> 002db66c36a7e25b8585565105054c22928c7f24
      "metadata": {
        "id": "iIHn79Iav1ri"
      },
      "outputs": [],
      "source": [
        "# data prarameters\n",
        "# TODO: change the value of \"concat_nframes\" for medium baseline\n",
<<<<<<< HEAD
        "concat_nframes = 29   # the number of frames to concat with, n must be odd (total 2k+1 = n frames)\n",
        "train_ratio = 0.8   # the ratio of data used for training, the rest will be used for validation\n",
        "\n",
        "# training parameters\n",
        "seed = 1213          # random seed\n",
        "batch_size = 256        # batch size\n",
        "num_epoch = 20        # the number of training epoch\n",
        "learning_rate = 0.0005     # learning rate\n",
=======
        "concat_nframes = 11   # the number of frames to concat with, n must be odd (total 2k+1 = n frames)\n",
        "train_ratio = 0.75   # the ratio of data used for training, the rest will be used for validation\n",
        "\n",
        "# training parameters\n",
        "seed = 1213          # random seed\n",
        "batch_size = 512        # batch size\n",
        "num_epoch = 10         # the number of training epoch\n",
        "learning_rate = 1e-4      # learning rate\n",
>>>>>>> 002db66c36a7e25b8585565105054c22928c7f24
        "model_path = './model.ckpt'  # the path where the checkpoint will be saved\n",
        "\n",
        "# model parameters\n",
        "# TODO: change the value of \"hidden_layers\" or \"hidden_dim\" for medium baseline\n",
        "input_dim = 39 * concat_nframes  # the input dim of the model, you should not change the value\n",
<<<<<<< HEAD
        "#hidden_layers = 5          # the number of hidden layers\n",
        "#hidden_dim = 256       # the hidden dim"
=======
        "hidden_layers = 4          # the number of hidden layers\n",
        "hidden_dim = 64           # the hidden dim"
>>>>>>> 002db66c36a7e25b8585565105054c22928c7f24
      ]
    },
    {
      "cell_type": "markdown",
      "metadata": {
        "id": "IIUFRgG5yoDn"
      },
      "source": [
        "# Dataloader"
      ]
    },
    {
      "cell_type": "code",
<<<<<<< HEAD
      "execution_count": 40,
=======
      "execution_count": 13,
      "metadata": {},
      "outputs": [
        {
          "data": {
            "text/plain": [
              "True"
            ]
          },
          "execution_count": 13,
          "metadata": {},
          "output_type": "execute_result"
        }
      ],
      "source": [
        "torch.cuda.is_available()"
      ]
    },
    {
      "cell_type": "code",
      "execution_count": 38,
>>>>>>> 002db66c36a7e25b8585565105054c22928c7f24
      "metadata": {
        "id": "c1zI3v5jyrDn"
      },
      "outputs": [
        {
          "name": "stdout",
          "output_type": "stream",
          "text": [
<<<<<<< HEAD
            "DEVICE: mps\n",
            "[Dataset] - # phone classes: 41, number of utterances for train: 2743\n"
=======
            "DEVICE: cpu\n",
            "[Dataset] - # phone classes: 41, number of utterances for train: 2571\n"
>>>>>>> 002db66c36a7e25b8585565105054c22928c7f24
          ]
        },
        {
          "name": "stderr",
          "output_type": "stream",
          "text": [
<<<<<<< HEAD
            "2743it [00:12, 223.20it/s]\n"
=======
            "2571it [00:05, 446.11it/s]\n"
>>>>>>> 002db66c36a7e25b8585565105054c22928c7f24
          ]
        },
        {
          "name": "stdout",
          "output_type": "stream",
          "text": [
            "[INFO] train set\n",
<<<<<<< HEAD
            "torch.Size([1694451, 1131])\n",
            "torch.Size([1694451])\n",
            "[Dataset] - # phone classes: 41, number of utterances for val: 686\n"
=======
            "torch.Size([1588590, 429])\n",
            "torch.Size([1588590])\n",
            "[Dataset] - # phone classes: 41, number of utterances for val: 858\n"
>>>>>>> 002db66c36a7e25b8585565105054c22928c7f24
          ]
        },
        {
          "name": "stderr",
          "output_type": "stream",
          "text": [
<<<<<<< HEAD
            "686it [00:03, 177.10it/s]\n"
=======
            "858it [00:01, 458.71it/s]\n"
>>>>>>> 002db66c36a7e25b8585565105054c22928c7f24
          ]
        },
        {
          "name": "stdout",
          "output_type": "stream",
          "text": [
            "[INFO] val set\n",
<<<<<<< HEAD
            "torch.Size([422343, 1131])\n",
            "torch.Size([422343])\n"
=======
            "torch.Size([528204, 429])\n",
            "torch.Size([528204])\n"
>>>>>>> 002db66c36a7e25b8585565105054c22928c7f24
          ]
        }
      ],
      "source": [
        "from torch.utils.data import DataLoader\n",
        "import gc\n",
        "\n",
        "same_seeds(seed)\n",
<<<<<<< HEAD
        "device = 'mps' if torch.backends.mps.is_available() else 'cpu'\n",
=======
        "device = 'cuda' if torch.cuda.is_available() else 'cpu'\n",
>>>>>>> 002db66c36a7e25b8585565105054c22928c7f24
        "print(f'DEVICE: {device}')\n",
        "\n",
        "# preprocess data\n",
        "train_X, train_y = preprocess_data(split='train', feat_dir='./libriphone/feat', phone_path='./libriphone', concat_nframes=concat_nframes, train_ratio=train_ratio, random_seed=seed)\n",
        "val_X, val_y = preprocess_data(split='val', feat_dir='./libriphone/feat', phone_path='./libriphone', concat_nframes=concat_nframes, train_ratio=train_ratio, random_seed=seed)\n",
        "\n",
        "# get dataset\n",
        "train_set = LibriDataset(train_X, train_y)\n",
        "val_set = LibriDataset(val_X, val_y)\n",
        "\n",
        "# remove raw feature to save memory\n",
        "del train_X, train_y, val_X, val_y\n",
        "gc.collect()\n",
        "\n",
        "# get dataloader\n",
        "train_loader = DataLoader(train_set, batch_size=batch_size, shuffle=True)\n",
        "val_loader = DataLoader(val_set, batch_size=batch_size, shuffle=False)"
      ]
    },
    {
      "cell_type": "markdown",
      "metadata": {
        "id": "pwWH1KIqzxEr"
      },
      "source": [
        "# Training"
      ]
    },
    {
      "cell_type": "code",
<<<<<<< HEAD
      "execution_count": 41,
=======
      "execution_count": 39,
>>>>>>> 002db66c36a7e25b8585565105054c22928c7f24
      "metadata": {
        "id": "CdMWsBs7zzNs"
      },
      "outputs": [
        {
          "name": "stderr",
          "output_type": "stream",
          "text": [
<<<<<<< HEAD
            "100%|██████████| 6619/6619 [04:38<00:00, 23.74it/s]\n",
            "100%|██████████| 1650/1650 [00:22<00:00, 72.52it/s]\n"
          ]
        },
        {
          "name": "stdout",
          "output_type": "stream",
          "text": [
            "[001/020] Train Acc: 0.55235 Loss: 1.54944 | Val Acc: 0.61953 loss: 1.29821\n",
            "saving model with acc 0.61953\n"
=======
            "  0%|          | 0/3103 [00:00<?, ?it/s]"
>>>>>>> 002db66c36a7e25b8585565105054c22928c7f24
          ]
        },
        {
          "name": "stderr",
          "output_type": "stream",
          "text": [
<<<<<<< HEAD
            "100%|██████████| 6619/6619 [04:41<00:00, 23.47it/s]\n",
            "100%|██████████| 1650/1650 [00:23<00:00, 69.30it/s]\n"
=======
            "100%|██████████| 3103/3103 [00:50<00:00, 61.02it/s]\n",
            "100%|██████████| 1032/1032 [00:06<00:00, 171.17it/s]\n"
>>>>>>> 002db66c36a7e25b8585565105054c22928c7f24
          ]
        },
        {
          "name": "stdout",
          "output_type": "stream",
          "text": [
<<<<<<< HEAD
            "[002/020] Train Acc: 0.64577 Loss: 1.23069 | Val Acc: 0.64193 loss: 1.22418\n",
            "saving model with acc 0.64193\n"
=======
            "[001/010] Train Acc: 0.20760 Loss: 3.07212 | Val Acc: 0.18928 loss: 3.56507\n",
            "saving model with acc 0.18928\n"
>>>>>>> 002db66c36a7e25b8585565105054c22928c7f24
          ]
        },
        {
          "name": "stderr",
          "output_type": "stream",
          "text": [
<<<<<<< HEAD
            "100%|██████████| 6619/6619 [04:40<00:00, 23.63it/s]\n",
            "100%|██████████| 1650/1650 [00:22<00:00, 74.21it/s]\n"
=======
            "100%|██████████| 3103/3103 [00:51<00:00, 60.47it/s]\n",
            "100%|██████████| 1032/1032 [00:06<00:00, 162.05it/s]\n"
>>>>>>> 002db66c36a7e25b8585565105054c22928c7f24
          ]
        },
        {
          "name": "stdout",
          "output_type": "stream",
          "text": [
<<<<<<< HEAD
            "[003/020] Train Acc: 0.67822 Loss: 1.11941 | Val Acc: 0.65377 loss: 1.18640\n",
            "saving model with acc 0.65377\n"
=======
            "[002/010] Train Acc: 0.25279 Loss: 2.75973 | Val Acc: 0.24933 loss: 2.73958\n",
            "saving model with acc 0.24933\n"
>>>>>>> 002db66c36a7e25b8585565105054c22928c7f24
          ]
        },
        {
          "name": "stderr",
          "output_type": "stream",
          "text": [
<<<<<<< HEAD
            "100%|██████████| 6619/6619 [04:26<00:00, 24.81it/s]\n",
            "100%|██████████| 1650/1650 [00:22<00:00, 74.78it/s]\n"
=======
            "100%|██████████| 3103/3103 [00:52<00:00, 59.08it/s]\n",
            "100%|██████████| 1032/1032 [00:06<00:00, 171.66it/s]\n"
>>>>>>> 002db66c36a7e25b8585565105054c22928c7f24
          ]
        },
        {
          "name": "stdout",
          "output_type": "stream",
          "text": [
<<<<<<< HEAD
            "[004/020] Train Acc: 0.69981 Loss: 1.04358 | Val Acc: 0.65946 loss: 1.18234\n",
            "saving model with acc 0.65946\n"
=======
            "[003/010] Train Acc: 0.28287 Loss: 2.61602 | Val Acc: 0.29899 loss: 2.55777\n",
            "saving model with acc 0.29899\n"
>>>>>>> 002db66c36a7e25b8585565105054c22928c7f24
          ]
        },
        {
          "name": "stderr",
          "output_type": "stream",
          "text": [
<<<<<<< HEAD
            "100%|██████████| 6619/6619 [04:42<00:00, 23.44it/s]\n",
            "100%|██████████| 1650/1650 [00:21<00:00, 75.73it/s]\n"
=======
            "100%|██████████| 3103/3103 [00:53<00:00, 58.53it/s]\n",
            "100%|██████████| 1032/1032 [00:06<00:00, 158.09it/s]\n"
>>>>>>> 002db66c36a7e25b8585565105054c22928c7f24
          ]
        },
        {
          "name": "stdout",
          "output_type": "stream",
          "text": [
<<<<<<< HEAD
            "[005/020] Train Acc: 0.71653 Loss: 0.98421 | Val Acc: 0.66012 loss: 1.19161\n",
            "saving model with acc 0.66012\n"
=======
            "[004/010] Train Acc: 0.29707 Loss: 2.55299 | Val Acc: 0.31871 loss: 2.45207\n",
            "saving model with acc 0.31871\n"
>>>>>>> 002db66c36a7e25b8585565105054c22928c7f24
          ]
        },
        {
          "name": "stderr",
          "output_type": "stream",
          "text": [
<<<<<<< HEAD
            "100%|██████████| 6619/6619 [04:38<00:00, 23.75it/s]\n",
            "100%|██████████| 1650/1650 [00:22<00:00, 73.41it/s]\n"
=======
            "100%|██████████| 3103/3103 [00:54<00:00, 56.65it/s]\n",
            "100%|██████████| 1032/1032 [00:06<00:00, 157.30it/s]\n"
>>>>>>> 002db66c36a7e25b8585565105054c22928c7f24
          ]
        },
        {
          "name": "stdout",
          "output_type": "stream",
          "text": [
<<<<<<< HEAD
            "[006/020] Train Acc: 0.72964 Loss: 0.93774 | Val Acc: 0.66283 loss: 1.19012\n",
            "saving model with acc 0.66283\n"
=======
            "[005/010] Train Acc: 0.30975 Loss: 2.50082 | Val Acc: 0.33436 loss: 2.35584\n",
            "saving model with acc 0.33436\n"
>>>>>>> 002db66c36a7e25b8585565105054c22928c7f24
          ]
        },
        {
          "name": "stderr",
          "output_type": "stream",
          "text": [
<<<<<<< HEAD
            "100%|██████████| 6619/6619 [04:17<00:00, 25.68it/s]\n",
            "100%|██████████| 1650/1650 [00:21<00:00, 75.09it/s]\n"
=======
            "100%|██████████| 3103/3103 [00:52<00:00, 58.55it/s]\n",
            "100%|██████████| 1032/1032 [00:06<00:00, 163.27it/s]\n"
>>>>>>> 002db66c36a7e25b8585565105054c22928c7f24
          ]
        },
        {
          "name": "stdout",
          "output_type": "stream",
          "text": [
<<<<<<< HEAD
            "[007/020] Train Acc: 0.74083 Loss: 0.89808 | Val Acc: 0.66288 loss: 1.19786\n",
            "saving model with acc 0.66288\n"
=======
            "[006/010] Train Acc: 0.32100 Loss: 2.45697 | Val Acc: 0.34451 loss: 2.28971\n",
            "saving model with acc 0.34451\n"
>>>>>>> 002db66c36a7e25b8585565105054c22928c7f24
          ]
        },
        {
          "name": "stderr",
          "output_type": "stream",
          "text": [
<<<<<<< HEAD
            "100%|██████████| 6619/6619 [04:46<00:00, 23.11it/s]\n",
            "100%|██████████| 1650/1650 [00:23<00:00, 71.21it/s]\n"
=======
            "100%|██████████| 3103/3103 [00:52<00:00, 58.77it/s]\n",
            "100%|██████████| 1032/1032 [00:07<00:00, 145.19it/s]\n"
>>>>>>> 002db66c36a7e25b8585565105054c22928c7f24
          ]
        },
        {
          "name": "stdout",
          "output_type": "stream",
          "text": [
<<<<<<< HEAD
            "[008/020] Train Acc: 0.75095 Loss: 0.86316 | Val Acc: 0.66253 loss: 1.21478\n"
=======
            "[007/010] Train Acc: 0.32814 Loss: 2.42448 | Val Acc: 0.35011 loss: 2.25240\n",
            "saving model with acc 0.35011\n"
>>>>>>> 002db66c36a7e25b8585565105054c22928c7f24
          ]
        },
        {
          "name": "stderr",
          "output_type": "stream",
          "text": [
<<<<<<< HEAD
            "100%|██████████| 6619/6619 [04:16<00:00, 25.79it/s]\n",
            "100%|██████████| 1650/1650 [00:21<00:00, 75.02it/s]\n"
=======
            "100%|██████████| 3103/3103 [00:52<00:00, 59.11it/s]\n",
            "100%|██████████| 1032/1032 [00:06<00:00, 152.01it/s]\n"
>>>>>>> 002db66c36a7e25b8585565105054c22928c7f24
          ]
        },
        {
          "name": "stdout",
          "output_type": "stream",
          "text": [
<<<<<<< HEAD
            "[009/020] Train Acc: 0.75938 Loss: 0.83461 | Val Acc: 0.66377 loss: 1.22268\n",
            "saving model with acc 0.66377\n"
=======
            "[008/010] Train Acc: 0.33295 Loss: 2.39900 | Val Acc: 0.35619 loss: 2.23206\n",
            "saving model with acc 0.35619\n"
>>>>>>> 002db66c36a7e25b8585565105054c22928c7f24
          ]
        },
        {
          "name": "stderr",
          "output_type": "stream",
          "text": [
<<<<<<< HEAD
            "100%|██████████| 6619/6619 [05:02<00:00, 21.90it/s]\n",
            "100%|██████████| 1650/1650 [00:23<00:00, 70.47it/s]\n"
=======
            "100%|██████████| 3103/3103 [00:51<00:00, 60.64it/s]\n",
            "100%|██████████| 1032/1032 [00:06<00:00, 161.32it/s]\n"
>>>>>>> 002db66c36a7e25b8585565105054c22928c7f24
          ]
        },
        {
          "name": "stdout",
          "output_type": "stream",
          "text": [
<<<<<<< HEAD
            "[010/020] Train Acc: 0.76714 Loss: 0.80780 | Val Acc: 0.66408 loss: 1.23945\n",
            "saving model with acc 0.66408\n"
=======
            "[009/010] Train Acc: 0.33757 Loss: 2.37788 | Val Acc: 0.36395 loss: 2.18979\n",
            "saving model with acc 0.36395\n"
>>>>>>> 002db66c36a7e25b8585565105054c22928c7f24
          ]
        },
        {
          "name": "stderr",
          "output_type": "stream",
          "text": [
<<<<<<< HEAD
            "100%|██████████| 6619/6619 [04:21<00:00, 25.27it/s]\n",
            "100%|██████████| 1650/1650 [00:21<00:00, 75.12it/s]\n"
=======
            "100%|██████████| 3103/3103 [00:53<00:00, 57.72it/s]\n",
            "100%|██████████| 1032/1032 [00:06<00:00, 171.24it/s]"
>>>>>>> 002db66c36a7e25b8585565105054c22928c7f24
          ]
        },
        {
          "name": "stdout",
          "output_type": "stream",
          "text": [
<<<<<<< HEAD
            "[011/020] Train Acc: 0.77323 Loss: 0.78647 | Val Acc: 0.66108 loss: 1.25988\n"
          ]
        },
        {
          "name": "stderr",
          "output_type": "stream",
          "text": [
            "100%|██████████| 6619/6619 [04:22<00:00, 25.18it/s]\n",
            "100%|██████████| 1650/1650 [00:22<00:00, 74.74it/s]\n"
          ]
        },
        {
          "name": "stdout",
          "output_type": "stream",
          "text": [
            "[012/020] Train Acc: 0.77925 Loss: 0.76491 | Val Acc: 0.66104 loss: 1.27711\n"
          ]
        },
        {
          "name": "stderr",
          "output_type": "stream",
          "text": [
            "100%|██████████| 6619/6619 [04:19<00:00, 25.55it/s]\n",
            "100%|██████████| 1650/1650 [00:22<00:00, 74.65it/s]\n"
          ]
        },
        {
          "name": "stdout",
          "output_type": "stream",
          "text": [
            "[013/020] Train Acc: 0.78458 Loss: 0.74642 | Val Acc: 0.66028 loss: 1.28819\n"
          ]
        },
        {
          "name": "stderr",
          "output_type": "stream",
          "text": [
            "100%|██████████| 6619/6619 [04:56<00:00, 22.32it/s]\n",
            "100%|██████████| 1650/1650 [00:22<00:00, 72.33it/s]\n"
          ]
        },
        {
          "name": "stdout",
          "output_type": "stream",
          "text": [
            "[014/020] Train Acc: 0.78977 Loss: 0.72772 | Val Acc: 0.66052 loss: 1.30177\n"
          ]
        },
        {
          "name": "stderr",
          "output_type": "stream",
          "text": [
            "100%|██████████| 6619/6619 [04:47<00:00, 22.99it/s]\n",
            "100%|██████████| 1650/1650 [00:23<00:00, 68.75it/s]\n"
          ]
        },
        {
          "name": "stdout",
          "output_type": "stream",
          "text": [
            "[015/020] Train Acc: 0.79449 Loss: 0.71290 | Val Acc: 0.65800 loss: 1.31775\n"
          ]
        },
        {
          "name": "stderr",
          "output_type": "stream",
          "text": [
            "100%|██████████| 6619/6619 [06:49<00:00, 16.18it/s]\n",
            "100%|██████████| 1650/1650 [00:25<00:00, 65.36it/s]\n"
          ]
        },
        {
          "name": "stdout",
          "output_type": "stream",
          "text": [
            "[016/020] Train Acc: 0.79850 Loss: 0.69889 | Val Acc: 0.65822 loss: 1.32765\n"
          ]
        },
        {
          "name": "stderr",
          "output_type": "stream",
          "text": [
            "100%|██████████| 6619/6619 [06:22<00:00, 17.28it/s]\n",
            "100%|██████████| 1650/1650 [00:24<00:00, 66.85it/s]\n"
          ]
        },
        {
          "name": "stdout",
          "output_type": "stream",
          "text": [
            "[017/020] Train Acc: 0.80246 Loss: 0.68438 | Val Acc: 0.65550 loss: 1.35651\n"
          ]
        },
        {
          "name": "stderr",
          "output_type": "stream",
          "text": [
            "100%|██████████| 6619/6619 [06:28<00:00, 17.02it/s]\n",
            "100%|██████████| 1650/1650 [00:23<00:00, 70.77it/s]\n"
          ]
        },
        {
          "name": "stdout",
          "output_type": "stream",
          "text": [
            "[018/020] Train Acc: 0.80599 Loss: 0.67211 | Val Acc: 0.65567 loss: 1.36550\n"
          ]
        },
        {
          "name": "stderr",
          "output_type": "stream",
          "text": [
            "100%|██████████| 6619/6619 [06:18<00:00, 17.49it/s]\n",
            "100%|██████████| 1650/1650 [00:23<00:00, 69.23it/s]\n"
          ]
        },
        {
          "name": "stdout",
          "output_type": "stream",
          "text": [
            "[019/020] Train Acc: 0.80915 Loss: 0.66126 | Val Acc: 0.65443 loss: 1.37910\n"
          ]
        },
        {
          "name": "stderr",
          "output_type": "stream",
          "text": [
            "100%|██████████| 6619/6619 [07:42<00:00, 14.31it/s]\n",
            "100%|██████████| 1650/1650 [00:23<00:00, 69.64it/s]"
          ]
        },
        {
          "name": "stdout",
          "output_type": "stream",
          "text": [
            "[020/020] Train Acc: 0.81256 Loss: 0.65043 | Val Acc: 0.65419 loss: 1.37344\n"
=======
            "[010/010] Train Acc: 0.34188 Loss: 2.35910 | Val Acc: 0.37261 loss: 2.17786\n",
            "saving model with acc 0.37261\n"
>>>>>>> 002db66c36a7e25b8585565105054c22928c7f24
          ]
        },
        {
          "name": "stderr",
          "output_type": "stream",
          "text": [
            "\n"
          ]
        }
      ],
      "source": [
        "# create model, define a loss function, and optimizer\n",
<<<<<<< HEAD
        "model = Classifier(input_dim=input_dim).to(device)\n",
=======
        "model = Classifier(input_dim=input_dim, hidden_layers=hidden_layers, hidden_dim=hidden_dim).to(device)\n",
>>>>>>> 002db66c36a7e25b8585565105054c22928c7f24
        "criterion = nn.CrossEntropyLoss()\n",
        "optimizer = torch.optim.Adam(model.parameters(), lr=learning_rate)\n",
        "\n",
        "best_acc = 0.0\n",
        "for epoch in range(num_epoch):\n",
        "    train_acc = 0.0\n",
        "    train_loss = 0.0\n",
        "    val_acc = 0.0\n",
        "    val_loss = 0.0\n",
        "\n",
        "    # training\n",
        "    model.train() # set the model to training mode\n",
        "    for i, batch in enumerate(tqdm(train_loader)):\n",
        "        features, labels = batch\n",
<<<<<<< HEAD
        "        features = features.unsqueeze(1)\n",
=======
>>>>>>> 002db66c36a7e25b8585565105054c22928c7f24
        "        features = features.to(device)\n",
        "        labels = labels.to(device)\n",
        "\n",
        "        optimizer.zero_grad()\n",
        "        outputs = model(features)\n",
        "\n",
        "        loss = criterion(outputs, labels)\n",
        "        loss.backward()\n",
        "        optimizer.step()\n",
        "\n",
        "        _, train_pred = torch.max(outputs, 1) # get the index of the class with the highest probability\n",
        "        train_acc += (train_pred.detach() == labels.detach()).sum().item()\n",
        "        train_loss += loss.item()\n",
        "\n",
        "    # validation\n",
        "    model.eval() # set the model to evaluation mode\n",
        "    with torch.no_grad():\n",
        "        for i, batch in enumerate(tqdm(val_loader)):\n",
        "            features, labels = batch\n",
<<<<<<< HEAD
        "            features = features.unsqueeze(1)\n",
=======
>>>>>>> 002db66c36a7e25b8585565105054c22928c7f24
        "            features = features.to(device)\n",
        "            labels = labels.to(device)\n",
        "            outputs = model(features)\n",
        "\n",
        "            loss = criterion(outputs, labels)\n",
        "\n",
        "            _, val_pred = torch.max(outputs, 1)\n",
        "            val_acc += (val_pred.cpu() == labels.cpu()).sum().item() # get the index of the class with the highest probability\n",
        "            val_loss += loss.item()\n",
        "\n",
        "    print(f'[{epoch+1:03d}/{num_epoch:03d}] Train Acc: {train_acc/len(train_set):3.5f} Loss: {train_loss/len(train_loader):3.5f} | Val Acc: {val_acc/len(val_set):3.5f} loss: {val_loss/len(val_loader):3.5f}')\n",
        "\n",
        "    # if the model improves, save a checkpoint at this epoch\n",
        "    if val_acc > best_acc:\n",
        "        best_acc = val_acc\n",
        "        torch.save(model.state_dict(), model_path)\n",
        "        print(f'saving model with acc {best_acc/len(val_set):.5f}')\n"
      ]
    },
    {
      "cell_type": "code",
<<<<<<< HEAD
      "execution_count": 42,
=======
      "execution_count": 40,
>>>>>>> 002db66c36a7e25b8585565105054c22928c7f24
      "metadata": {
        "id": "ab33MxosWLmG"
      },
      "outputs": [
        {
          "data": {
            "text/plain": [
              "0"
            ]
          },
<<<<<<< HEAD
          "execution_count": 42,
=======
          "execution_count": 40,
>>>>>>> 002db66c36a7e25b8585565105054c22928c7f24
          "metadata": {},
          "output_type": "execute_result"
        }
      ],
      "source": [
        "del train_set, val_set\n",
        "del train_loader, val_loader\n",
        "gc.collect()"
      ]
    },
    {
      "cell_type": "markdown",
      "metadata": {
        "id": "1Hi7jTn3PX-m"
      },
      "source": [
        "# Testing\n",
        "Create a testing dataset, and load model from the saved checkpoint."
      ]
    },
    {
      "cell_type": "code",
<<<<<<< HEAD
      "execution_count": 43,
=======
      "execution_count": 41,
>>>>>>> 002db66c36a7e25b8585565105054c22928c7f24
      "metadata": {
        "id": "VOG1Ou0PGrhc"
      },
      "outputs": [
        {
          "name": "stdout",
          "output_type": "stream",
          "text": [
            "[Dataset] - # phone classes: 41, number of utterances for test: 857\n"
          ]
        },
        {
          "name": "stderr",
          "output_type": "stream",
          "text": [
<<<<<<< HEAD
            "857it [00:01, 500.16it/s]\n"
=======
            "857it [00:01, 498.34it/s]\n"
>>>>>>> 002db66c36a7e25b8585565105054c22928c7f24
          ]
        },
        {
          "name": "stdout",
          "output_type": "stream",
          "text": [
            "[INFO] test set\n",
<<<<<<< HEAD
            "torch.Size([527364, 1131])\n"
=======
            "torch.Size([527364, 429])\n"
>>>>>>> 002db66c36a7e25b8585565105054c22928c7f24
          ]
        }
      ],
      "source": [
        "# load data\n",
        "test_X = preprocess_data(split='test', feat_dir='./libriphone/feat', phone_path='./libriphone', concat_nframes=concat_nframes)\n",
        "test_set = LibriDataset(test_X, None)\n",
        "test_loader = DataLoader(test_set, batch_size=batch_size, shuffle=False)"
      ]
    },
    {
      "cell_type": "code",
<<<<<<< HEAD
      "execution_count": 44,
=======
      "execution_count": 42,
>>>>>>> 002db66c36a7e25b8585565105054c22928c7f24
      "metadata": {
        "id": "ay0Fu8Ovkdad"
      },
      "outputs": [
        {
          "data": {
            "text/plain": [
              "<All keys matched successfully>"
            ]
          },
<<<<<<< HEAD
          "execution_count": 44,
=======
          "execution_count": 42,
>>>>>>> 002db66c36a7e25b8585565105054c22928c7f24
          "metadata": {},
          "output_type": "execute_result"
        }
      ],
      "source": [
        "# load model\n",
<<<<<<< HEAD
        "model = Classifier(input_dim=input_dim, hidden_dim=hidden_dim).to(device)\n",
=======
        "model = Classifier(input_dim=input_dim, hidden_layers=hidden_layers, hidden_dim=hidden_dim).to(device)\n",
>>>>>>> 002db66c36a7e25b8585565105054c22928c7f24
        "model.load_state_dict(torch.load(model_path))"
      ]
    },
    {
      "cell_type": "markdown",
      "metadata": {
        "id": "zp-DV1p4r7Nz"
      },
      "source": [
        "Make prediction."
      ]
    },
    {
      "cell_type": "code",
<<<<<<< HEAD
      "execution_count": 45,
=======
      "execution_count": 43,
>>>>>>> 002db66c36a7e25b8585565105054c22928c7f24
      "metadata": {
        "id": "84HU5GGjPqR0"
      },
      "outputs": [
        {
          "name": "stderr",
          "output_type": "stream",
          "text": [
<<<<<<< HEAD
            "100%|██████████| 2061/2061 [00:15<00:00, 136.61it/s]\n"
=======
            "100%|██████████| 1031/1031 [00:04<00:00, 255.24it/s]\n"
>>>>>>> 002db66c36a7e25b8585565105054c22928c7f24
          ]
        }
      ],
      "source": [
        "pred = np.array([], dtype=np.int32)\n",
        "\n",
        "model.eval()\n",
        "with torch.no_grad():\n",
        "    for i, batch in enumerate(tqdm(test_loader)):\n",
        "        features = batch\n",
<<<<<<< HEAD
        "        features = features.unsqueeze(1)\n",
=======
>>>>>>> 002db66c36a7e25b8585565105054c22928c7f24
        "        features = features.to(device)\n",
        "\n",
        "        outputs = model(features)\n",
        "\n",
        "        _, test_pred = torch.max(outputs, 1) # get the index of the class with the highest probability\n",
        "        pred = np.concatenate((pred, test_pred.cpu().numpy()), axis=0)\n"
      ]
    },
    {
      "cell_type": "markdown",
      "metadata": {
        "id": "wyZqy40Prz0v"
      },
      "source": [
        "Write prediction to a CSV file.\n",
        "\n",
        "After finish running this block, download the file `prediction.csv` from the files section on the left-hand side and submit it to Kaggle."
      ]
    },
    {
      "cell_type": "code",
<<<<<<< HEAD
      "execution_count": 46,
=======
      "execution_count": 44,
>>>>>>> 002db66c36a7e25b8585565105054c22928c7f24
      "metadata": {
        "id": "GuljYSPHcZir"
      },
      "outputs": [],
      "source": [
        "with open('prediction.csv', 'w') as f:\n",
        "    f.write('Id,Class\\n')\n",
        "    for i, y in enumerate(pred):\n",
        "        f.write('{},{}\\n'.format(i, y))"
      ]
<<<<<<< HEAD
    },
    {
      "cell_type": "code",
      "execution_count": null,
      "metadata": {},
      "outputs": [],
      "source": []
=======
>>>>>>> 002db66c36a7e25b8585565105054c22928c7f24
    }
  ],
  "metadata": {
    "accelerator": "GPU",
    "colab": {
      "provenance": []
    },
    "kernelspec": {
      "display_name": "Python 3",
      "name": "python3"
    },
    "language_info": {
      "codemirror_mode": {
        "name": "ipython",
        "version": 3
      },
      "file_extension": ".py",
      "mimetype": "text/x-python",
      "name": "python",
      "nbconvert_exporter": "python",
      "pygments_lexer": "ipython3",
      "version": "3.11.3"
    }
  },
  "nbformat": 4,
  "nbformat_minor": 0
}
